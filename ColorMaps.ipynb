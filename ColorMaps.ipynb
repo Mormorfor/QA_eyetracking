{
 "cells": [
  {
   "cell_type": "code",
   "id": "initial_id",
   "metadata": {
    "collapsed": true,
    "ExecuteTime": {
     "end_time": "2025-03-26T09:50:27.592989Z",
     "start_time": "2025-03-26T09:50:27.579162Z"
    }
   },
   "source": [
    "import pandas as pd\n",
    "import numpy as np\n",
    "import ast\n",
    "from itertools import combinations\n",
    "\n",
    "import seaborn as sns\n",
    "import matplotlib.pyplot as plt\n",
    "import matplotlib.patches as mpatches\n",
    "\n",
    "from scipy.stats import mannwhitneyu\n",
    "from scipy.stats import wilcoxon\n",
    "\n",
    "import statsmodels.formula.api as smf\n",
    "from statsmodels.tools.sm_exceptions import ConvergenceWarning\n",
    "import warnings"
   ],
   "outputs": [],
   "execution_count": 58
  },
  {
   "metadata": {
    "ExecuteTime": {
     "end_time": "2025-03-26T09:50:56.317476Z",
     "start_time": "2025-03-26T09:50:27.598753Z"
    }
   },
   "cell_type": "code",
   "source": [
    "ia_A_path = \"full/ia_A.csv\"\n",
    "df_A = pd.read_csv(ia_A_path)"
   ],
   "id": "dedbf661f4f544da",
   "outputs": [],
   "execution_count": 59
  },
  {
   "metadata": {
    "ExecuteTime": {
     "end_time": "2025-03-26T09:50:57.486599Z",
     "start_time": "2025-03-26T09:50:56.427582Z"
    }
   },
   "cell_type": "code",
   "source": [
    "article_col='article_id'\n",
    "difficulty_col='difficulty_level'\n",
    "batch_col='article_batch'\n",
    "paragraph_col='paragraph_id'\n",
    "\n",
    "df_A['text_id'] = (\n",
    "    df_A[article_col].astype(str) + '_' +\n",
    "    df_A[difficulty_col].astype(str) + '_' +\n",
    "    df_A[batch_col].astype(str) + '_' +\n",
    "    df_A[paragraph_col].astype(str)\n",
    ")"
   ],
   "id": "1d3e4dfc0bde5923",
   "outputs": [],
   "execution_count": 60
  },
  {
   "metadata": {
    "ExecuteTime": {
     "end_time": "2025-03-26T09:51:03.378459Z",
     "start_time": "2025-03-26T09:50:57.552660Z"
    }
   },
   "cell_type": "code",
   "source": [
    "df_A_filtered = df_A[(df_A['repeated_reading_trial'] == False) & ((df_A['practice_trial'] == False))]\n",
    "\n",
    "df_A_hunters = df_A_filtered[df_A_filtered['question_preview'] == True]\n",
    "df_A_gatherers = df_A_filtered[df_A_filtered['question_preview'] == False]"
   ],
   "id": "c8da7a9980fb5899",
   "outputs": [],
   "execution_count": 61
  },
  {
   "metadata": {
    "ExecuteTime": {
     "end_time": "2025-03-26T09:51:03.471034Z",
     "start_time": "2025-03-26T09:51:03.443753Z"
    }
   },
   "cell_type": "code",
   "source": [
    "def create_area_screen_loc(df):\n",
    "    df = df.copy()\n",
    "    for col in ['question', 'answer_1', 'answer_2', 'answer_3', 'answer_4']:\n",
    "        df[col] = df[col].fillna('').astype(str)\n",
    "\n",
    "    df['question_tokens'] = df['question'].str.split()\n",
    "    df['1_tokens'] = df['answer_1'].str.split()\n",
    "    df['2_tokens'] = df['answer_2'].str.split()\n",
    "    df['3_tokens'] = df['answer_3'].str.split()\n",
    "    df['4_tokens'] = df['answer_4'].str.split()\n",
    "\n",
    "    df['question_len'] = df['question_tokens'].apply(len)\n",
    "    df['1_len'] = df['1_tokens'].apply(len)\n",
    "    df['2_len'] = df['2_tokens'].apply(len)\n",
    "    df['3_len'] = df['3_tokens'].apply(len)\n",
    "    df['4_len'] = df['4_tokens'].apply(len)\n",
    "\n",
    "    def assign_area(group):\n",
    "        q_len = group['question_len'].iloc[0]\n",
    "        first_len = group['1_len'].iloc[0]\n",
    "        second_len = group['2_len'].iloc[0]\n",
    "        third_len = group['3_len'].iloc[0]\n",
    "        fourth_len = group['4_len'].iloc[0]\n",
    "\n",
    "        q_end = q_len - 1\n",
    "        first_end = q_len + first_len - 1\n",
    "        second_end = q_len + first_len + second_len - 1\n",
    "        third_end = q_len + first_len + second_len + third_len - 1\n",
    "        fourth_end = q_len + first_len + second_len + third_len + fourth_len\n",
    "\n",
    "        index_id = group['IA_ID'] - 1\n",
    "\n",
    "        conditions = [\n",
    "            (index_id <= q_end),\n",
    "            (index_id > q_end) & (index_id <= first_end),\n",
    "            (index_id > first_end) & (index_id <= second_end),\n",
    "            (index_id > second_end) & (index_id <= third_end),\n",
    "            (index_id > third_end) & (index_id <= fourth_end)\n",
    "        ]\n",
    "\n",
    "        choices = ['question', 'answer_0', 'answer_1', 'answer_2', 'answer_3']\n",
    "        group['area_screen_loc'] = np.select(conditions, choices, default='unknown')\n",
    "        return group\n",
    "\n",
    "    df_area_split = df.set_index(['TRIAL_INDEX', 'participant_id']).groupby(['TRIAL_INDEX', 'participant_id'], group_keys=False).apply(assign_area)\n",
    "    return df_area_split"
   ],
   "id": "9e938dfd23afc2cd",
   "outputs": [],
   "execution_count": 62
  },
  {
   "metadata": {
    "ExecuteTime": {
     "end_time": "2025-03-26T09:51:03.565076Z",
     "start_time": "2025-03-26T09:51:03.552005Z"
    }
   },
   "cell_type": "code",
   "source": [
    "def create_correct_answer(df):\n",
    "    df = df.copy()\n",
    "    df['is_correct'] = (df['selected_answer_position'] == df['correct_answer_position']).astype(int)\n",
    "    return df"
   ],
   "id": "e9fa5a70ffd034e7",
   "outputs": [],
   "execution_count": 63
  },
  {
   "metadata": {
    "ExecuteTime": {
     "end_time": "2025-03-26T09:51:03.642385Z",
     "start_time": "2025-03-26T09:51:03.629062Z"
    }
   },
   "cell_type": "code",
   "source": [
    "def create_area_label(df):\n",
    "    def get_screen_loc(row):\n",
    "        if row['area_screen_loc'] == 'question':\n",
    "            return 'question'\n",
    "        elif row['area_screen_loc'].startswith('answer_'):\n",
    "            answers_order = ast.literal_eval(row['answers_order'])\n",
    "            idx = int(row['area_screen_loc'].split('_')[1])\n",
    "            return f'answer_{answers_order[idx]}'\n",
    "        return None\n",
    "\n",
    "    df['area_label'] = df.apply(get_screen_loc, axis=1)\n",
    "    return df"
   ],
   "id": "ad572b42fe583a68",
   "outputs": [],
   "execution_count": 64
  },
  {
   "metadata": {
    "ExecuteTime": {
     "end_time": "2025-03-26T09:51:03.704690Z",
     "start_time": "2025-03-26T09:51:03.691290Z"
    }
   },
   "cell_type": "code",
   "source": [
    "def create_selected_answer_label(df):\n",
    "    df = df.copy()\n",
    "    df['answers_order'] = df['answers_order'].apply(ast.literal_eval)\n",
    "    df['selected_answer_label'] = df.apply(lambda row: row['answers_order'][row['selected_answer_position']], axis=1)\n",
    "    return df"
   ],
   "id": "d58ba5fe48d7cccb",
   "outputs": [],
   "execution_count": 65
  },
  {
   "metadata": {
    "ExecuteTime": {
     "end_time": "2025-03-26T09:51:03.765284Z",
     "start_time": "2025-03-26T09:51:03.751223Z"
    }
   },
   "cell_type": "code",
   "source": [
    "def created_selected_area_bool(df):\n",
    "    area_mapping = {\n",
    "    'A': 'answer_A',\n",
    "    'B': 'answer_B',\n",
    "    'C': 'answer_C',\n",
    "    'D': 'answer_D'\n",
    "    }\n",
    "\n",
    "    df['selected_area'] = df['selected_answer_label'].map(area_mapping)\n",
    "    df['is_selected_area'] = df['area_label'] == df['selected_area']\n",
    "    return df"
   ],
   "id": "ba3d001438eb522c",
   "outputs": [],
   "execution_count": 66
  },
  {
   "metadata": {
    "ExecuteTime": {
     "end_time": "2025-03-26T09:51:03.842999Z",
     "start_time": "2025-03-26T09:51:03.830100Z"
    }
   },
   "cell_type": "code",
   "source": [
    "def filter_fixation_sequence_by_ia_id(df):\n",
    "    df_new = df.copy()\n",
    "\n",
    "    def filter_group(group):\n",
    "        valid_ids = set(group['IA_ID'].dropna().unique())\n",
    "        group = group.copy()\n",
    "        group['INTEREST_AREA_FIXATION_SEQUENCE_clean'] = group['INTEREST_AREA_FIXATION_SEQUENCE'].apply(\n",
    "            lambda seq: [x for x in seq if x in valid_ids] if isinstance(seq, list) else seq\n",
    "        )\n",
    "        return group\n",
    "\n",
    "    df_new = df_new.groupby(['TRIAL_INDEX', 'participant_id'], group_keys=False).apply(filter_group)\n",
    "    return df_new"
   ],
   "id": "aec7b087d465f0ae",
   "outputs": [],
   "execution_count": 67
  },
  {
   "metadata": {
    "ExecuteTime": {
     "end_time": "2025-03-26T09:54:07.720276Z",
     "start_time": "2025-03-26T09:51:03.922671Z"
    }
   },
   "cell_type": "code",
   "source": [
    "def process_dataframe(df, functions):\n",
    "    for func in functions:\n",
    "        print(func)\n",
    "        df = func(df)\n",
    "    return df.reset_index()\n",
    "\n",
    "processing_functions = [\n",
    "    create_correct_answer,\n",
    "    create_area_screen_loc,\n",
    "    create_area_label,\n",
    "    create_selected_answer_label,\n",
    "    created_selected_area_bool,\n",
    "    filter_fixation_sequence_by_ia_id,\n",
    "]\n",
    "\n",
    "df_base_features_h = process_dataframe(df_A_hunters, processing_functions)\n",
    "df_base_features_g = process_dataframe(df_A_gatherers, processing_functions)"
   ],
   "id": "1da161328d650dd3",
   "outputs": [
    {
     "name": "stdout",
     "output_type": "stream",
     "text": [
      "<function create_correct_answer at 0x0000023DC8D435B0>\n",
      "<function create_area_screen_loc at 0x0000023EEE759240>\n",
      "<function create_area_label at 0x0000023E0200C940>\n",
      "<function create_selected_answer_label at 0x0000023DFCC469E0>\n",
      "<function created_selected_area_bool at 0x0000023BA0F23130>\n",
      "<function filter_fixation_sequence_by_ia_id at 0x0000023DC6175BD0>\n",
      "<function create_correct_answer at 0x0000023DC8D435B0>\n",
      "<function create_area_screen_loc at 0x0000023EEE759240>\n",
      "<function create_area_label at 0x0000023E0200C940>\n",
      "<function create_selected_answer_label at 0x0000023DFCC469E0>\n",
      "<function created_selected_area_bool at 0x0000023BA0F23130>\n",
      "<function filter_fixation_sequence_by_ia_id at 0x0000023DC6175BD0>\n"
     ]
    }
   ],
   "execution_count": 68
  },
  {
   "metadata": {
    "ExecuteTime": {
     "end_time": "2025-03-26T09:54:07.890384Z",
     "start_time": "2025-03-26T09:54:07.875257Z"
    }
   },
   "cell_type": "code",
   "source": [
    "# def create_fixation_sequence_tags(df):\n",
    "#     ia_id_to_label = dict(zip(df['IA_ID'], df['area_label']))\n",
    "#     ia_id_to_location = dict(zip(df['IA_ID'], df['area_screen_loc']))\n",
    "#\n",
    "#     result = []\n",
    "#     for (trial_index, participant_id), group in df.groupby(['TRIAL_INDEX', 'participant_id']):\n",
    "#         sequence_str = group['INTEREST_AREA_FIXATION_SEQUENCE_clean'].iloc[0]\n",
    "#         sequence = eval(sequence_str)\n",
    "#         label_sequence = [ia_id_to_label.get(ia_id, 'out_of_bounds') for ia_id in sequence]\n",
    "#         location_sequence = [ia_id_to_location.get(ia_id, 'out_of_bounds') for ia_id in sequence]\n",
    "#         result.append({\n",
    "#             'TRIAL_INDEX': trial_index,\n",
    "#             'participant_id': participant_id,\n",
    "#             'fix_by_label': label_sequence,\n",
    "#             'fix_by_loc': location_sequence\n",
    "#         })\n",
    "#\n",
    "#     return pd.DataFrame(result)"
   ],
   "id": "7f3365c133b23f31",
   "outputs": [],
   "execution_count": 69
  },
  {
   "metadata": {
    "ExecuteTime": {
     "end_time": "2025-03-26T09:54:07.921382Z",
     "start_time": "2025-03-26T09:54:07.896505Z"
    }
   },
   "cell_type": "code",
   "source": [
    "def create_fixation_sequence_tags_no_unknowns(df):\n",
    "    ia_id_to_label = dict(zip(df['IA_ID'], df['area_label']))\n",
    "    ia_id_to_location = dict(zip(df['IA_ID'], df['area_screen_loc']))\n",
    "\n",
    "    result = []\n",
    "    for (trial_index, participant_id), group in df.groupby(['TRIAL_INDEX', 'participant_id']):\n",
    "        sequence_str = group['INTEREST_AREA_FIXATION_SEQUENCE_clean'].iloc[0]\n",
    "        sequence = eval(sequence_str)\n",
    "        label_sequence = []\n",
    "        location_sequence = []\n",
    "        for ia_id in sequence:\n",
    "            if ia_id not in ia_id_to_label or ia_id not in ia_id_to_location:\n",
    "                continue\n",
    "            label_sequence.append(ia_id_to_label[ia_id])\n",
    "            location_sequence.append(ia_id_to_location[ia_id])\n",
    "        result.append({\n",
    "            'TRIAL_INDEX': trial_index,\n",
    "            'participant_id': participant_id,\n",
    "            'fix_by_label_clean': label_sequence,\n",
    "            'fix_by_loc_clean': location_sequence\n",
    "        })\n",
    "\n",
    "    return pd.DataFrame(result)"
   ],
   "id": "fbe9b4600bdde57",
   "outputs": [],
   "execution_count": 70
  },
  {
   "metadata": {
    "ExecuteTime": {
     "end_time": "2025-03-26T09:54:07.999129Z",
     "start_time": "2025-03-26T09:54:07.986081Z"
    }
   },
   "cell_type": "code",
   "source": [
    "def generate_new_row_features(functions, df, default_join_columns=['TRIAL_INDEX', 'participant_id', 'area_label']):\n",
    "    result_df = df.copy()\n",
    "\n",
    "    for func_tuple in functions:\n",
    "        func, func_kwargs = func_tuple\n",
    "        print(func)\n",
    "\n",
    "        join_columns = func_kwargs.get('join_columns', default_join_columns)\n",
    "\n",
    "        new_features_df = func(df)\n",
    "        result_df = result_df.merge(new_features_df, on=join_columns, how='left')\n",
    "\n",
    "    return result_df"
   ],
   "id": "31da60300279bcaf",
   "outputs": [],
   "execution_count": 71
  },
  {
   "metadata": {
    "ExecuteTime": {
     "end_time": "2025-03-26T09:54:24.022777Z",
     "start_time": "2025-03-26T09:54:08.063245Z"
    }
   },
   "cell_type": "code",
   "source": [
    "per_row_feature_generators = [\n",
    "    #(create_fixation_sequence_tags, {'join_columns': ['TRIAL_INDEX', 'participant_id']}),\n",
    "    (create_fixation_sequence_tags_no_unknowns, {'join_columns': ['TRIAL_INDEX', 'participant_id']})\n",
    "]\n",
    "\n",
    "df_with_features_h = generate_new_row_features(per_row_feature_generators, df_base_features_h)\n",
    "df_with_features_g = generate_new_row_features(per_row_feature_generators, df_base_features_g)"
   ],
   "id": "19d807b8477cba7d",
   "outputs": [
    {
     "name": "stdout",
     "output_type": "stream",
     "text": [
      "<function create_fixation_sequence_tags_no_unknowns at 0x0000023DC7330CA0>\n",
      "<function create_fixation_sequence_tags_no_unknowns at 0x0000023DC7330CA0>\n"
     ]
    }
   ],
   "execution_count": 72
  },
  {
   "metadata": {
    "ExecuteTime": {
     "end_time": "2025-03-26T09:54:24.116194Z",
     "start_time": "2025-03-26T09:54:24.103336Z"
    }
   },
   "cell_type": "code",
   "source": [
    "categories_label = {\n",
    "    \"question\": \"#74a9cf\",\n",
    "    \"answer_A\": \"#238b45\",\n",
    "    \"answer_B\": \"#74c476\",\n",
    "    \"answer_C\": \"#bae4b3\",\n",
    "    \"answer_D\": \"#edf8e9\",\n",
    "\n",
    "    \"A\": \"green\",\n",
    "    \"B\": \"gold\",\n",
    "    \"C\": \"darkorange\",\n",
    "    \"D\": \"red\",\n",
    "\n",
    "    \"out_of_bounds\": \"white\"\n",
    "}\n",
    "\n",
    "categories_loc = {\n",
    "    \"question\": \"#74a9cf\",\n",
    "    'answer_0': \"#ffffb2\",\n",
    "    'answer_1': \"#fecc5c\",\n",
    "    'answer_2': \"#fd8d3c\",\n",
    "    'answer_3': \"#e31a1c\",\n",
    "\n",
    "    \"A\": \"green\",\n",
    "    \"B\": \"gold\",\n",
    "    \"C\": \"darkorange\",\n",
    "    \"D\": \"red\",\n",
    "\n",
    "    \"out_of_bounds\": \"white\"\n",
    "}\n",
    "\n",
    "legend_mapping_label = {\n",
    "    \"question\": \"Question\",\n",
    "    \"answer_A\": \"Answer A\",\n",
    "    \"answer_B\": \"Answer B\",\n",
    "    \"answer_C\": \"Answer C\",\n",
    "    \"answer_D\": \"Answer D\",\n",
    "    \"out_of_bounds\": \"Unclear\",\n",
    "\n",
    "    \"A\": None,\n",
    "    \"B\": None,\n",
    "    \"C\": None,\n",
    "    \"D\": None,\n",
    "}\n",
    "\n",
    "legend_mapping_loc = {\n",
    "    \"out_of_bounds\": \"Unclear\",\n",
    "    \"question\": \"Question\",\n",
    "    \"answer_0\": \"First A on screen\",\n",
    "    \"answer_1\": \"Second A on screen\",\n",
    "    \"answer_2\": \"Third A on screen\",\n",
    "    \"answer_3\": \"Fourth A on screen\",\n",
    "\n",
    "    \"A\": None,\n",
    "    \"B\": None,\n",
    "    \"C\": None,\n",
    "    \"D\": None,\n",
    "}"
   ],
   "id": "1602a9c64759f119",
   "outputs": [],
   "execution_count": 73
  },
  {
   "metadata": {
    "ExecuteTime": {
     "end_time": "2025-03-26T09:54:24.208855Z",
     "start_time": "2025-03-26T09:54:24.182514Z"
    }
   },
   "cell_type": "code",
   "source": [
    "def visualize_stacked_rows_with_two_labels(data_rows, categories, selected_answer_labels, additional_labels, num_rows=100, start_index=0, legend_mapping=None):\n",
    "    selected_rows = data_rows[start_index:start_index + num_rows]\n",
    "    selected_labels = selected_answer_labels[start_index:start_index + num_rows]\n",
    "    additional_labels = additional_labels[start_index:start_index + num_rows]\n",
    "\n",
    "\n",
    "    max_length = max(len(row) for row in selected_rows) + 2  # +2 to account for the labels\n",
    "\n",
    "    color_data = []\n",
    "    for row in selected_rows:\n",
    "        color_row = [categories.get(value, \"gray\") for value in row] + [\"white\"] * (max_length - len(row))\n",
    "        color_data.append(color_row)\n",
    "\n",
    "    plt.figure(figsize=(15, num_rows * 0.3))\n",
    "    for i, (color_row, label, additional_label) in enumerate(zip(color_data, selected_labels, additional_labels)):\n",
    "        plt.bar(range(max_length), [1] * max_length, color=color_row, width=1.0, edgecolor='none', bottom=i)\n",
    "        plt.text(-3.5, i + 0.5, str(additional_label), va='center', ha='right', fontsize=10, color=categories.get(additional_label, \"black\"))\n",
    "        plt.text(-1.5, i + 0.5, str(label), va='center', ha='right', fontsize=10, color=categories.get(label, \"black\"))\n",
    "\n",
    "    plt.axis('off')\n",
    "\n",
    "    if legend_mapping:\n",
    "        legend_handles = [\n",
    "            mpatches.Patch(color=categories.get(original_label, \"gray\"), label=new_label)\n",
    "            for original_label, new_label in legend_mapping.items()\n",
    "            if new_label is not None\n",
    "        ]\n",
    "    else:\n",
    "        legend_handles = [\n",
    "            mpatches.Patch(color=color, label=str(label)) for label, color in categories.items()\n",
    "        ]\n",
    "\n",
    "    plt.legend(handles=legend_handles, bbox_to_anchor=(1.05, 1), loc='upper left', title=\"Categories\")\n",
    "\n",
    "    plt.tight_layout()\n",
    "    plt.show()"
   ],
   "id": "3db147bf5b3f47ca",
   "outputs": [],
   "execution_count": 74
  },
  {
   "metadata": {
    "ExecuteTime": {
     "end_time": "2025-03-26T09:54:25.770350Z",
     "start_time": "2025-03-26T09:54:24.288828Z"
    }
   },
   "cell_type": "code",
   "source": [
    "df_with_features_h['fix_by_label_clean'] = df_with_features_h['fix_by_label_clean'].apply(lambda x: tuple(x) if isinstance(x, list) else x)\n",
    "df_with_features_g['fix_by_label_clean'] = df_with_features_g['fix_by_label_clean'].apply(lambda x: tuple(x) if isinstance(x, list) else x)\n",
    "df_with_features_h['fix_by_loc_clean'] = df_with_features_h['fix_by_loc_clean'].apply(lambda x: tuple(x) if isinstance(x, list) else x)\n",
    "df_with_features_g['fix_by_loc_clean'] = df_with_features_g['fix_by_loc_clean'].apply(lambda x: tuple(x) if isinstance(x, list) else x)\n",
    "\n",
    "data_rows_h = df_with_features_h[['TRIAL_INDEX', 'participant_id', 'text_id', 'fix_by_label_clean', 'fix_by_loc_clean','selected_answer_label', 'correct_answer_position']].drop_duplicates().reset_index()\n",
    "data_rows_g = df_with_features_g[['TRIAL_INDEX', 'participant_id', 'text_id', 'fix_by_label_clean', 'fix_by_loc_clean','selected_answer_label', 'correct_answer_position']].drop_duplicates().reset_index()"
   ],
   "id": "4437a4040fd875c2",
   "outputs": [],
   "execution_count": 75
  },
  {
   "metadata": {
    "ExecuteTime": {
     "end_time": "2025-03-26T09:54:25.863324Z",
     "start_time": "2025-03-26T09:54:25.833840Z"
    }
   },
   "cell_type": "code",
   "source": [
    "import random\n",
    "\n",
    "def visualize_by_id(data, by_person_or_text, fix_by, identifier=None):\n",
    "    if by_person_or_text not in ['person', 'text']:\n",
    "        raise ValueError(\"The 'by_person_or_text' parameter must be either 'person' or 'text'.\")\n",
    "\n",
    "    if fix_by not in ['label', 'loc']:\n",
    "        raise ValueError(\"The 'fix_by' parameter must be either 'label' or 'loc'.\")\n",
    "\n",
    "    if fix_by == 'label':\n",
    "        categories = categories_label\n",
    "        legend_mapping = legend_mapping_label\n",
    "        data_column = 'fix_by_label_clean'\n",
    "    else:  # fix_by == 'loc'\n",
    "        categories = categories_loc\n",
    "        legend_mapping = legend_mapping_loc\n",
    "        data_column = 'fix_by_loc_clean'\n",
    "\n",
    "    filter_column = 'participant_id' if by_person_or_text == 'person' else 'text_id'\n",
    "\n",
    "    if identifier is None:\n",
    "        available_ids = data[filter_column].dropna().unique()\n",
    "        if len(available_ids) == 0:\n",
    "            raise ValueError(f\"No valid entries found in column '{filter_column}'.\")\n",
    "        identifier = random.choice(available_ids)\n",
    "        print(f\"Randomly selected {filter_column}: {identifier}\")\n",
    "\n",
    "    subset = data[data[filter_column] == identifier]\n",
    "    if subset.empty:\n",
    "        print(f\"No data found for {filter_column} = {identifier}.\")\n",
    "        return\n",
    "\n",
    "    try:\n",
    "        fix_data_rows = subset[data_column].tolist()\n",
    "    except KeyError:\n",
    "        raise KeyError(f\"Column '{data_column}' not found in the data.\")\n",
    "\n",
    "    selected_answer_labels = subset['selected_answer_label'].tolist()\n",
    "    additional_labels = subset['correct_answer_position'].tolist()\n",
    "\n",
    "    visualize_stacked_rows_with_two_labels(\n",
    "        fix_data_rows, categories, selected_answer_labels, additional_labels,\n",
    "        num_rows=len(fix_data_rows), legend_mapping=legend_mapping\n",
    "    )\n",
    "\n"
   ],
   "id": "5563b47ba4490e19",
   "outputs": [],
   "execution_count": 76
  },
  {
   "metadata": {
    "ExecuteTime": {
     "end_time": "2025-03-26T09:57:51.891676Z",
     "start_time": "2025-03-26T09:57:48.652086Z"
    }
   },
   "cell_type": "code",
   "source": "visualize_by_id(data_rows_h, by_person_or_text='text', fix_by='label', identifier=None)",
   "id": "b1599a76a16e2a7b",
   "outputs": [
    {
     "name": "stdout",
     "output_type": "stream",
     "text": [
      "Randomly selected text_id: 1_Ele_3_1\n"
     ]
    },
    {
     "data": {
      "text/plain": [
       "<Figure size 1500x900 with 1 Axes>"
      ],
      "image/png": "[encoded data removed]"
     },
     "metadata": {},
     "output_type": "display_data"
    }
   ],
   "execution_count": 89
  }
 ],
 "metadata": {
  "kernelspec": {
   "display_name": "Python 3",
   "language": "python",
   "name": "python3"
  },
  "language_info": {
   "codemirror_mode": {
    "name": "ipython",
    "version": 2
   },
   "file_extension": ".py",
   "mimetype": "text/x-python",
   "name": "python",
   "nbconvert_exporter": "python",
   "pygments_lexer": "ipython2",
   "version": "2.7.6"
  }
 },
 "nbformat": 4,
 "nbformat_minor": 5
}
