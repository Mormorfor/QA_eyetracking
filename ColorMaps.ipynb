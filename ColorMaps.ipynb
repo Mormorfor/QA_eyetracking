{
 "cells": [
  {
   "cell_type": "code",
   "id": "initial_id",
   "metadata": {
    "collapsed": true,
    "ExecuteTime": {
     "end_time": "2025-03-09T12:51:41.989308Z",
     "start_time": "2025-03-09T12:51:41.791044Z"
    }
   },
   "source": [
    "import pandas as pd\n",
    "import numpy as np\n",
    "import ast\n",
    "from itertools import combinations\n",
    "\n",
    "import seaborn as sns\n",
    "import matplotlib.pyplot as plt\n",
    "import matplotlib.patches as mpatches\n",
    "\n",
    "from scipy.stats import mannwhitneyu\n",
    "from scipy.stats import wilcoxon\n",
    "\n",
    "import statsmodels.formula.api as smf\n",
    "from statsmodels.tools.sm_exceptions import ConvergenceWarning\n",
    "import warnings"
   ],
   "outputs": [],
   "execution_count": 1
  },
  {
   "metadata": {
    "ExecuteTime": {
     "end_time": "2025-03-09T12:52:04.785504Z",
     "start_time": "2025-03-09T12:51:42.013632Z"
    }
   },
   "cell_type": "code",
   "source": [
    "ia_A_path = \"full/ia_A.csv\"\n",
    "df_A = pd.read_csv(ia_A_path)"
   ],
   "id": "dedbf661f4f544da",
   "outputs": [],
   "execution_count": 2
  },
  {
   "metadata": {
    "ExecuteTime": {
     "end_time": "2025-03-09T12:52:06.427023Z",
     "start_time": "2025-03-09T12:52:05.552182Z"
    }
   },
   "cell_type": "code",
   "source": [
    "article_col='article_id'\n",
    "difficulty_col='difficulty_level'\n",
    "batch_col='article_batch'\n",
    "paragraph_col='paragraph_id'\n",
    "\n",
    "df_A['text_id'] = (\n",
    "    df_A[article_col].astype(str) + '_' +\n",
    "    df_A[difficulty_col].astype(str) + '_' +\n",
    "    df_A[batch_col].astype(str) + '_' +\n",
    "    df_A[paragraph_col].astype(str)\n",
    ")"
   ],
   "id": "1d3e4dfc0bde5923",
   "outputs": [],
   "execution_count": 3
  },
  {
   "metadata": {
    "ExecuteTime": {
     "end_time": "2025-03-09T12:52:08.002595Z",
     "start_time": "2025-03-09T12:52:06.445441Z"
    }
   },
   "cell_type": "code",
   "source": [
    "df_A_filtered = df_A[(df_A['repeated_reading_trial'] == False) & ((df_A['practice_trial'] == False))]\n",
    "\n",
    "df_A_hunters = df_A_filtered[df_A_filtered['question_preview'] == True]\n",
    "df_A_gatherers = df_A_filtered[df_A_filtered['question_preview'] == False]"
   ],
   "id": "c8da7a9980fb5899",
   "outputs": [],
   "execution_count": 4
  },
  {
   "metadata": {
    "ExecuteTime": {
     "end_time": "2025-03-09T12:52:08.049118Z",
     "start_time": "2025-03-09T12:52:08.035046Z"
    }
   },
   "cell_type": "code",
   "source": [
    "def create_area_label(df):\n",
    "    for col in ['question', 'answer_1', 'answer_2', 'answer_3', 'answer_4']:\n",
    "        df[col] = df[col].fillna('').astype(str)\n",
    "\n",
    "    df['question_tokens'] = df['question'].str.split()\n",
    "    df['a_tokens'] = df['answer_1'].str.split()\n",
    "    df['b_tokens'] = df['answer_2'].str.split()\n",
    "    df['c_tokens'] = df['answer_3'].str.split()\n",
    "    df['d_tokens'] = df['answer_4'].str.split()\n",
    "\n",
    "    df['question_len'] = df['question_tokens'].apply(len)\n",
    "    df['a_len'] = df['a_tokens'].apply(len)\n",
    "    df['b_len'] = df['b_tokens'].apply(len)\n",
    "    df['c_len'] = df['c_tokens'].apply(len)\n",
    "    df['d_len'] = df['d_tokens'].apply(len)\n",
    "\n",
    "    def assign_area(group):\n",
    "        q_len = group['question_len'].iloc[0]\n",
    "        a_len = group['a_len'].iloc[0]\n",
    "        b_len = group['b_len'].iloc[0]\n",
    "        c_len = group['c_len'].iloc[0]\n",
    "        d_len = group['d_len'].iloc[0]\n",
    "\n",
    "        q_end = q_len - 1\n",
    "        a_end = q_len + a_len - 1\n",
    "        b_end = q_len + a_len + b_len - 1\n",
    "        c_end = q_len + a_len + b_len + c_len - 1\n",
    "        d_end = q_len + a_len + b_len + c_len + d_len\n",
    "\n",
    "        index_id = group['IA_ID'] - 1\n",
    "\n",
    "        conditions = [\n",
    "            (index_id <= q_end),\n",
    "            (index_id > q_end) & (index_id <= a_end),\n",
    "            (index_id > a_end) & (index_id <= b_end),\n",
    "            (index_id > b_end) & (index_id <= c_end),\n",
    "            (index_id > c_end) & (index_id <= d_end)\n",
    "        ]\n",
    "\n",
    "        choices = ['question', 'answer_A', 'answer_B', 'answer_C', 'answer_D']\n",
    "        group['area_label'] = np.select(conditions, choices, default='unknown')\n",
    "        return group\n",
    "\n",
    "    df_area_split = df.set_index(['TRIAL_INDEX', 'participant_id']).groupby(['TRIAL_INDEX', 'participant_id'], group_keys=False).apply(assign_area)\n",
    "    return df_area_split"
   ],
   "id": "9e938dfd23afc2cd",
   "outputs": [],
   "execution_count": 5
  },
  {
   "metadata": {
    "ExecuteTime": {
     "end_time": "2025-03-09T12:52:08.094751Z",
     "start_time": "2025-03-09T12:52:08.080584Z"
    }
   },
   "cell_type": "code",
   "source": [
    "def create_correct_answer(df):\n",
    "    df = df.copy()\n",
    "    df['is_correct'] = (df['selected_answer_position'] == df['correct_answer_position']).astype(int)\n",
    "    return df"
   ],
   "id": "e9fa5a70ffd034e7",
   "outputs": [],
   "execution_count": 6
  },
  {
   "metadata": {
    "ExecuteTime": {
     "end_time": "2025-03-09T12:52:08.157209Z",
     "start_time": "2025-03-09T12:52:08.147054Z"
    }
   },
   "cell_type": "code",
   "source": [
    "def create_area_screen_loc(df):\n",
    "    def get_screen_loc(row):\n",
    "        if row['area_label'] == 'question':\n",
    "            return -1\n",
    "        elif row['area_label'].startswith('answer_'):\n",
    "            answers_order = ast.literal_eval(row['answers_order'])\n",
    "            answer_letter = row['area_label'][-1]\n",
    "            return answers_order.index(answer_letter)\n",
    "        return None\n",
    "\n",
    "    df['area_screen_loc'] = df.apply(get_screen_loc, axis=1)\n",
    "    return df"
   ],
   "id": "ad572b42fe583a68",
   "outputs": [],
   "execution_count": 7
  },
  {
   "metadata": {
    "ExecuteTime": {
     "end_time": "2025-03-09T12:52:08.249508Z",
     "start_time": "2025-03-09T12:52:08.235618Z"
    }
   },
   "cell_type": "code",
   "source": [
    "def create_selected_answer_label(df):\n",
    "    df = df.copy()\n",
    "    df['answers_order'] = df['answers_order'].apply(ast.literal_eval)\n",
    "    df['selected_answer_label'] = df.apply(lambda row: row['answers_order'][row['selected_answer_position']], axis=1)\n",
    "    return df"
   ],
   "id": "d58ba5fe48d7cccb",
   "outputs": [],
   "execution_count": 8
  },
  {
   "metadata": {
    "ExecuteTime": {
     "end_time": "2025-03-09T12:52:08.279690Z",
     "start_time": "2025-03-09T12:52:08.264671Z"
    }
   },
   "cell_type": "code",
   "source": [
    "def created_selected_area_bool(df):\n",
    "    area_mapping = {\n",
    "    'A': 'answer_A',\n",
    "    'B': 'answer_B',\n",
    "    'C': 'answer_C',\n",
    "    'D': 'answer_D'\n",
    "    }\n",
    "\n",
    "    df['selected_area'] = df['selected_answer_label'].map(area_mapping)\n",
    "    df['is_selected_area'] = df['area_label'] == df['selected_area']\n",
    "    return df"
   ],
   "id": "ba3d001438eb522c",
   "outputs": [],
   "execution_count": 9
  },
  {
   "metadata": {
    "ExecuteTime": {
     "end_time": "2025-03-09T12:54:07.092711Z",
     "start_time": "2025-03-09T12:52:08.312670Z"
    }
   },
   "cell_type": "code",
   "source": [
    "def process_dataframe(df, functions):\n",
    "    for func in functions:\n",
    "        print(func)\n",
    "        df = func(df)\n",
    "    return df.reset_index()\n",
    "\n",
    "processing_functions = [\n",
    "    create_correct_answer,\n",
    "    create_area_label,\n",
    "    create_area_screen_loc,\n",
    "    create_selected_answer_label,\n",
    "    created_selected_area_bool,\n",
    "]\n",
    "\n",
    "df_base_features_h = process_dataframe(df_A_hunters, processing_functions)\n",
    "df_base_features_g = process_dataframe(df_A_gatherers, processing_functions)"
   ],
   "id": "1da161328d650dd3",
   "outputs": [
    {
     "name": "stdout",
     "output_type": "stream",
     "text": [
      "<function create_correct_answer at 0x000001C23DA29360>\n",
      "<function create_area_label at 0x000001C23DA28160>\n",
      "<function create_area_screen_loc at 0x000001C23DA295A0>\n",
      "<function create_selected_answer_label at 0x000001C23DA29510>\n",
      "<function created_selected_area_bool at 0x000001C23DA29AB0>\n",
      "<function create_correct_answer at 0x000001C23DA29360>\n",
      "<function create_area_label at 0x000001C23DA28160>\n",
      "<function create_area_screen_loc at 0x000001C23DA295A0>\n",
      "<function create_selected_answer_label at 0x000001C23DA29510>\n",
      "<function created_selected_area_bool at 0x000001C23DA29AB0>\n"
     ]
    }
   ],
   "execution_count": 10
  },
  {
   "metadata": {
    "ExecuteTime": {
     "end_time": "2025-03-09T12:54:07.200557Z",
     "start_time": "2025-03-09T12:54:07.186350Z"
    }
   },
   "cell_type": "code",
   "source": [
    "def create_fixation_sequence_tags(df):\n",
    "    ia_id_to_label = dict(zip(df['IA_ID'], df['area_label']))\n",
    "    ia_id_to_location = dict(zip(df['IA_ID'], df['area_screen_loc']))\n",
    "\n",
    "    result = []\n",
    "    for (trial_index, participant_id), group in df.groupby(['TRIAL_INDEX', 'participant_id']):\n",
    "        sequence_str = group['INTEREST_AREA_FIXATION_SEQUENCE'].iloc[0]\n",
    "        sequence = eval(sequence_str)\n",
    "        label_sequence = [ia_id_to_label.get(ia_id, 'out_of_bounds') for ia_id in sequence]\n",
    "        location_sequence = [ia_id_to_location.get(ia_id, 'out_of_bounds') for ia_id in sequence]\n",
    "        result.append({\n",
    "            'TRIAL_INDEX': trial_index,\n",
    "            'participant_id': participant_id,\n",
    "            'fix_by_label': label_sequence,\n",
    "            'fix_by_loc': location_sequence\n",
    "        })\n",
    "\n",
    "    return pd.DataFrame(result)"
   ],
   "id": "7f3365c133b23f31",
   "outputs": [],
   "execution_count": 11
  },
  {
   "metadata": {
    "ExecuteTime": {
     "end_time": "2025-03-09T12:54:07.216546Z",
     "start_time": "2025-03-09T12:54:07.204582Z"
    }
   },
   "cell_type": "code",
   "source": [
    "def create_fixation_sequence_tags_no_unknowns(df):\n",
    "    ia_id_to_label = dict(zip(df['IA_ID'], df['area_label']))\n",
    "    ia_id_to_location = dict(zip(df['IA_ID'], df['area_screen_loc']))\n",
    "\n",
    "    result = []\n",
    "    for (trial_index, participant_id), group in df.groupby(['TRIAL_INDEX', 'participant_id']):\n",
    "        sequence_str = group['INTEREST_AREA_FIXATION_SEQUENCE'].iloc[0]\n",
    "        sequence = eval(sequence_str)\n",
    "        label_sequence = []\n",
    "        location_sequence = []\n",
    "        for ia_id in sequence:\n",
    "            if ia_id not in ia_id_to_label or ia_id not in ia_id_to_location:\n",
    "                continue\n",
    "            label_sequence.append(ia_id_to_label[ia_id])\n",
    "            location_sequence.append(ia_id_to_location[ia_id])\n",
    "        result.append({\n",
    "            'TRIAL_INDEX': trial_index,\n",
    "            'participant_id': participant_id,\n",
    "            'fix_by_label_clean': label_sequence,\n",
    "            'fix_by_loc_clean': location_sequence\n",
    "        })\n",
    "\n",
    "    return pd.DataFrame(result)"
   ],
   "id": "fbe9b4600bdde57",
   "outputs": [],
   "execution_count": 12
  },
  {
   "metadata": {
    "ExecuteTime": {
     "end_time": "2025-03-09T12:54:07.277912Z",
     "start_time": "2025-03-09T12:54:07.265951Z"
    }
   },
   "cell_type": "code",
   "source": [
    "def generate_new_row_features(functions, df, default_join_columns=['TRIAL_INDEX', 'participant_id', 'area_label']):\n",
    "    result_df = df.copy()\n",
    "\n",
    "    for func_tuple in functions:\n",
    "        func, func_kwargs = func_tuple\n",
    "        print(func)\n",
    "\n",
    "        join_columns = func_kwargs.get('join_columns', default_join_columns)\n",
    "\n",
    "        new_features_df = func(df)\n",
    "        result_df = result_df.merge(new_features_df, on=join_columns, how='left')\n",
    "\n",
    "    return result_df"
   ],
   "id": "31da60300279bcaf",
   "outputs": [],
   "execution_count": 13
  },
  {
   "metadata": {
    "ExecuteTime": {
     "end_time": "2025-03-09T12:54:22.866314Z",
     "start_time": "2025-03-09T12:54:07.310556Z"
    }
   },
   "cell_type": "code",
   "source": [
    "per_row_feature_generators = [\n",
    "    (create_fixation_sequence_tags, {'join_columns': ['TRIAL_INDEX', 'participant_id']}),\n",
    "    (create_fixation_sequence_tags_no_unknowns, {'join_columns': ['TRIAL_INDEX', 'participant_id']})\n",
    "]\n",
    "\n",
    "df_with_features_h = generate_new_row_features(per_row_feature_generators, df_base_features_h)\n",
    "df_with_features_g = generate_new_row_features(per_row_feature_generators, df_base_features_g)"
   ],
   "id": "19d807b8477cba7d",
   "outputs": [
    {
     "name": "stdout",
     "output_type": "stream",
     "text": [
      "<function create_fixation_sequence_tags at 0x000001C456A6E950>\n",
      "<function create_fixation_sequence_tags_no_unknowns at 0x000001C456A6FB50>\n",
      "<function create_fixation_sequence_tags at 0x000001C456A6E950>\n",
      "<function create_fixation_sequence_tags_no_unknowns at 0x000001C456A6FB50>\n"
     ]
    }
   ],
   "execution_count": 14
  },
  {
   "metadata": {
    "ExecuteTime": {
     "end_time": "2025-03-09T12:54:22.928795Z",
     "start_time": "2025-03-09T12:54:22.914265Z"
    }
   },
   "cell_type": "code",
   "source": [
    "categories_label = {\n",
    "    \"question\": \"#74a9cf\",\n",
    "    \"answer_A\": \"#238b45\",\n",
    "    \"answer_B\": \"#74c476\",\n",
    "    \"answer_C\": \"#bae4b3\",\n",
    "    \"answer_D\": \"#edf8e9\",\n",
    "\n",
    "    \"A\": \"green\",\n",
    "    \"B\": \"gold\",\n",
    "    \"C\": \"darkorange\",\n",
    "    \"D\": \"red\",\n",
    "\n",
    "    \"out_of_bounds\": \"white\"\n",
    "}\n",
    "\n",
    "categories_loc = {\n",
    "    -1: \"#74a9cf\",\n",
    "    0: \"#ffffb2\",\n",
    "    1: \"#fecc5c\",\n",
    "    2: \"#fd8d3c\",\n",
    "    3: \"#e31a1c\",\n",
    "\n",
    "    \"A\": \"green\",\n",
    "    \"B\": \"gold\",\n",
    "    \"C\": \"darkorange\",\n",
    "    \"D\": \"red\",\n",
    "\n",
    "    \"out_of_bounds\": \"white\"\n",
    "}\n",
    "\n",
    "legend_mapping_label = {\n",
    "    \"question\": \"Question\",\n",
    "    \"answer_A\": \"Answer A\",\n",
    "    \"answer_B\": \"Answer B\",\n",
    "    \"answer_C\": \"Answer C\",\n",
    "    \"answer_D\": \"Answer D\",\n",
    "    \"out_of_bounds\": \"Unclear\",\n",
    "\n",
    "    \"A\": None,\n",
    "    \"B\": None,\n",
    "    \"C\": None,\n",
    "    \"D\": None,\n",
    "}\n",
    "\n",
    "legend_mapping_loc = {\n",
    "    \"out_of_bounds\": \"Unclear\",\n",
    "    -1: \"Question\",\n",
    "    0: \"First A on screen\",\n",
    "    1: \"Second A on screen\",\n",
    "    2: \"Third A on screen\",\n",
    "    3: \"Fourth A on screen\",\n",
    "\n",
    "    \"A\": None,\n",
    "    \"B\": None,\n",
    "    \"C\": None,\n",
    "    \"D\": None,\n",
    "}"
   ],
   "id": "1602a9c64759f119",
   "outputs": [],
   "execution_count": 15
  },
  {
   "metadata": {
    "ExecuteTime": {
     "end_time": "2025-03-09T12:54:22.991267Z",
     "start_time": "2025-03-09T12:54:22.976857Z"
    }
   },
   "cell_type": "code",
   "source": [
    "def visualize_stacked_rows_with_two_labels(data_rows, categories, selected_answer_labels, additional_labels, num_rows=100, start_index=0, legend_mapping=None):\n",
    "    selected_rows = data_rows[start_index:start_index + num_rows]\n",
    "    selected_labels = selected_answer_labels[start_index:start_index + num_rows]\n",
    "    additional_labels = additional_labels[start_index:start_index + num_rows]\n",
    "\n",
    "\n",
    "    max_length = max(len(row) for row in selected_rows) + 2  # +2 to account for the labels\n",
    "\n",
    "    color_data = []\n",
    "    for row in selected_rows:\n",
    "        color_row = [categories.get(value, \"gray\") for value in row] + [\"white\"] * (max_length - len(row))\n",
    "        color_data.append(color_row)\n",
    "\n",
    "    plt.figure(figsize=(15, num_rows * 0.3))\n",
    "    for i, (color_row, label, additional_label) in enumerate(zip(color_data, selected_labels, additional_labels)):\n",
    "        plt.bar(range(max_length), [1] * max_length, color=color_row, width=1.0, edgecolor='none', bottom=i)\n",
    "        plt.text(-3.5, i + 0.5, str(additional_label), va='center', ha='right', fontsize=10, color=categories.get(additional_label, \"black\"))\n",
    "        plt.text(-1.5, i + 0.5, str(label), va='center', ha='right', fontsize=10, color=categories.get(label, \"black\"))\n",
    "\n",
    "    plt.axis('off')\n",
    "\n",
    "    if legend_mapping:\n",
    "        legend_handles = [\n",
    "            mpatches.Patch(color=categories.get(original_label, \"gray\"), label=new_label)\n",
    "            for original_label, new_label in legend_mapping.items()\n",
    "            if new_label is not None\n",
    "        ]\n",
    "    else:\n",
    "        legend_handles = [\n",
    "            mpatches.Patch(color=color, label=str(label)) for label, color in categories.items()\n",
    "        ]\n",
    "\n",
    "    plt.legend(handles=legend_handles, bbox_to_anchor=(1.05, 1), loc='upper left', title=\"Categories\")\n",
    "\n",
    "    plt.tight_layout()\n",
    "    plt.show()"
   ],
   "id": "3db147bf5b3f47ca",
   "outputs": [],
   "execution_count": 16
  },
  {
   "metadata": {
    "ExecuteTime": {
     "end_time": "2025-03-09T12:54:24.395264Z",
     "start_time": "2025-03-09T12:54:23.055843Z"
    }
   },
   "cell_type": "code",
   "source": [
    "df_with_features_h['fix_by_label_clean'] = df_with_features_h['fix_by_label_clean'].apply(lambda x: tuple(x) if isinstance(x, list) else x)\n",
    "df_with_features_g['fix_by_label_clean'] = df_with_features_g['fix_by_label_clean'].apply(lambda x: tuple(x) if isinstance(x, list) else x)\n",
    "df_with_features_h['fix_by_loc_clean'] = df_with_features_h['fix_by_loc_clean'].apply(lambda x: tuple(x) if isinstance(x, list) else x)\n",
    "df_with_features_g['fix_by_loc_clean'] = df_with_features_g['fix_by_loc_clean'].apply(lambda x: tuple(x) if isinstance(x, list) else x)\n",
    "\n",
    "data_rows_h = df_with_features_h[['TRIAL_INDEX', 'participant_id', 'text_id', 'fix_by_label_clean', 'fix_by_loc_clean','selected_answer_label', 'correct_answer_position']].drop_duplicates().reset_index()\n",
    "data_rows_g = df_with_features_g[['TRIAL_INDEX', 'participant_id', 'text_id', 'fix_by_label_clean', 'fix_by_loc_clean','selected_answer_label', 'correct_answer_position']].drop_duplicates().reset_index()"
   ],
   "id": "4437a4040fd875c2",
   "outputs": [],
   "execution_count": 17
  },
  {
   "metadata": {
    "ExecuteTime": {
     "end_time": "2025-03-09T12:54:24.471934Z",
     "start_time": "2025-03-09T12:54:24.459936Z"
    }
   },
   "cell_type": "code",
   "source": [
    "import random\n",
    "\n",
    "def visualize_by_id(data, by_person_or_text, fix_by, identifier=None):\n",
    "    if by_person_or_text not in ['person', 'text']:\n",
    "        raise ValueError(\"The 'by_person_or_text' parameter must be either 'person' or 'text'.\")\n",
    "\n",
    "    if fix_by not in ['label', 'loc']:\n",
    "        raise ValueError(\"The 'fix_by' parameter must be either 'label' or 'loc'.\")\n",
    "\n",
    "    if fix_by == 'label':\n",
    "        categories = categories_label\n",
    "        legend_mapping = legend_mapping_label\n",
    "        data_column = 'fix_by_label_clean'\n",
    "    else:  # fix_by == 'loc'\n",
    "        categories = categories_loc\n",
    "        legend_mapping = legend_mapping_loc\n",
    "        data_column = 'fix_by_loc_clean'\n",
    "\n",
    "    filter_column = 'participant_id' if by_person_or_text == 'person' else 'text_id'\n",
    "\n",
    "    if identifier is None:\n",
    "        available_ids = data[filter_column].dropna().unique()\n",
    "        if len(available_ids) == 0:\n",
    "            raise ValueError(f\"No valid entries found in column '{filter_column}'.\")\n",
    "        identifier = random.choice(available_ids)\n",
    "        print(f\"Randomly selected {filter_column}: {identifier}\")\n",
    "\n",
    "    subset = data[data[filter_column] == identifier]\n",
    "    if subset.empty:\n",
    "        print(f\"No data found for {filter_column} = {identifier}.\")\n",
    "        return\n",
    "\n",
    "    try:\n",
    "        fix_data_rows = subset[data_column].tolist()\n",
    "    except KeyError:\n",
    "        raise KeyError(f\"Column '{data_column}' not found in the data.\")\n",
    "\n",
    "    selected_answer_labels = subset['selected_answer_label'].tolist()\n",
    "    additional_labels = subset['correct_answer_position'].tolist()\n",
    "\n",
    "    visualize_stacked_rows_with_two_labels(\n",
    "        fix_data_rows, categories, selected_answer_labels, additional_labels,\n",
    "        num_rows=len(fix_data_rows), legend_mapping=legend_mapping\n",
    "    )\n",
    "\n"
   ],
   "id": "5563b47ba4490e19",
   "outputs": [],
   "execution_count": 18
  },
  {
   "metadata": {
    "ExecuteTime": {
     "end_time": "2025-03-09T12:55:56.807045Z",
     "start_time": "2025-03-09T12:55:55.733690Z"
    }
   },
   "cell_type": "code",
   "source": "visualize_by_id(data_rows_h, by_person_or_text='text', fix_by='label', identifier=None)",
   "id": "b1599a76a16e2a7b",
   "outputs": [
    {
     "name": "stdout",
     "output_type": "stream",
     "text": [
      "Randomly selected text_id: 6_Ele_2_4\n"
     ]
    },
    {
     "data": {
      "text/plain": [
       "<Figure size 1500x900 with 1 Axes>"
      ],
      "image/png": "[encoded data removed]"
     },
     "metadata": {},
     "output_type": "display_data"
    }
   ],
   "execution_count": 25
  }
 ],
 "metadata": {
  "kernelspec": {
   "display_name": "Python 3",
   "language": "python",
   "name": "python3"
  },
  "language_info": {
   "codemirror_mode": {
    "name": "ipython",
    "version": 2
   },
   "file_extension": ".py",
   "mimetype": "text/x-python",
   "name": "python",
   "nbconvert_exporter": "python",
   "pygments_lexer": "ipython2",
   "version": "2.7.6"
  }
 },
 "nbformat": 4,
 "nbformat_minor": 5
}
