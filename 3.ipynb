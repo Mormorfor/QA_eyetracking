{
 "cells": [
  {
   "cell_type": "code",
   "id": "initial_id",
   "metadata": {
    "collapsed": true,
    "ExecuteTime": {
     "end_time": "2025-01-15T11:20:07.638154Z",
     "start_time": "2025-01-15T11:20:07.626639Z"
    }
   },
   "source": [
    "import pandas as pd\n",
    "import numpy as np"
   ],
   "outputs": [],
   "execution_count": 18
  },
  {
   "metadata": {
    "ExecuteTime": {
     "end_time": "2025-01-15T11:20:07.668554Z",
     "start_time": "2025-01-15T11:20:07.652174Z"
    }
   },
   "cell_type": "code",
   "source": [
    "ia_Q_path = \"full/ia_Q.csv\"\n",
    "ia_A_path = \"full/ia_A.csv\"\n",
    "ia_QA_path = \"full/ia_QA.csv\""
   ],
   "id": "e54999c87f88f7ac",
   "outputs": [],
   "execution_count": 19
  },
  {
   "metadata": {
    "ExecuteTime": {
     "end_time": "2025-01-15T11:20:28.466450Z",
     "start_time": "2025-01-15T11:20:07.716743Z"
    }
   },
   "cell_type": "code",
   "source": [
    "#df_Q = pd.read_csv(ia_Q_path)\n",
    "df_A = pd.read_csv(ia_A_path)\n",
    "#df_QA = pd.read_csv(ia_QA_path)"
   ],
   "id": "f80651675f56a57f",
   "outputs": [],
   "execution_count": 20
  },
  {
   "metadata": {
    "ExecuteTime": {
     "end_time": "2025-01-15T11:20:33.173460Z",
     "start_time": "2025-01-15T11:20:28.558803Z"
    }
   },
   "cell_type": "code",
   "source": [
    "df_A_filtered = df_A[(df_A['repeated_reading_trial'] == False) & ((df_A['practice_trial'] == False))]\n",
    "\n",
    "df_A_hunters = df_A_filtered[df_A_filtered['question_preview'] == True]\n",
    "df_A_gatherers = df_A_filtered[df_A_filtered['question_preview'] == False]"
   ],
   "id": "8d445f30191c409",
   "outputs": [],
   "execution_count": 21
  },
  {
   "metadata": {
    "ExecuteTime": {
     "end_time": "2025-01-15T11:20:33.203515Z",
     "start_time": "2025-01-15T11:20:33.187319Z"
    }
   },
   "cell_type": "code",
   "source": [
    "def create_area_label(df):\n",
    "    for col in ['question', 'answer_1', 'answer_2', 'answer_3', 'answer_4']:\n",
    "        df[col] = df[col].fillna('').astype(str)\n",
    "\n",
    "    df['question_tokens'] = df['question'].str.split()\n",
    "    df['a_tokens'] = df['answer_1'].str.split()\n",
    "    df['b_tokens'] = df['answer_2'].str.split()\n",
    "    df['c_tokens'] = df['answer_3'].str.split()\n",
    "    df['d_tokens'] = df['answer_4'].str.split()\n",
    "\n",
    "    df['question_len'] = df['question_tokens'].apply(len)\n",
    "    df['a_len'] = df['a_tokens'].apply(len)\n",
    "    df['b_len'] = df['b_tokens'].apply(len)\n",
    "    df['c_len'] = df['c_tokens'].apply(len)\n",
    "    df['d_len'] = df['d_tokens'].apply(len)\n",
    "\n",
    "    def assign_area(group):\n",
    "        q_len = group['question_len'].iloc[0]\n",
    "        a_len = group['a_len'].iloc[0]\n",
    "        b_len = group['b_len'].iloc[0]\n",
    "        c_len = group['c_len'].iloc[0]\n",
    "        d_len = group['d_len'].iloc[0]\n",
    "\n",
    "        q_end = q_len - 1\n",
    "        a_end = q_len + a_len - 1\n",
    "        b_end = q_len + a_len + b_len - 1\n",
    "        c_end = q_len + a_len + b_len + c_len - 1\n",
    "\n",
    "        index_id = group['IA_ID'] - 1\n",
    "\n",
    "        conditions = [\n",
    "            (index_id <= q_end),\n",
    "            (index_id > q_end) & (index_id <= a_end),\n",
    "            (index_id > a_end) & (index_id <= b_end),\n",
    "            (index_id > b_end) & (index_id <= c_end),\n",
    "            (index_id > c_end)\n",
    "        ]\n",
    "\n",
    "        choices = ['question', 'answer_A', 'answer_B', 'answer_C', 'answer_D']\n",
    "        group['area_label'] = np.select(conditions, choices, default='unknown')\n",
    "        return group\n",
    "\n",
    "    df_area_split = df.set_index(['TRIAL_INDEX', 'participant_id']).groupby(['TRIAL_INDEX', 'participant_id'], group_keys=False).apply(assign_area)\n",
    "    return df_area_split"
   ],
   "id": "f46f4a49c1fe1b9b",
   "outputs": [],
   "execution_count": 22
  },
  {
   "metadata": {
    "ExecuteTime": {
     "end_time": "2025-01-15T11:20:33.265791Z",
     "start_time": "2025-01-15T11:20:33.252747Z"
    }
   },
   "cell_type": "code",
   "source": [
    "def create_correct_answer(df):\n",
    "    df = df.copy()\n",
    "    df['is_correct'] = (df['selected_answer_position'] == df['correct_answer_position']).astype(int)\n",
    "    return df"
   ],
   "id": "96c688d3e65bcc24",
   "outputs": [],
   "execution_count": 23
  },
  {
   "metadata": {
    "ExecuteTime": {
     "end_time": "2025-01-15T11:20:33.327312Z",
     "start_time": "2025-01-15T11:20:33.316269Z"
    }
   },
   "cell_type": "code",
   "source": "\n",
   "id": "652e124eade064bd",
   "outputs": [],
   "execution_count": 23
  },
  {
   "metadata": {
    "ExecuteTime": {
     "end_time": "2025-01-15T11:20:33.389042Z",
     "start_time": "2025-01-15T11:20:33.375461Z"
    }
   },
   "cell_type": "code",
   "source": [
    "def create_mean_area_dwell_time(df):\n",
    "    return df.groupby(['TRIAL_INDEX', 'participant_id','area_label'], as_index=False).agg(mean_dwell_time=(\"IA_DWELL_TIME\", \"mean\"))"
   ],
   "id": "ae36218dd0f30e1e",
   "outputs": [],
   "execution_count": 24
  },
  {
   "metadata": {
    "ExecuteTime": {
     "end_time": "2025-01-15T11:20:33.450366Z",
     "start_time": "2025-01-15T11:20:33.437637Z"
    }
   },
   "cell_type": "code",
   "source": [
    "def create_mean_area_fixation_count(df):\n",
    "    return df.groupby(['TRIAL_INDEX', 'participant_id','area_label'], as_index=False).agg(mean_fixations_count=(\"IA_FIXATION_COUNT\", \"mean\"))\n"
   ],
   "id": "eacb7efd532a3b83",
   "outputs": [],
   "execution_count": 25
  },
  {
   "metadata": {
    "ExecuteTime": {
     "end_time": "2025-01-15T11:20:33.512110Z",
     "start_time": "2025-01-15T11:20:33.498235Z"
    }
   },
   "cell_type": "code",
   "source": [
    "def create_mean_first_fixation_duration(df):\n",
    "    df['IA_FIRST_FIXATION_DURATION_INT'] = df[\"IA_FIRST_FIXATION_DURATION\"].replace('.', 0).astype(int)\n",
    "    return df.groupby(['TRIAL_INDEX', 'participant_id','area_label'], as_index=False).agg(mean_first_fixation_duration=(\"IA_FIRST_FIXATION_DURATION_INT\", \"mean\"))"
   ],
   "id": "cd8cdc681698b4f2",
   "outputs": [],
   "execution_count": 26
  },
  {
   "metadata": {
    "ExecuteTime": {
     "end_time": "2025-01-15T11:20:33.574722Z",
     "start_time": "2025-01-15T11:20:33.561211Z"
    }
   },
   "cell_type": "code",
   "source": [
    "def create_skip_rate(df):\n",
    "    return df.groupby(['TRIAL_INDEX', 'participant_id','area_label'], as_index=False).agg(skip_rate=(\"IA_SKIP\", \"mean\"))"
   ],
   "id": "49581a22cb29e258",
   "outputs": [],
   "execution_count": 27
  },
  {
   "metadata": {
    "ExecuteTime": {
     "end_time": "2025-01-15T11:20:33.637379Z",
     "start_time": "2025-01-15T11:20:33.624147Z"
    }
   },
   "cell_type": "code",
   "source": [
    "def create_dwell_proportions(df):\n",
    "    aggregated_df = (\n",
    "        df.groupby(['participant_id', 'TRIAL_INDEX', 'area_label'], as_index=False)\n",
    "        .agg({'IA_DWELL_TIME': 'sum'})\n",
    "        .rename(columns={'IA_DWELL_TIME': 'total_area_dwell_time'})\n",
    "    )\n",
    "\n",
    "    aggregated_df['total_dwell_time'] = aggregated_df.groupby(['participant_id', 'TRIAL_INDEX'])['total_area_dwell_time'].transform('sum')\n",
    "\n",
    "    aggregated_df['area_dwell_proportion'] = aggregated_df['total_area_dwell_time'] / aggregated_df['total_dwell_time']\n",
    "\n",
    "    return aggregated_df"
   ],
   "id": "cc610ee30547ebee",
   "outputs": [],
   "execution_count": 28
  },
  {
   "metadata": {
    "ExecuteTime": {
     "end_time": "2025-01-15T11:20:33.698614Z",
     "start_time": "2025-01-15T11:20:33.686601Z"
    }
   },
   "cell_type": "code",
   "source": [
    "def create_last_area_visited(df):\n",
    "    df['IA_LAST_FIXATION_TIME_INT'] = df[\"IA_LAST_FIXATION_TIME\"].replace('.', 0).astype(int)\n",
    "    df_sorted = df.sort_values(by=['participant_id', 'TRIAL_INDEX', 'IA_LAST_FIXATION_TIME_INT'], ascending=[True, True, False])\n",
    "    top_fixations = df_sorted.groupby(['participant_id', 'TRIAL_INDEX']).head(5)\n",
    "\n",
    "    last_area = (\n",
    "        top_fixations.groupby(['participant_id', 'TRIAL_INDEX'])['area_label']\n",
    "        .agg(lambda x: x.value_counts().idxmax())\n",
    "        .reset_index()\n",
    "        .rename(columns={'area_label': 'last_area_visited'})\n",
    "    )\n",
    "    return last_area"
   ],
   "id": "322eaaa0a09c2d24",
   "outputs": [],
   "execution_count": 29
  },
  {
   "metadata": {
    "ExecuteTime": {
     "end_time": "2025-01-15T11:20:33.760218Z",
     "start_time": "2025-01-15T11:20:33.747163Z"
    }
   },
   "cell_type": "code",
   "source": "",
   "id": "1b0312998b6716b9",
   "outputs": [],
   "execution_count": null
  },
  {
   "metadata": {
    "ExecuteTime": {
     "end_time": "2025-01-15T11:20:33.823030Z",
     "start_time": "2025-01-15T11:20:33.808150Z"
    }
   },
   "cell_type": "code",
   "source": "",
   "id": "4c03650e95a2d294",
   "outputs": [],
   "execution_count": null
  },
  {
   "metadata": {
    "ExecuteTime": {
     "end_time": "2025-01-15T11:20:33.883639Z",
     "start_time": "2025-01-15T11:20:33.870302Z"
    }
   },
   "cell_type": "code",
   "source": "",
   "id": "e572e55df13b44c9",
   "outputs": [],
   "execution_count": null
  },
  {
   "metadata": {
    "ExecuteTime": {
     "end_time": "2025-01-15T11:20:33.944867Z",
     "start_time": "2025-01-15T11:20:33.930832Z"
    }
   },
   "cell_type": "code",
   "source": "",
   "id": "9087767ea72aecf",
   "outputs": [],
   "execution_count": null
  },
  {
   "metadata": {
    "ExecuteTime": {
     "end_time": "2025-01-15T11:21:36.411140Z",
     "start_time": "2025-01-15T11:20:33.993925Z"
    }
   },
   "cell_type": "code",
   "source": [
    "df_base_features_h = create_correct_answer(df_A_hunters)\n",
    "df_base_features_h = create_area_label(df_base_features_h).reset_index()\n",
    "\n",
    "df_base_features_g = create_correct_answer(df_A_gatherers)\n",
    "df_base_features_g = create_area_label(df_base_features_g).reset_index()\n"
   ],
   "id": "725e8548cc4c9f5e",
   "outputs": [],
   "execution_count": 30
  },
  {
   "metadata": {
    "ExecuteTime": {
     "end_time": "2025-01-15T11:21:36.534370Z",
     "start_time": "2025-01-15T11:21:36.520879Z"
    }
   },
   "cell_type": "code",
   "source": [
    "def generate_new_row_features(functions, df, default_join_columns=['TRIAL_INDEX', 'participant_id', 'area_label']):\n",
    "    result_df = df.copy()\n",
    "\n",
    "    for func_tuple in functions:\n",
    "        func, func_kwargs = func_tuple\n",
    "        print(func)\n",
    "\n",
    "        join_columns = func_kwargs.get('join_columns', default_join_columns)\n",
    "\n",
    "        new_features_df = func(df)\n",
    "        result_df = result_df.merge(new_features_df, on=join_columns, how='left')\n",
    "\n",
    "    return result_df"
   ],
   "id": "44607f4933352633",
   "outputs": [],
   "execution_count": 31
  },
  {
   "metadata": {
    "ExecuteTime": {
     "end_time": "2025-01-15T11:21:36.565302Z",
     "start_time": "2025-01-15T11:21:36.546750Z"
    }
   },
   "cell_type": "code",
   "source": [
    "per_row_feature_generators = [\n",
    "    (create_mean_area_dwell_time, {}),\n",
    "    (create_mean_area_fixation_count, {}),\n",
    "    (create_mean_first_fixation_duration, {}),\n",
    "    (create_skip_rate, {}),\n",
    "    (create_dwell_proportions, {}),\n",
    "    (create_last_area_visited, {'join_columns': ['TRIAL_INDEX', 'participant_id']})\n",
    "]"
   ],
   "id": "cf3ddbe8ab91f131",
   "outputs": [],
   "execution_count": 32
  },
  {
   "metadata": {
    "ExecuteTime": {
     "end_time": "2025-01-15T11:21:50.773964Z",
     "start_time": "2025-01-15T11:21:36.613733Z"
    }
   },
   "cell_type": "code",
   "source": [
    "df_with_features_h = generate_new_row_features(per_row_feature_generators, df_base_features_h)\n",
    "df_with_features_g = generate_new_row_features(per_row_feature_generators, df_base_features_g)"
   ],
   "id": "6892f7dcecfe10e4",
   "outputs": [
    {
     "name": "stdout",
     "output_type": "stream",
     "text": [
      "<function create_mean_area_dwell_time at 0x000001EA2CB6EC20>\n",
      "<function create_mean_area_fixation_count at 0x000001EA7F9D09D0>\n",
      "<function create_mean_first_fixation_duration at 0x000001EA0D013640>\n",
      "<function create_skip_rate at 0x000001EA7DFEE050>\n",
      "<function create_dwell_proportions at 0x000001EA7F9D0C10>\n",
      "<function create_last_area_visited at 0x000001EA0D00F7F0>\n",
      "<function create_mean_area_dwell_time at 0x000001EA2CB6EC20>\n",
      "<function create_mean_area_fixation_count at 0x000001EA7F9D09D0>\n",
      "<function create_mean_first_fixation_duration at 0x000001EA0D013640>\n",
      "<function create_skip_rate at 0x000001EA7DFEE050>\n",
      "<function create_dwell_proportions at 0x000001EA7F9D0C10>\n",
      "<function create_last_area_visited at 0x000001EA0D00F7F0>\n"
     ]
    }
   ],
   "execution_count": 33
  },
  {
   "metadata": {
    "ExecuteTime": {
     "end_time": "2025-01-15T11:21:51.036350Z",
     "start_time": "2025-01-15T11:21:50.821057Z"
    }
   },
   "cell_type": "code",
   "source": "df_with_features_h",
   "id": "c12b1fe15ed2c10c",
   "outputs": [
    {
     "data": {
      "text/plain": [
       "        TRIAL_INDEX participant_id EYE_REPORTED EYE_TRACKED  \\\n",
       "0                 4       l42_2070        RIGHT       Right   \n",
       "1                 4       l42_2070        RIGHT       Right   \n",
       "2                 4       l42_2070        RIGHT       Right   \n",
       "3                 4       l42_2070        RIGHT       Right   \n",
       "4                 4       l42_2070        RIGHT       Right   \n",
       "...             ...            ...          ...         ...   \n",
       "380345           59         l10_39         LEFT        Left   \n",
       "380346           59         l10_39         LEFT        Left   \n",
       "380347           59         l10_39         LEFT        Left   \n",
       "380348           59         l10_39         LEFT        Left   \n",
       "380349           59         l10_39         LEFT        Left   \n",
       "\n",
       "       GROUPING_VARIABLES  IA_AREA IA_AVERAGE_FIX_PUPIL_SIZE  IA_BOTTOM  \\\n",
       "0       RECORDING_SESSION  10165.0                         .        261   \n",
       "1       RECORDING_SESSION   6099.0                   1078.00        261   \n",
       "2       RECORDING_SESSION  14231.0                         .        261   \n",
       "3       RECORDING_SESSION  28569.0                         .        261   \n",
       "4       RECORDING_SESSION   4180.0                   1139.00        492   \n",
       "...                   ...      ...                       ...        ...   \n",
       "380345  RECORDING_SESSION   8208.0                    416.00       1281   \n",
       "380346  RECORDING_SESSION  10260.0                         .       1281   \n",
       "380347  RECORDING_SESSION   6156.0                         .       1281   \n",
       "380348  RECORDING_SESSION   8208.0                    439.00       1281   \n",
       "380349  RECORDING_SESSION   8316.0                         .       1281   \n",
       "\n",
       "        IA_DWELL_TIME  IA_DWELL_TIME_%  ...  d_len area_label mean_dwell_time  \\\n",
       "0                   0           0.0000  ...      8   question       41.250000   \n",
       "1                 165           0.0280  ...      8   question       41.250000   \n",
       "2                   0           0.0000  ...      8   question       41.250000   \n",
       "3                   0           0.0000  ...      8   question       41.250000   \n",
       "4                 184           0.0313  ...      8   answer_A      173.000000   \n",
       "...               ...              ...  ...    ...        ...             ...   \n",
       "380345            258           0.0426  ...     12   answer_D      142.833333   \n",
       "380346              0           0.0000  ...     12   answer_D      142.833333   \n",
       "380347              0           0.0000  ...     12   answer_D      142.833333   \n",
       "380348            209           0.0345  ...     12   answer_D      142.833333   \n",
       "380349              0           0.0000  ...     12   answer_D      142.833333   \n",
       "\n",
       "       mean_fixations_count mean_first_fixation_duration skip_rate  \\\n",
       "0                  0.250000                    41.250000  0.750000   \n",
       "1                  0.250000                    41.250000  0.750000   \n",
       "2                  0.250000                    41.250000  0.750000   \n",
       "3                  0.250000                    41.250000  0.750000   \n",
       "4                  1.000000                    94.285714  0.571429   \n",
       "...                     ...                          ...       ...   \n",
       "380345             0.666667                    99.083333  0.666667   \n",
       "380346             0.666667                    99.083333  0.666667   \n",
       "380347             0.666667                    99.083333  0.666667   \n",
       "380348             0.666667                    99.083333  0.666667   \n",
       "380349             0.666667                    99.083333  0.666667   \n",
       "\n",
       "       total_area_dwell_time total_dwell_time area_dwell_proportion  \\\n",
       "0                        165             5681              0.029044   \n",
       "1                        165             5681              0.029044   \n",
       "2                        165             5681              0.029044   \n",
       "3                        165             5681              0.029044   \n",
       "4                       1211             5681              0.213167   \n",
       "...                      ...              ...                   ...   \n",
       "380345                  1714             5707              0.300333   \n",
       "380346                  1714             5707              0.300333   \n",
       "380347                  1714             5707              0.300333   \n",
       "380348                  1714             5707              0.300333   \n",
       "380349                  1714             5707              0.300333   \n",
       "\n",
       "       last_area_visited  \n",
       "0               answer_D  \n",
       "1               answer_D  \n",
       "2               answer_D  \n",
       "3               answer_D  \n",
       "4               answer_D  \n",
       "...                  ...  \n",
       "380345          answer_D  \n",
       "380346          answer_D  \n",
       "380347          answer_D  \n",
       "380348          answer_D  \n",
       "380349          answer_D  \n",
       "\n",
       "[380350 rows x 187 columns]"
      ],
      "text/html": [
       "<div>\n",
       "<style scoped>\n",
       "    .dataframe tbody tr th:only-of-type {\n",
       "        vertical-align: middle;\n",
       "    }\n",
       "\n",
       "    .dataframe tbody tr th {\n",
       "        vertical-align: top;\n",
       "    }\n",
       "\n",
       "    .dataframe thead th {\n",
       "        text-align: right;\n",
       "    }\n",
       "</style>\n",
       "<table border=\"1\" class=\"dataframe\">\n",
       "  <thead>\n",
       "    <tr style=\"text-align: right;\">\n",
       "      <th></th>\n",
       "      <th>TRIAL_INDEX</th>\n",
       "      <th>participant_id</th>\n",
       "      <th>EYE_REPORTED</th>\n",
       "      <th>EYE_TRACKED</th>\n",
       "      <th>GROUPING_VARIABLES</th>\n",
       "      <th>IA_AREA</th>\n",
       "      <th>IA_AVERAGE_FIX_PUPIL_SIZE</th>\n",
       "      <th>IA_BOTTOM</th>\n",
       "      <th>IA_DWELL_TIME</th>\n",
       "      <th>IA_DWELL_TIME_%</th>\n",
       "      <th>...</th>\n",
       "      <th>d_len</th>\n",
       "      <th>area_label</th>\n",
       "      <th>mean_dwell_time</th>\n",
       "      <th>mean_fixations_count</th>\n",
       "      <th>mean_first_fixation_duration</th>\n",
       "      <th>skip_rate</th>\n",
       "      <th>total_area_dwell_time</th>\n",
       "      <th>total_dwell_time</th>\n",
       "      <th>area_dwell_proportion</th>\n",
       "      <th>last_area_visited</th>\n",
       "    </tr>\n",
       "  </thead>\n",
       "  <tbody>\n",
       "    <tr>\n",
       "      <th>0</th>\n",
       "      <td>4</td>\n",
       "      <td>l42_2070</td>\n",
       "      <td>RIGHT</td>\n",
       "      <td>Right</td>\n",
       "      <td>RECORDING_SESSION</td>\n",
       "      <td>10165.0</td>\n",
       "      <td>.</td>\n",
       "      <td>261</td>\n",
       "      <td>0</td>\n",
       "      <td>0.0000</td>\n",
       "      <td>...</td>\n",
       "      <td>8</td>\n",
       "      <td>question</td>\n",
       "      <td>41.250000</td>\n",
       "      <td>0.250000</td>\n",
       "      <td>41.250000</td>\n",
       "      <td>0.750000</td>\n",
       "      <td>165</td>\n",
       "      <td>5681</td>\n",
       "      <td>0.029044</td>\n",
       "      <td>answer_D</td>\n",
       "    </tr>\n",
       "    <tr>\n",
       "      <th>1</th>\n",
       "      <td>4</td>\n",
       "      <td>l42_2070</td>\n",
       "      <td>RIGHT</td>\n",
       "      <td>Right</td>\n",
       "      <td>RECORDING_SESSION</td>\n",
       "      <td>6099.0</td>\n",
       "      <td>1078.00</td>\n",
       "      <td>261</td>\n",
       "      <td>165</td>\n",
       "      <td>0.0280</td>\n",
       "      <td>...</td>\n",
       "      <td>8</td>\n",
       "      <td>question</td>\n",
       "      <td>41.250000</td>\n",
       "      <td>0.250000</td>\n",
       "      <td>41.250000</td>\n",
       "      <td>0.750000</td>\n",
       "      <td>165</td>\n",
       "      <td>5681</td>\n",
       "      <td>0.029044</td>\n",
       "      <td>answer_D</td>\n",
       "    </tr>\n",
       "    <tr>\n",
       "      <th>2</th>\n",
       "      <td>4</td>\n",
       "      <td>l42_2070</td>\n",
       "      <td>RIGHT</td>\n",
       "      <td>Right</td>\n",
       "      <td>RECORDING_SESSION</td>\n",
       "      <td>14231.0</td>\n",
       "      <td>.</td>\n",
       "      <td>261</td>\n",
       "      <td>0</td>\n",
       "      <td>0.0000</td>\n",
       "      <td>...</td>\n",
       "      <td>8</td>\n",
       "      <td>question</td>\n",
       "      <td>41.250000</td>\n",
       "      <td>0.250000</td>\n",
       "      <td>41.250000</td>\n",
       "      <td>0.750000</td>\n",
       "      <td>165</td>\n",
       "      <td>5681</td>\n",
       "      <td>0.029044</td>\n",
       "      <td>answer_D</td>\n",
       "    </tr>\n",
       "    <tr>\n",
       "      <th>3</th>\n",
       "      <td>4</td>\n",
       "      <td>l42_2070</td>\n",
       "      <td>RIGHT</td>\n",
       "      <td>Right</td>\n",
       "      <td>RECORDING_SESSION</td>\n",
       "      <td>28569.0</td>\n",
       "      <td>.</td>\n",
       "      <td>261</td>\n",
       "      <td>0</td>\n",
       "      <td>0.0000</td>\n",
       "      <td>...</td>\n",
       "      <td>8</td>\n",
       "      <td>question</td>\n",
       "      <td>41.250000</td>\n",
       "      <td>0.250000</td>\n",
       "      <td>41.250000</td>\n",
       "      <td>0.750000</td>\n",
       "      <td>165</td>\n",
       "      <td>5681</td>\n",
       "      <td>0.029044</td>\n",
       "      <td>answer_D</td>\n",
       "    </tr>\n",
       "    <tr>\n",
       "      <th>4</th>\n",
       "      <td>4</td>\n",
       "      <td>l42_2070</td>\n",
       "      <td>RIGHT</td>\n",
       "      <td>Right</td>\n",
       "      <td>RECORDING_SESSION</td>\n",
       "      <td>4180.0</td>\n",
       "      <td>1139.00</td>\n",
       "      <td>492</td>\n",
       "      <td>184</td>\n",
       "      <td>0.0313</td>\n",
       "      <td>...</td>\n",
       "      <td>8</td>\n",
       "      <td>answer_A</td>\n",
       "      <td>173.000000</td>\n",
       "      <td>1.000000</td>\n",
       "      <td>94.285714</td>\n",
       "      <td>0.571429</td>\n",
       "      <td>1211</td>\n",
       "      <td>5681</td>\n",
       "      <td>0.213167</td>\n",
       "      <td>answer_D</td>\n",
       "    </tr>\n",
       "    <tr>\n",
       "      <th>...</th>\n",
       "      <td>...</td>\n",
       "      <td>...</td>\n",
       "      <td>...</td>\n",
       "      <td>...</td>\n",
       "      <td>...</td>\n",
       "      <td>...</td>\n",
       "      <td>...</td>\n",
       "      <td>...</td>\n",
       "      <td>...</td>\n",
       "      <td>...</td>\n",
       "      <td>...</td>\n",
       "      <td>...</td>\n",
       "      <td>...</td>\n",
       "      <td>...</td>\n",
       "      <td>...</td>\n",
       "      <td>...</td>\n",
       "      <td>...</td>\n",
       "      <td>...</td>\n",
       "      <td>...</td>\n",
       "      <td>...</td>\n",
       "      <td>...</td>\n",
       "    </tr>\n",
       "    <tr>\n",
       "      <th>380345</th>\n",
       "      <td>59</td>\n",
       "      <td>l10_39</td>\n",
       "      <td>LEFT</td>\n",
       "      <td>Left</td>\n",
       "      <td>RECORDING_SESSION</td>\n",
       "      <td>8208.0</td>\n",
       "      <td>416.00</td>\n",
       "      <td>1281</td>\n",
       "      <td>258</td>\n",
       "      <td>0.0426</td>\n",
       "      <td>...</td>\n",
       "      <td>12</td>\n",
       "      <td>answer_D</td>\n",
       "      <td>142.833333</td>\n",
       "      <td>0.666667</td>\n",
       "      <td>99.083333</td>\n",
       "      <td>0.666667</td>\n",
       "      <td>1714</td>\n",
       "      <td>5707</td>\n",
       "      <td>0.300333</td>\n",
       "      <td>answer_D</td>\n",
       "    </tr>\n",
       "    <tr>\n",
       "      <th>380346</th>\n",
       "      <td>59</td>\n",
       "      <td>l10_39</td>\n",
       "      <td>LEFT</td>\n",
       "      <td>Left</td>\n",
       "      <td>RECORDING_SESSION</td>\n",
       "      <td>10260.0</td>\n",
       "      <td>.</td>\n",
       "      <td>1281</td>\n",
       "      <td>0</td>\n",
       "      <td>0.0000</td>\n",
       "      <td>...</td>\n",
       "      <td>12</td>\n",
       "      <td>answer_D</td>\n",
       "      <td>142.833333</td>\n",
       "      <td>0.666667</td>\n",
       "      <td>99.083333</td>\n",
       "      <td>0.666667</td>\n",
       "      <td>1714</td>\n",
       "      <td>5707</td>\n",
       "      <td>0.300333</td>\n",
       "      <td>answer_D</td>\n",
       "    </tr>\n",
       "    <tr>\n",
       "      <th>380347</th>\n",
       "      <td>59</td>\n",
       "      <td>l10_39</td>\n",
       "      <td>LEFT</td>\n",
       "      <td>Left</td>\n",
       "      <td>RECORDING_SESSION</td>\n",
       "      <td>6156.0</td>\n",
       "      <td>.</td>\n",
       "      <td>1281</td>\n",
       "      <td>0</td>\n",
       "      <td>0.0000</td>\n",
       "      <td>...</td>\n",
       "      <td>12</td>\n",
       "      <td>answer_D</td>\n",
       "      <td>142.833333</td>\n",
       "      <td>0.666667</td>\n",
       "      <td>99.083333</td>\n",
       "      <td>0.666667</td>\n",
       "      <td>1714</td>\n",
       "      <td>5707</td>\n",
       "      <td>0.300333</td>\n",
       "      <td>answer_D</td>\n",
       "    </tr>\n",
       "    <tr>\n",
       "      <th>380348</th>\n",
       "      <td>59</td>\n",
       "      <td>l10_39</td>\n",
       "      <td>LEFT</td>\n",
       "      <td>Left</td>\n",
       "      <td>RECORDING_SESSION</td>\n",
       "      <td>8208.0</td>\n",
       "      <td>439.00</td>\n",
       "      <td>1281</td>\n",
       "      <td>209</td>\n",
       "      <td>0.0345</td>\n",
       "      <td>...</td>\n",
       "      <td>12</td>\n",
       "      <td>answer_D</td>\n",
       "      <td>142.833333</td>\n",
       "      <td>0.666667</td>\n",
       "      <td>99.083333</td>\n",
       "      <td>0.666667</td>\n",
       "      <td>1714</td>\n",
       "      <td>5707</td>\n",
       "      <td>0.300333</td>\n",
       "      <td>answer_D</td>\n",
       "    </tr>\n",
       "    <tr>\n",
       "      <th>380349</th>\n",
       "      <td>59</td>\n",
       "      <td>l10_39</td>\n",
       "      <td>LEFT</td>\n",
       "      <td>Left</td>\n",
       "      <td>RECORDING_SESSION</td>\n",
       "      <td>8316.0</td>\n",
       "      <td>.</td>\n",
       "      <td>1281</td>\n",
       "      <td>0</td>\n",
       "      <td>0.0000</td>\n",
       "      <td>...</td>\n",
       "      <td>12</td>\n",
       "      <td>answer_D</td>\n",
       "      <td>142.833333</td>\n",
       "      <td>0.666667</td>\n",
       "      <td>99.083333</td>\n",
       "      <td>0.666667</td>\n",
       "      <td>1714</td>\n",
       "      <td>5707</td>\n",
       "      <td>0.300333</td>\n",
       "      <td>answer_D</td>\n",
       "    </tr>\n",
       "  </tbody>\n",
       "</table>\n",
       "<p>380350 rows × 187 columns</p>\n",
       "</div>"
      ]
     },
     "execution_count": 34,
     "metadata": {},
     "output_type": "execute_result"
    }
   ],
   "execution_count": 34
  }
 ],
 "metadata": {
  "kernelspec": {
   "display_name": "Python 3",
   "language": "python",
   "name": "python3"
  },
  "language_info": {
   "codemirror_mode": {
    "name": "ipython",
    "version": 2
   },
   "file_extension": ".py",
   "mimetype": "text/x-python",
   "name": "python",
   "nbconvert_exporter": "python",
   "pygments_lexer": "ipython2",
   "version": "2.7.6"
  }
 },
 "nbformat": 4,
 "nbformat_minor": 5
}
