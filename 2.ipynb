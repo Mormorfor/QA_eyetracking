{
 "cells": [
  {
   "cell_type": "code",
   "id": "initial_id",
   "metadata": {
    "collapsed": true,
    "ExecuteTime": {
     "end_time": "2025-01-03T15:05:45.839802Z",
     "start_time": "2025-01-03T15:05:45.824680Z"
    }
   },
   "source": [
    "import pandas as pd\n",
    "import numpy as np"
   ],
   "outputs": [],
   "execution_count": 155
  },
  {
   "metadata": {
    "ExecuteTime": {
     "end_time": "2025-01-03T15:05:45.855406Z",
     "start_time": "2025-01-03T15:05:45.850325Z"
    }
   },
   "cell_type": "code",
   "source": [
    "ia_Q_path = \"full/ia_Q.csv\"\n",
    "ia_A_path = \"full/ia_A.csv\"\n",
    "ia_QA_path = \"full/ia_QA.csv\""
   ],
   "id": "35385fb404044c07",
   "outputs": [],
   "execution_count": 156
  },
  {
   "metadata": {
    "ExecuteTime": {
     "end_time": "2025-01-03T15:06:05.419200Z",
     "start_time": "2025-01-03T15:05:45.902788Z"
    }
   },
   "cell_type": "code",
   "source": [
    "#df_Q = pd.read_csv(ia_Q_path)\n",
    "df_A = pd.read_csv(ia_A_path)\n",
    "#df_QA = pd.read_csv(ia_QA_path)"
   ],
   "id": "6944e9cceec85e66",
   "outputs": [],
   "execution_count": 157
  },
  {
   "metadata": {
    "ExecuteTime": {
     "end_time": "2025-01-03T15:06:05.730354Z",
     "start_time": "2025-01-03T15:06:05.467086Z"
    }
   },
   "cell_type": "code",
   "source": [
    "df_A['IA_FIRST_FIXATION_DURATION_INT'] = df_A[\"IA_FIRST_FIXATION_DURATION\"].replace('.', 0).astype(float)\n",
    "df_A['IA_LAST_FIXATION_TIME_INT'] = df_A[\"IA_LAST_FIXATION_TIME\"].replace('.', 0).astype(float)\n"
   ],
   "id": "c622b3e79b3696f2",
   "outputs": [],
   "execution_count": 158
  },
  {
   "metadata": {
    "ExecuteTime": {
     "end_time": "2025-01-03T15:06:08.850487Z",
     "start_time": "2025-01-03T15:06:05.794025Z"
    }
   },
   "cell_type": "code",
   "source": [
    "df_A_filtered = df_A[(df_A['repeated_reading_trial'] == False) & ((df_A['practice_trial'] == False))]\n",
    "\n",
    "df_A_hunters = df_A_filtered[df_A_filtered['question_preview'] == True]\n",
    "df_A_gatherers = df_A_filtered[df_A_filtered['question_preview'] == False]"
   ],
   "id": "7d70f6b1cd82ef44",
   "outputs": [],
   "execution_count": 159
  },
  {
   "metadata": {
    "ExecuteTime": {
     "end_time": "2025-01-03T15:06:08.926950Z",
     "start_time": "2025-01-03T15:06:08.911943Z"
    }
   },
   "cell_type": "code",
   "source": [
    "def create_area_label(df):\n",
    "    for col in ['question', 'answer_1', 'answer_2', 'answer_3', 'answer_4']:\n",
    "        df[col] = df[col].fillna('').astype(str)\n",
    "\n",
    "    df['question_tokens'] = df['question'].str.split()\n",
    "    df['a_tokens'] = df['answer_1'].str.split()\n",
    "    df['b_tokens'] = df['answer_2'].str.split()\n",
    "    df['c_tokens'] = df['answer_3'].str.split()\n",
    "    df['d_tokens'] = df['answer_4'].str.split()\n",
    "\n",
    "    df['question_len'] = df['question_tokens'].apply(len)\n",
    "    df['a_len'] = df['a_tokens'].apply(len)\n",
    "    df['b_len'] = df['b_tokens'].apply(len)\n",
    "    df['c_len'] = df['c_tokens'].apply(len)\n",
    "    df['d_len'] = df['d_tokens'].apply(len)\n",
    "\n",
    "    def assign_area(group):\n",
    "        q_len = group['question_len'].iloc[0]\n",
    "        a_len = group['a_len'].iloc[0]\n",
    "        b_len = group['b_len'].iloc[0]\n",
    "        c_len = group['c_len'].iloc[0]\n",
    "        d_len = group['d_len'].iloc[0]\n",
    "\n",
    "        q_end = q_len - 1\n",
    "        a_end = q_len + a_len - 1\n",
    "        b_end = q_len + a_len + b_len - 1\n",
    "        c_end = q_len + a_len + b_len + c_len - 1\n",
    "\n",
    "        index_id = group['IA_ID'] - 1\n",
    "\n",
    "        conditions = [\n",
    "            (index_id <= q_end),\n",
    "            (index_id > q_end) & (index_id <= a_end),\n",
    "            (index_id > a_end) & (index_id <= b_end),\n",
    "            (index_id > b_end) & (index_id <= c_end),\n",
    "            (index_id > c_end)\n",
    "        ]\n",
    "\n",
    "        choices = ['question', 'answer_1', 'answer_2', 'answer_3', 'answer_4']\n",
    "        group['area_label'] = np.select(conditions, choices, default='unknown')\n",
    "        return group\n",
    "\n",
    "    df_area_split = df.groupby(['TRIAL_INDEX', 'participant_id'], group_keys=False).apply(assign_area)\n",
    "    return df_area_split"
   ],
   "id": "a8e51f67637e2ab",
   "outputs": [],
   "execution_count": 160
  },
  {
   "metadata": {
    "ExecuteTime": {
     "end_time": "2025-01-03T15:06:09.003588Z",
     "start_time": "2025-01-03T15:06:08.989797Z"
    }
   },
   "cell_type": "code",
   "source": [
    "def create_correct_answer(df):\n",
    "    df['is_correct'] = (df['selected_answer_position'] == df['correct_answer_position']).astype(int)\n",
    "    return df\n"
   ],
   "id": "2a4301bcbb64d9ae",
   "outputs": [],
   "execution_count": 161
  },
  {
   "metadata": {
    "ExecuteTime": {
     "end_time": "2025-01-03T15:06:09.065024Z",
     "start_time": "2025-01-03T15:06:09.050626Z"
    }
   },
   "cell_type": "code",
   "source": "",
   "id": "64ee16cf7a7e1002",
   "outputs": [],
   "execution_count": null
  },
  {
   "metadata": {
    "ExecuteTime": {
     "end_time": "2025-01-03T15:06:09.127028Z",
     "start_time": "2025-01-03T15:06:09.112941Z"
    }
   },
   "cell_type": "code",
   "source": [
    "def generate_new_row_features(functions, df):\n",
    "    for func in functions:\n",
    "        df = func(df.copy())\n",
    "    return df"
   ],
   "id": "483a413105bfe0a9",
   "outputs": [],
   "execution_count": 162
  },
  {
   "metadata": {
    "ExecuteTime": {
     "end_time": "2025-01-03T15:07:48.926957Z",
     "start_time": "2025-01-03T15:06:09.189248Z"
    }
   },
   "cell_type": "code",
   "source": [
    "per_row_feature_generators = [create_correct_answer, create_area_label]\n",
    "df_with_features_h = generate_new_row_features(per_row_feature_generators, df_A_hunters)\n",
    "df_with_features_g = generate_new_row_features(per_row_feature_generators, df_A_gatherers)"
   ],
   "id": "da537d21c7f90fa",
   "outputs": [
    {
     "name": "stderr",
     "output_type": "stream",
     "text": [
      "C:\\Users\\deeth\\AppData\\Local\\Temp\\ipykernel_29172\\1761567657.py:43: DeprecationWarning: DataFrameGroupBy.apply operated on the grouping columns. This behavior is deprecated, and in a future version of pandas the grouping columns will be excluded from the operation. Either pass `include_groups=False` to exclude the groupings or explicitly select the grouping columns after groupby to silence this warning.\n",
      "  df_area_split = df.groupby(['TRIAL_INDEX', 'participant_id'], group_keys=False).apply(assign_area)\n",
      "C:\\Users\\deeth\\AppData\\Local\\Temp\\ipykernel_29172\\1761567657.py:43: DeprecationWarning: DataFrameGroupBy.apply operated on the grouping columns. This behavior is deprecated, and in a future version of pandas the grouping columns will be excluded from the operation. Either pass `include_groups=False` to exclude the groupings or explicitly select the grouping columns after groupby to silence this warning.\n",
      "  df_area_split = df.groupby(['TRIAL_INDEX', 'participant_id'], group_keys=False).apply(assign_area)\n"
     ]
    }
   ],
   "execution_count": 163
  },
  {
   "metadata": {
    "ExecuteTime": {
     "end_time": "2025-01-03T15:07:49.158740Z",
     "start_time": "2025-01-03T15:07:49.145624Z"
    }
   },
   "cell_type": "code",
   "source": "",
   "id": "95c11426fcd4aced",
   "outputs": [],
   "execution_count": null
  },
  {
   "metadata": {
    "ExecuteTime": {
     "end_time": "2025-01-03T15:07:49.173927Z",
     "start_time": "2025-01-03T15:07:49.163817Z"
    }
   },
   "cell_type": "code",
   "source": [
    "def create_mean_area_dwell_time(grouped):\n",
    "    return grouped.agg(mean_dwell_time=(\"IA_DWELL_TIME\", \"mean\"))"
   ],
   "id": "85a61a454db7d071",
   "outputs": [],
   "execution_count": 164
  },
  {
   "metadata": {
    "ExecuteTime": {
     "end_time": "2025-01-03T15:07:49.266137Z",
     "start_time": "2025-01-03T15:07:49.253008Z"
    }
   },
   "cell_type": "code",
   "source": [
    "def create_mean_area_fixation_count(grouped):\n",
    "    return grouped.agg(mean_fixations_count=(\"IA_FIXATION_COUNT\", \"mean\"))"
   ],
   "id": "b61e60e83500617e",
   "outputs": [],
   "execution_count": 165
  },
  {
   "metadata": {
    "ExecuteTime": {
     "end_time": "2025-01-03T15:07:49.359645Z",
     "start_time": "2025-01-03T15:07:49.345504Z"
    }
   },
   "cell_type": "code",
   "source": [
    "def create_mean_first_fixation_duration(grouped):\n",
    "    result = grouped.agg(mean_first_fixation_duration=(\"IA_FIRST_FIXATION_DURATION_INT\", \"mean\"))\n",
    "    return result"
   ],
   "id": "e42f450d8dc1802b",
   "outputs": [],
   "execution_count": 166
  },
  {
   "metadata": {
    "ExecuteTime": {
     "end_time": "2025-01-03T15:07:49.450515Z",
     "start_time": "2025-01-03T15:07:49.436512Z"
    }
   },
   "cell_type": "code",
   "source": [
    "def create_skip_rate(grouped):\n",
    "    return grouped.agg(skip_rate=(\"IA_SKIP\", \"mean\"))\n"
   ],
   "id": "b725713d28077739",
   "outputs": [],
   "execution_count": 167
  },
  {
   "metadata": {
    "ExecuteTime": {
     "end_time": "2025-01-03T15:07:49.528470Z",
     "start_time": "2025-01-03T15:07:49.514958Z"
    }
   },
   "cell_type": "code",
   "source": [
    "def create_area_dwell_proportion(grouped):\n",
    "    aggregator = grouped[\"IA_DWELL_TIME\"].sum()\n",
    "    aggregator = aggregator.unstack(\"area_label\", fill_value=0)\n",
    "    aggregator[\"total_dwell_time\"] = aggregator.sum(axis=1)\n",
    "    aggregator_proportions = aggregator.div(aggregator[\"total_dwell_time\"], axis=0).fillna(0)\n",
    "    aggregator_proportions.drop(columns=\"total_dwell_time\", inplace=True)\n",
    "    aggregator_proportions = aggregator_proportions.stack().reset_index()\n",
    "    aggregator_proportions = aggregator_proportions.rename(columns={0: \"area_dwell_proportion\"})\n",
    "\n",
    "    return aggregator_proportions"
   ],
   "id": "2856420f436e5298",
   "outputs": [],
   "execution_count": 168
  },
  {
   "metadata": {
    "ExecuteTime": {
     "end_time": "2025-01-03T15:09:49.652449Z",
     "start_time": "2025-01-03T15:09:49.635403Z"
    }
   },
   "cell_type": "code",
   "source": [
    "def create_last_area_visited(grouped):\n",
    "    df = grouped.obj.copy()\n",
    "    group_cols_excluding_area = [\"TRIAL_INDEX\", \"participant_id\", \"is_correct\"]\n",
    "    df[\"max_IA_LAST_FIX_TIME\"] = df.groupby(group_cols_excluding_area)[\"IA_LAST_FIXATION_TIME_INT\"].transform(\"max\")\n",
    "    df[\"last_area_visited\"] = (df[\"IA_LAST_FIXATION_TIME_INT\"] == df[\"max_IA_LAST_FIX_TIME\"]).astype(int)\n",
    "    final = (\n",
    "        df\n",
    "        .groupby(group_cols_excluding_area + [\"area_label\"], as_index=False)[\"last_area_visited\"]\n",
    "        .max()\n",
    "    )\n",
    "    return final"
   ],
   "id": "9ee54c50d55d2dc3",
   "outputs": [],
   "execution_count": 178
  },
  {
   "metadata": {},
   "cell_type": "code",
   "outputs": [],
   "execution_count": null,
   "source": "",
   "id": "fc5089d5092ac50a"
  },
  {
   "metadata": {
    "ExecuteTime": {
     "end_time": "2025-01-03T15:11:38.109282Z",
     "start_time": "2025-01-03T15:11:38.099157Z"
    }
   },
   "cell_type": "code",
   "source": [
    "def generate_new_area_features(functions, df, group_by):\n",
    "    grouped = df.groupby(group_by)\n",
    "    features = [func(grouped) for func in functions]\n",
    "    result = features[0]\n",
    "    for feature in features[1:]:\n",
    "        result = result.merge(feature, on=group_by, how=\"left\")\n",
    "    return result.reset_index()"
   ],
   "id": "c12dcb9e6c66d2c3",
   "outputs": [],
   "execution_count": 186
  },
  {
   "metadata": {
    "ExecuteTime": {
     "end_time": "2025-01-03T15:11:41.993563Z",
     "start_time": "2025-01-03T15:11:38.967565Z"
    }
   },
   "cell_type": "code",
   "source": [
    "per_area_feature_generators = [create_mean_area_dwell_time, create_mean_area_fixation_count, create_mean_first_fixation_duration,\n",
    "                               create_skip_rate, create_area_dwell_proportion, create_last_area_visited]\n",
    "feature_columns_generated = [\"mean_dwell_time\",\"mean_fixations_count\",\"mean_first_fixation_duration\",\n",
    "                                \"skip_rate\", \"area_dwell_proportion\", \"last_area_visited\"]\n",
    "group_by_columns = [\"TRIAL_INDEX\", \"participant_id\", \"area_label\", \"is_correct\"]\n",
    "\n",
    "df_with_area_features_h = generate_new_area_features(per_area_feature_generators, df_with_features_h, group_by_columns)\n",
    "df_with_area_features_g = generate_new_area_features(per_area_feature_generators, df_with_features_g, group_by_columns)"
   ],
   "id": "a64ad6a4df6728dd",
   "outputs": [],
   "execution_count": 187
  },
  {
   "metadata": {
    "ExecuteTime": {
     "end_time": "2025-01-03T15:11:45.754803Z",
     "start_time": "2025-01-03T15:11:45.731525Z"
    }
   },
   "cell_type": "code",
   "source": "df_with_area_features_h",
   "id": "fe86e8fa37d9e1e6",
   "outputs": [
    {
     "data": {
      "text/plain": [
       "       index  TRIAL_INDEX participant_id area_label  is_correct  \\\n",
       "0          0            3        l10_338   answer_1           0   \n",
       "1          1            3        l10_338   answer_2           0   \n",
       "2          2            3        l10_338   answer_3           0   \n",
       "3          3            3        l10_338   answer_4           0   \n",
       "4          4            3        l10_338   question           0   \n",
       "...      ...          ...            ...        ...         ...   \n",
       "48590  48590           96         l5_175   answer_1           1   \n",
       "48591  48591           96         l5_175   answer_2           1   \n",
       "48592  48592           96         l5_175   answer_3           1   \n",
       "48593  48593           96         l5_175   answer_4           1   \n",
       "48594  48594           96         l5_175   question           1   \n",
       "\n",
       "       mean_dwell_time  mean_fixations_count  mean_first_fixation_duration  \\\n",
       "0           618.600000              3.400000                    137.200000   \n",
       "1           932.000000              3.333333                    300.000000   \n",
       "2           375.166667              2.166667                    131.333333   \n",
       "3          1186.000000              5.333333                    171.000000   \n",
       "4            28.600000              0.200000                     28.600000   \n",
       "...                ...                   ...                           ...   \n",
       "48590        95.250000              0.625000                     95.250000   \n",
       "48591        79.700000              0.500000                     79.700000   \n",
       "48592       261.300000              1.400000                     93.000000   \n",
       "48593       104.100000              0.800000                     93.300000   \n",
       "48594         0.000000              0.000000                      0.000000   \n",
       "\n",
       "       skip_rate  area_dwell_proportion  last_area_visited  \n",
       "0       0.400000               0.261211                  0  \n",
       "1       1.000000               0.236129                  0  \n",
       "2       0.500000               0.190102                  0  \n",
       "3       0.333333               0.300481                  1  \n",
       "4       0.800000               0.012077                  0  \n",
       "...          ...                    ...                ...  \n",
       "48590   0.375000               0.146173                  0  \n",
       "48591   1.000000               0.152887                  0  \n",
       "48592   0.500000               0.501247                  1  \n",
       "48593   0.500000               0.199693                  0  \n",
       "48594   1.000000               0.000000                  0  \n",
       "\n",
       "[48595 rows x 11 columns]"
      ],
      "text/html": [
       "<div>\n",
       "<style scoped>\n",
       "    .dataframe tbody tr th:only-of-type {\n",
       "        vertical-align: middle;\n",
       "    }\n",
       "\n",
       "    .dataframe tbody tr th {\n",
       "        vertical-align: top;\n",
       "    }\n",
       "\n",
       "    .dataframe thead th {\n",
       "        text-align: right;\n",
       "    }\n",
       "</style>\n",
       "<table border=\"1\" class=\"dataframe\">\n",
       "  <thead>\n",
       "    <tr style=\"text-align: right;\">\n",
       "      <th></th>\n",
       "      <th>index</th>\n",
       "      <th>TRIAL_INDEX</th>\n",
       "      <th>participant_id</th>\n",
       "      <th>area_label</th>\n",
       "      <th>is_correct</th>\n",
       "      <th>mean_dwell_time</th>\n",
       "      <th>mean_fixations_count</th>\n",
       "      <th>mean_first_fixation_duration</th>\n",
       "      <th>skip_rate</th>\n",
       "      <th>area_dwell_proportion</th>\n",
       "      <th>last_area_visited</th>\n",
       "    </tr>\n",
       "  </thead>\n",
       "  <tbody>\n",
       "    <tr>\n",
       "      <th>0</th>\n",
       "      <td>0</td>\n",
       "      <td>3</td>\n",
       "      <td>l10_338</td>\n",
       "      <td>answer_1</td>\n",
       "      <td>0</td>\n",
       "      <td>618.600000</td>\n",
       "      <td>3.400000</td>\n",
       "      <td>137.200000</td>\n",
       "      <td>0.400000</td>\n",
       "      <td>0.261211</td>\n",
       "      <td>0</td>\n",
       "    </tr>\n",
       "    <tr>\n",
       "      <th>1</th>\n",
       "      <td>1</td>\n",
       "      <td>3</td>\n",
       "      <td>l10_338</td>\n",
       "      <td>answer_2</td>\n",
       "      <td>0</td>\n",
       "      <td>932.000000</td>\n",
       "      <td>3.333333</td>\n",
       "      <td>300.000000</td>\n",
       "      <td>1.000000</td>\n",
       "      <td>0.236129</td>\n",
       "      <td>0</td>\n",
       "    </tr>\n",
       "    <tr>\n",
       "      <th>2</th>\n",
       "      <td>2</td>\n",
       "      <td>3</td>\n",
       "      <td>l10_338</td>\n",
       "      <td>answer_3</td>\n",
       "      <td>0</td>\n",
       "      <td>375.166667</td>\n",
       "      <td>2.166667</td>\n",
       "      <td>131.333333</td>\n",
       "      <td>0.500000</td>\n",
       "      <td>0.190102</td>\n",
       "      <td>0</td>\n",
       "    </tr>\n",
       "    <tr>\n",
       "      <th>3</th>\n",
       "      <td>3</td>\n",
       "      <td>3</td>\n",
       "      <td>l10_338</td>\n",
       "      <td>answer_4</td>\n",
       "      <td>0</td>\n",
       "      <td>1186.000000</td>\n",
       "      <td>5.333333</td>\n",
       "      <td>171.000000</td>\n",
       "      <td>0.333333</td>\n",
       "      <td>0.300481</td>\n",
       "      <td>1</td>\n",
       "    </tr>\n",
       "    <tr>\n",
       "      <th>4</th>\n",
       "      <td>4</td>\n",
       "      <td>3</td>\n",
       "      <td>l10_338</td>\n",
       "      <td>question</td>\n",
       "      <td>0</td>\n",
       "      <td>28.600000</td>\n",
       "      <td>0.200000</td>\n",
       "      <td>28.600000</td>\n",
       "      <td>0.800000</td>\n",
       "      <td>0.012077</td>\n",
       "      <td>0</td>\n",
       "    </tr>\n",
       "    <tr>\n",
       "      <th>...</th>\n",
       "      <td>...</td>\n",
       "      <td>...</td>\n",
       "      <td>...</td>\n",
       "      <td>...</td>\n",
       "      <td>...</td>\n",
       "      <td>...</td>\n",
       "      <td>...</td>\n",
       "      <td>...</td>\n",
       "      <td>...</td>\n",
       "      <td>...</td>\n",
       "      <td>...</td>\n",
       "    </tr>\n",
       "    <tr>\n",
       "      <th>48590</th>\n",
       "      <td>48590</td>\n",
       "      <td>96</td>\n",
       "      <td>l5_175</td>\n",
       "      <td>answer_1</td>\n",
       "      <td>1</td>\n",
       "      <td>95.250000</td>\n",
       "      <td>0.625000</td>\n",
       "      <td>95.250000</td>\n",
       "      <td>0.375000</td>\n",
       "      <td>0.146173</td>\n",
       "      <td>0</td>\n",
       "    </tr>\n",
       "    <tr>\n",
       "      <th>48591</th>\n",
       "      <td>48591</td>\n",
       "      <td>96</td>\n",
       "      <td>l5_175</td>\n",
       "      <td>answer_2</td>\n",
       "      <td>1</td>\n",
       "      <td>79.700000</td>\n",
       "      <td>0.500000</td>\n",
       "      <td>79.700000</td>\n",
       "      <td>1.000000</td>\n",
       "      <td>0.152887</td>\n",
       "      <td>0</td>\n",
       "    </tr>\n",
       "    <tr>\n",
       "      <th>48592</th>\n",
       "      <td>48592</td>\n",
       "      <td>96</td>\n",
       "      <td>l5_175</td>\n",
       "      <td>answer_3</td>\n",
       "      <td>1</td>\n",
       "      <td>261.300000</td>\n",
       "      <td>1.400000</td>\n",
       "      <td>93.000000</td>\n",
       "      <td>0.500000</td>\n",
       "      <td>0.501247</td>\n",
       "      <td>1</td>\n",
       "    </tr>\n",
       "    <tr>\n",
       "      <th>48593</th>\n",
       "      <td>48593</td>\n",
       "      <td>96</td>\n",
       "      <td>l5_175</td>\n",
       "      <td>answer_4</td>\n",
       "      <td>1</td>\n",
       "      <td>104.100000</td>\n",
       "      <td>0.800000</td>\n",
       "      <td>93.300000</td>\n",
       "      <td>0.500000</td>\n",
       "      <td>0.199693</td>\n",
       "      <td>0</td>\n",
       "    </tr>\n",
       "    <tr>\n",
       "      <th>48594</th>\n",
       "      <td>48594</td>\n",
       "      <td>96</td>\n",
       "      <td>l5_175</td>\n",
       "      <td>question</td>\n",
       "      <td>1</td>\n",
       "      <td>0.000000</td>\n",
       "      <td>0.000000</td>\n",
       "      <td>0.000000</td>\n",
       "      <td>1.000000</td>\n",
       "      <td>0.000000</td>\n",
       "      <td>0</td>\n",
       "    </tr>\n",
       "  </tbody>\n",
       "</table>\n",
       "<p>48595 rows × 11 columns</p>\n",
       "</div>"
      ]
     },
     "execution_count": 188,
     "metadata": {},
     "output_type": "execute_result"
    }
   ],
   "execution_count": 188
  },
  {
   "metadata": {
    "ExecuteTime": {
     "end_time": "2025-01-03T15:11:47.345758Z",
     "start_time": "2025-01-03T15:11:47.336304Z"
    }
   },
   "cell_type": "code",
   "source": [
    "def define_model_features(df, feature_columns):\n",
    "\n",
    "    df_wide = df.pivot_table(\n",
    "        index=[\"TRIAL_INDEX\", \"participant_id\"],\n",
    "        columns=\"area_label\",\n",
    "        values=feature_columns,\n",
    "        aggfunc='mean'\n",
    "    )\n",
    "\n",
    "    df_wide.columns = [\n",
    "        f\"{metric}_{cat}\"\n",
    "        for metric, cat in df_wide.columns\n",
    "    ]\n",
    "\n",
    "    df_label = df.groupby([\"TRIAL_INDEX\", \"participant_id\"])[\"is_correct\"].max()\n",
    "    df_final = df_wide.join(df_label, how=\"left\")\n",
    "    return df_final"
   ],
   "id": "61b0eab574012ddb",
   "outputs": [],
   "execution_count": 189
  },
  {
   "metadata": {
    "ExecuteTime": {
     "end_time": "2025-01-03T15:11:48.951524Z",
     "start_time": "2025-01-03T15:11:48.879672Z"
    }
   },
   "cell_type": "code",
   "source": [
    "df_fin_h = define_model_features(df_with_area_features_h, feature_columns_generated)\n",
    "df_fin_g = define_model_features(df_with_area_features_g, feature_columns_generated)"
   ],
   "id": "c24dd15f7869b765",
   "outputs": [],
   "execution_count": 190
  },
  {
   "metadata": {
    "ExecuteTime": {
     "end_time": "2025-01-03T15:11:50.130043Z",
     "start_time": "2025-01-03T15:11:50.119568Z"
    }
   },
   "cell_type": "code",
   "source": [
    "import matplotlib.pyplot as plt\n",
    "import seaborn as sns\n",
    "\n",
    "from sklearn.linear_model import LogisticRegression\n",
    "from sklearn.metrics import confusion_matrix, balanced_accuracy_score\n",
    "from sklearn.model_selection import train_test_split, StratifiedKFold\n",
    "from imblearn.over_sampling import SMOTE\n",
    "\n",
    "def train_and_evaluate_with_cv(df, n_splits=5):\n",
    "    X = df.drop(\"is_correct\", axis=1)\n",
    "    y = df[\"is_correct\"]\n",
    "\n",
    "    skf = StratifiedKFold(n_splits=n_splits, shuffle=True, random_state=42)\n",
    "    fold_bal_acc = []\n",
    "\n",
    "    for train_index, val_index in skf.split(X, y):\n",
    "        X_train_fold, X_val_fold = X.iloc[train_index], X.iloc[val_index]\n",
    "        y_train_fold, y_val_fold = y.iloc[train_index], y.iloc[val_index]\n",
    "\n",
    "        sm = SMOTE(random_state=42)\n",
    "        X_train_fold_res, y_train_fold_res = sm.fit_resample(X_train_fold, y_train_fold)\n",
    "\n",
    "        model = LogisticRegression(class_weight='balanced', max_iter=50000, random_state=42)\n",
    "        model.fit(X_train_fold_res, y_train_fold_res)\n",
    "\n",
    "        y_val_pred = model.predict(X_val_fold)\n",
    "\n",
    "        bal_acc = balanced_accuracy_score(y_val_fold, y_val_pred)\n",
    "        fold_bal_acc.append(bal_acc)\n",
    "\n",
    "    print(f\"Cross-Validation Balanced Accuracy (mean ± std): \"\n",
    "          f\"{np.mean(fold_bal_acc):.4f} ± {np.std(fold_bal_acc):.4f}\")\n",
    "\n",
    "\n",
    "    X_train, X_test, y_train, y_test = train_test_split(\n",
    "        X, y, test_size=0.2, random_state=42, stratify=y\n",
    "    )\n",
    "\n",
    "    sm = SMOTE(random_state=42)\n",
    "    X_train_res, y_train_res = sm.fit_resample(X_train, y_train)\n",
    "\n",
    "    final_model = LogisticRegression(class_weight='balanced', max_iter=50000, random_state=42)\n",
    "    final_model.fit(X_train_res, y_train_res)\n",
    "\n",
    "    y_pred_test = final_model.predict(X_test)\n",
    "    final_bal_acc = balanced_accuracy_score(y_test, y_pred_test)\n",
    "    print(f\"Final Test Balanced Accuracy = {final_bal_acc:.4f}\")\n",
    "\n",
    "    cm = confusion_matrix(y_test, y_pred_test)\n",
    "    plt.figure(figsize=(5,4))\n",
    "    sns.heatmap(cm, annot=True, fmt='d', cmap='Blues')\n",
    "    plt.title('Confusion Matrix (Hold-out Test)')\n",
    "    plt.xlabel('Predicted')\n",
    "    plt.ylabel('True')\n",
    "    plt.show()\n"
   ],
   "id": "879d3a53d7acb516",
   "outputs": [],
   "execution_count": 191
  },
  {
   "metadata": {
    "ExecuteTime": {
     "end_time": "2025-01-03T15:12:14.144878Z",
     "start_time": "2025-01-03T15:11:52.559730Z"
    }
   },
   "cell_type": "code",
   "source": [
    "print('for \"hunters\" trials')\n",
    "train_and_evaluate_with_cv(df_fin_h)"
   ],
   "id": "5babfb62bbd57eab",
   "outputs": [
    {
     "name": "stdout",
     "output_type": "stream",
     "text": [
      "for \"hunters\" trials\n",
      "Cross-Validation Balanced Accuracy (mean ± std): 0.6207 ± 0.0104\n",
      "Final Test Balanced Accuracy = 0.6316\n"
     ]
    },
    {
     "data": {
      "text/plain": [
       "<Figure size 500x400 with 2 Axes>"
      ],
      "image/png": "[encoded data removed]"
     },
     "metadata": {},
     "output_type": "display_data"
    }
   ],
   "execution_count": 192
  },
  {
   "metadata": {
    "ExecuteTime": {
     "end_time": "2025-01-03T15:12:40.389835Z",
     "start_time": "2025-01-03T15:12:17.850322Z"
    }
   },
   "cell_type": "code",
   "source": [
    "print('for \"gatherers\" trials')\n",
    "train_and_evaluate_with_cv(df_fin_g)"
   ],
   "id": "79412f0b0181ed71",
   "outputs": [
    {
     "name": "stdout",
     "output_type": "stream",
     "text": [
      "for \"gatherers\" trials\n",
      "Cross-Validation Balanced Accuracy (mean ± std): 0.6313 ± 0.0145\n",
      "Final Test Balanced Accuracy = 0.6089\n"
     ]
    },
    {
     "data": {
      "text/plain": [
       "<Figure size 500x400 with 2 Axes>"
      ],
      "image/png": "[encoded data removed]"
     },
     "metadata": {},
     "output_type": "display_data"
    }
   ],
   "execution_count": 193
  },
  {
   "metadata": {
    "ExecuteTime": {
     "end_time": "2025-01-03T15:08:35.664611Z",
     "start_time": "2025-01-03T15:08:35.652456Z"
    }
   },
   "cell_type": "code",
   "source": [
    "#column reminders:\n",
    "\n",
    "# IA_FIRST_SACCADE_AMPLITUDE - entering into the current interest area\n",
    "# IA_REGRESSION_OUT_COUNT - Number of times interest area was exited to a lower IA_ID before a higher IA_ID was fixated in the trial.\n",
    "# IA_REGRESSION_IN_COUNT - Number of times interest area was entered from a higher IA_ID\n",
    "# IA_SELECTIVE_REGRESSION_PATH_DURATION - Duration of fixations and refixations of the current interest area before the eyes enter an interest area\n",
    "#                                         with a higher ID.\n",
    "\n",
    "#IA_FIRST_FIXATION_PREVIOUS_IAREAS -  is kinda weird\n",
    "\n",
    "\n",
    "# selected_answer_position and correct_answer_position"
   ],
   "id": "ee3d949430e00b4",
   "outputs": [],
   "execution_count": 176
  },
  {
   "metadata": {
    "ExecuteTime": {
     "end_time": "2025-01-03T15:08:35.741290Z",
     "start_time": "2025-01-03T15:08:35.729023Z"
    }
   },
   "cell_type": "code",
   "source": [
    "#column questions:\n",
    "\n",
    "# What exactly are the 0's in INTEREST_AREA_FIXATION_SEQUENCE? No such IA id\n",
    "# What are critical_span_indices in the Answers page? Also distractor_span_indices and same_critical_span"
   ],
   "id": "495b0c8979d78602",
   "outputs": [],
   "execution_count": 177
  }
 ],
 "metadata": {
  "kernelspec": {
   "display_name": "Python 3",
   "language": "python",
   "name": "python3"
  },
  "language_info": {
   "codemirror_mode": {
    "name": "ipython",
    "version": 2
   },
   "file_extension": ".py",
   "mimetype": "text/x-python",
   "name": "python",
   "nbconvert_exporter": "python",
   "pygments_lexer": "ipython2",
   "version": "2.7.6"
  }
 },
 "nbformat": 4,
 "nbformat_minor": 5
}
