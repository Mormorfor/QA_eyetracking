{
 "cells": [
  {
   "cell_type": "code",
   "id": "initial_id",
   "metadata": {
    "collapsed": true,
    "ExecuteTime": {
     "end_time": "2025-04-12T06:59:21.579478Z",
     "start_time": "2025-04-12T06:59:21.560403Z"
    }
   },
   "source": [
    "import pandas as pd\n",
    "import numpy as np\n",
    "import ast\n",
    "import itertools\n",
    "from itertools import combinations\n",
    "\n",
    "import seaborn as sns\n",
    "import matplotlib.pyplot as plt\n",
    "import matplotlib.patches as mpatches\n",
    "\n",
    "from scipy.stats import mannwhitneyu\n",
    "\n",
    "import statsmodels.formula.api as smf\n",
    "from statsmodels.tools.sm_exceptions import ConvergenceWarning\n",
    "import warnings\n",
    "\n",
    "import networkx as nx\n",
    "from matplotlib.lines import Line2D\n",
    "import math"
   ],
   "outputs": [],
   "execution_count": 25
  },
  {
   "metadata": {},
   "cell_type": "markdown",
   "source": "### Loading Data",
   "id": "63d40d411f5f029a"
  },
  {
   "metadata": {
    "ExecuteTime": {
     "end_time": "2025-04-12T06:43:18.392574Z",
     "start_time": "2025-04-12T06:43:01.939985Z"
    }
   },
   "cell_type": "code",
   "source": [
    "ia_A_path = \"full/ia_A.csv\"\n",
    "df_A = pd.read_csv(ia_A_path)"
   ],
   "id": "d3bee52385e78a99",
   "outputs": [],
   "execution_count": 2
  },
  {
   "metadata": {
    "ExecuteTime": {
     "end_time": "2025-04-12T06:43:56.875781Z",
     "start_time": "2025-04-12T06:43:30.638308Z"
    }
   },
   "cell_type": "code",
   "source": [
    "fix_A_path = \"full/fixations_A.csv\"\n",
    "df_fix_A = pd.read_csv(fix_A_path)"
   ],
   "id": "e9908a02bfafd27d",
   "outputs": [
    {
     "name": "stderr",
     "output_type": "stream",
     "text": [
      "C:\\Users\\deeth\\AppData\\Local\\Temp\\ipykernel_23920\\878136727.py:2: DtypeWarning: Columns (37,38,40,41) have mixed types. Specify dtype option on import or set low_memory=False.\n",
      "  df_fix_A = pd.read_csv(fix_A_path)\n"
     ]
    }
   ],
   "execution_count": 3
  },
  {
   "metadata": {},
   "cell_type": "markdown",
   "source": "### Data Preprocessing",
   "id": "8377ddca10471a9f"
  },
  {
   "metadata": {
    "ExecuteTime": {
     "end_time": "2025-04-12T06:44:16.362128Z",
     "start_time": "2025-04-12T06:44:11.410910Z"
    }
   },
   "cell_type": "code",
   "source": [
    "df_A_filtered = df_A[(df_A['repeated_reading_trial'] == False) & ((df_A['practice_trial'] == False))]\n",
    "\n",
    "article_col='article_id'\n",
    "difficulty_col='difficulty_level'\n",
    "batch_col='article_batch'\n",
    "paragraph_col='paragraph_id'\n",
    "\n",
    "df_A_filtered['text_id'] = (\n",
    "    df_A_filtered[article_col].astype(str) + '_' +\n",
    "    df_A_filtered[difficulty_col].astype(str) + '_' +\n",
    "    df_A_filtered[batch_col].astype(str) + '_' +\n",
    "    df_A_filtered[paragraph_col].astype(str)\n",
    ")\n",
    "\n",
    "df_A_hunters = df_A_filtered[df_A_filtered['question_preview'] == True].copy()\n",
    "df_A_gatherers = df_A_filtered[df_A_filtered['question_preview'] == False].copy()"
   ],
   "id": "4609b14d40add77b",
   "outputs": [
    {
     "name": "stderr",
     "output_type": "stream",
     "text": [
      "C:\\Users\\deeth\\AppData\\Local\\Temp\\ipykernel_23920\\1320471520.py:8: SettingWithCopyWarning: \n",
      "A value is trying to be set on a copy of a slice from a DataFrame.\n",
      "Try using .loc[row_indexer,col_indexer] = value instead\n",
      "\n",
      "See the caveats in the documentation: https://pandas.pydata.org/pandas-docs/stable/user_guide/indexing.html#returning-a-view-versus-a-copy\n",
      "  df_A_filtered['text_id'] = (\n"
     ]
    }
   ],
   "execution_count": 4
  },
  {
   "metadata": {
    "ExecuteTime": {
     "end_time": "2025-04-12T06:45:01.871633Z",
     "start_time": "2025-04-12T06:44:55.622758Z"
    }
   },
   "cell_type": "code",
   "source": [
    "df_fix_filtered = df_fix_A[(df_fix_A['repeated_reading_trial'] == False) & ((df_fix_A['practice_trial'] == False))]\n",
    "\n",
    "df_fix_hunters = df_fix_filtered[df_fix_filtered['question_preview'] == True].copy()\n",
    "df_fix_gatherers = df_fix_filtered[df_fix_filtered['question_preview'] == False].copy()"
   ],
   "id": "7b4561ed2ca9ebc0",
   "outputs": [],
   "execution_count": 5
  },
  {
   "metadata": {
    "ExecuteTime": {
     "end_time": "2025-04-12T07:16:15.541838Z",
     "start_time": "2025-04-12T07:16:15.521760Z"
    }
   },
   "cell_type": "code",
   "source": [
    "def get_fix_columns(df):\n",
    "    df_fix_seq = (\n",
    "        df.groupby(['participant_id', 'TRIAL_INDEX'], sort=False)\n",
    "        .agg({\n",
    "            'CURRENT_FIX_INTEREST_AREA_INDEX': list,\n",
    "            'CURRENT_FIX_DURATION': list\n",
    "        })\n",
    "        .reset_index()\n",
    "        .rename(columns={\n",
    "            'CURRENT_FIX_INTEREST_AREA_INDEX': 'fix_seq',\n",
    "            'CURRENT_FIX_DURATION': 'fix_duration'\n",
    "        })\n",
    "        )\n",
    "\n",
    "    def remove_consecutive_duplicates_with_duration(seq, durations):\n",
    "        short_seq = []\n",
    "        short_durations = []\n",
    "        for fixation, group in itertools.groupby(zip(seq, durations), key=lambda x: x[0]):\n",
    "            total_duration = sum(item[1] for item in group)\n",
    "            short_seq.append(fixation)\n",
    "            short_durations.append(total_duration)\n",
    "        return short_seq, short_durations\n",
    "\n",
    "    df_fix_seq[['short_fix_seq', 'short_fix_duration']] = df_fix_seq.apply(\n",
    "        lambda row: pd.Series(remove_consecutive_duplicates_with_duration(row['fix_seq'], row['fix_duration'])),\n",
    "        axis=1\n",
    "        )\n",
    "    return df_fix_seq"
   ],
   "id": "be8b13f3378d243e",
   "outputs": [],
   "execution_count": 52
  },
  {
   "metadata": {
    "ExecuteTime": {
     "end_time": "2025-04-12T07:16:20.596396Z",
     "start_time": "2025-04-12T07:16:17.479663Z"
    }
   },
   "cell_type": "code",
   "source": [
    "df_h_fix = get_fix_columns(df_fix_hunters)\n",
    "df_g_fix = get_fix_columns(df_fix_gatherers)"
   ],
   "id": "efab1a322083aa65",
   "outputs": [],
   "execution_count": 53
  },
  {
   "metadata": {
    "ExecuteTime": {
     "end_time": "2025-04-12T07:17:05.422835Z",
     "start_time": "2025-04-12T07:17:02.572385Z"
    }
   },
   "cell_type": "code",
   "source": [
    "df_A_hunters = df_A_hunters.merge(df_h_fix, on=['TRIAL_INDEX', 'participant_id'], how='left')\n",
    "df_A_gatherers = df_A_gatherers.merge(df_g_fix, on=['TRIAL_INDEX', 'participant_id'], how='left')"
   ],
   "id": "d57912d4e5ff8a42",
   "outputs": [],
   "execution_count": 55
  },
  {
   "metadata": {
    "ExecuteTime": {
     "end_time": "2025-04-12T07:21:30.496188Z",
     "start_time": "2025-04-12T07:21:13.871531Z"
    }
   },
   "cell_type": "code",
   "source": "df_A_gatherers[df_A_gatherers['short_fix_seq'] != df_A_gatherers['INTEREST_AREA_FIXATION_SEQUENCE'].apply(ast.literal_eval)][['INTEREST_AREA_FIXATION_SEQUENCE', 'short_fix_seq']]",
   "id": "5999491c80606a1d",
   "outputs": [
    {
     "data": {
      "text/plain": [
       "Empty DataFrame\n",
       "Columns: [INTEREST_AREA_FIXATION_SEQUENCE, short_fix_seq]\n",
       "Index: []"
      ],
      "text/html": [
       "<div>\n",
       "<style scoped>\n",
       "    .dataframe tbody tr th:only-of-type {\n",
       "        vertical-align: middle;\n",
       "    }\n",
       "\n",
       "    .dataframe tbody tr th {\n",
       "        vertical-align: top;\n",
       "    }\n",
       "\n",
       "    .dataframe thead th {\n",
       "        text-align: right;\n",
       "    }\n",
       "</style>\n",
       "<table border=\"1\" class=\"dataframe\">\n",
       "  <thead>\n",
       "    <tr style=\"text-align: right;\">\n",
       "      <th></th>\n",
       "      <th>INTEREST_AREA_FIXATION_SEQUENCE</th>\n",
       "      <th>short_fix_seq</th>\n",
       "    </tr>\n",
       "  </thead>\n",
       "  <tbody>\n",
       "  </tbody>\n",
       "</table>\n",
       "</div>"
      ]
     },
     "execution_count": 62,
     "metadata": {},
     "output_type": "execute_result"
    }
   ],
   "execution_count": 62
  },
  {
   "metadata": {},
   "cell_type": "markdown",
   "source": "### Creating Features",
   "id": "e8aa6419bf730c94"
  },
  {
   "metadata": {
    "ExecuteTime": {
     "end_time": "2025-04-12T07:21:46.241075Z",
     "start_time": "2025-04-12T07:21:46.226024Z"
    }
   },
   "cell_type": "code",
   "source": [
    "def create_area_screen_loc(df):\n",
    "    df = df.copy()\n",
    "    for col in ['question', 'answer_1', 'answer_2', 'answer_3', 'answer_4']:\n",
    "        df[col] = df[col].fillna('').astype(str)\n",
    "\n",
    "    df['question_tokens'] = df['question'].str.split()\n",
    "    df['1_tokens'] = df['answer_1'].str.split()\n",
    "    df['2_tokens'] = df['answer_2'].str.split()\n",
    "    df['3_tokens'] = df['answer_3'].str.split()\n",
    "    df['4_tokens'] = df['answer_4'].str.split()\n",
    "\n",
    "    df['question_len'] = df['question_tokens'].apply(len)\n",
    "    df['1_len'] = df['1_tokens'].apply(len)\n",
    "    df['2_len'] = df['2_tokens'].apply(len)\n",
    "    df['3_len'] = df['3_tokens'].apply(len)\n",
    "    df['4_len'] = df['4_tokens'].apply(len)\n",
    "\n",
    "    def assign_area(group):\n",
    "        q_len = group['question_len'].iloc[0]\n",
    "        first_len = group['1_len'].iloc[0]\n",
    "        second_len = group['2_len'].iloc[0]\n",
    "        third_len = group['3_len'].iloc[0]\n",
    "        fourth_len = group['4_len'].iloc[0]\n",
    "\n",
    "        q_end = q_len - 1\n",
    "        first_end = q_len + first_len - 1\n",
    "        second_end = q_len + first_len + second_len - 1\n",
    "        third_end = q_len + first_len + second_len + third_len - 1\n",
    "        fourth_end = q_len + first_len + second_len + third_len + fourth_len\n",
    "\n",
    "        index_id = group['IA_ID'] - 1\n",
    "\n",
    "        conditions = [\n",
    "            (index_id <= q_end),\n",
    "            (index_id > q_end) & (index_id <= first_end),\n",
    "            (index_id > first_end) & (index_id <= second_end),\n",
    "            (index_id > second_end) & (index_id <= third_end),\n",
    "            (index_id > third_end) & (index_id <= fourth_end)\n",
    "        ]\n",
    "\n",
    "        choices = ['question', 'answer_0', 'answer_1', 'answer_2', 'answer_3']\n",
    "        group['area_screen_loc'] = np.select(conditions, choices, default='unknown')\n",
    "        return group\n",
    "\n",
    "    df_area_split = df.set_index(['TRIAL_INDEX', 'participant_id']).groupby(['TRIAL_INDEX', 'participant_id'], group_keys=False).apply(assign_area)\n",
    "    return df_area_split"
   ],
   "id": "d6475fc95f4ebc47",
   "outputs": [],
   "execution_count": 65
  },
  {
   "metadata": {
    "ExecuteTime": {
     "end_time": "2025-04-12T07:21:48.545405Z",
     "start_time": "2025-04-12T07:21:48.540335Z"
    }
   },
   "cell_type": "code",
   "source": [
    "def create_area_label(df):\n",
    "    def get_screen_loc(row):\n",
    "        if row['area_screen_loc'] == 'question':\n",
    "            return 'question'\n",
    "        elif row['area_screen_loc'].startswith('answer_'):\n",
    "            answers_order = ast.literal_eval(row['answers_order'])\n",
    "            idx = int(row['area_screen_loc'].split('_')[1])\n",
    "            return f'answer_{answers_order[idx]}'\n",
    "        return None\n",
    "\n",
    "    df['area_label'] = df.apply(get_screen_loc, axis=1)\n",
    "    return df"
   ],
   "id": "f7fbefb22c9a730e",
   "outputs": [],
   "execution_count": 66
  },
  {
   "metadata": {
    "ExecuteTime": {
     "end_time": "2025-04-12T07:24:33.286750Z",
     "start_time": "2025-04-12T07:22:46.726985Z"
    }
   },
   "cell_type": "code",
   "source": [
    "def process_dataframe(df, functions):\n",
    "    for func in functions:\n",
    "        print(func)\n",
    "        df = func(df)\n",
    "    return df.reset_index()\n",
    "\n",
    "processing_functions = [\n",
    "    create_area_screen_loc,\n",
    "    create_area_label,\n",
    "]\n",
    "\n",
    "df_base_features_h = process_dataframe(df_A_hunters, processing_functions)\n",
    "df_base_features_g = process_dataframe(df_A_gatherers, processing_functions)"
   ],
   "id": "dd32e8bc99343dc5",
   "outputs": [
    {
     "name": "stdout",
     "output_type": "stream",
     "text": [
      "<function create_area_screen_loc at 0x000001E40CEB63B0>\n",
      "<function create_area_label at 0x000001E40CEB5630>\n",
      "<function create_area_screen_loc at 0x000001E40CEB63B0>\n",
      "<function create_area_label at 0x000001E40CEB5630>\n"
     ]
    }
   ],
   "execution_count": 69
  },
  {
   "metadata": {
    "ExecuteTime": {
     "end_time": "2025-04-12T07:31:11.337157Z",
     "start_time": "2025-04-12T07:31:11.327427Z"
    }
   },
   "cell_type": "code",
   "source": [
    "def create_fixation_sequence_tags(df):\n",
    "    result = []\n",
    "    for (trial_index, participant_id), group in df.groupby(['TRIAL_INDEX', 'participant_id']):\n",
    "        group_ids = set(group['IA_ID'].unique())\n",
    "\n",
    "        id_to_label = dict(zip(group['IA_ID'], group['area_label']))\n",
    "        id_to_location = dict(zip(group['IA_ID'], group['area_screen_loc']))\n",
    "\n",
    "        sequence_str = group['INTEREST_AREA_FIXATION_SEQUENCE'].iloc[0]\n",
    "        sequence = eval(sequence_str)\n",
    "\n",
    "        label_sequence = []\n",
    "        location_sequence = []\n",
    "\n",
    "        for ia_id in sequence:\n",
    "            if ia_id in group_ids:\n",
    "                label_sequence.append(id_to_label[ia_id])\n",
    "                location_sequence.append(id_to_location[ia_id])\n",
    "        result.append({\n",
    "            'TRIAL_INDEX': trial_index,\n",
    "            'participant_id': participant_id,\n",
    "            'fix_by_label': label_sequence[1:],\n",
    "            'fix_by_loc': location_sequence[1:]\n",
    "        })\n",
    "\n",
    "    return pd.DataFrame(result)"
   ],
   "id": "c2d8ede23a6138d5",
   "outputs": [],
   "execution_count": 74
  },
  {
   "metadata": {
    "ExecuteTime": {
     "end_time": "2025-04-12T07:31:43.472241Z",
     "start_time": "2025-04-12T07:31:43.450664Z"
    }
   },
   "cell_type": "code",
   "source": [
    "def create_simplified_fixation_tags(df):\n",
    "    result = []\n",
    "    for (trial_index, participant_id), group in df.groupby(['TRIAL_INDEX', 'participant_id']):\n",
    "        group_ids = set(group['IA_ID'].unique())\n",
    "\n",
    "        id_to_label = dict(zip(group['IA_ID'], group['area_label']))\n",
    "        id_to_location = dict(zip(group['IA_ID'], group['area_screen_loc']))\n",
    "\n",
    "        sequence_str = group['INTEREST_AREA_FIXATION_SEQUENCE'].iloc[0]\n",
    "        sequence = eval(sequence_str)\n",
    "\n",
    "        durations = group['short_fix_duration'].iloc[0]\n",
    "\n",
    "        valid_fixations = []\n",
    "        for ia_id, dur in zip(sequence, durations):\n",
    "            if ia_id not in group_ids:\n",
    "                continue\n",
    "            valid_fixations.append((ia_id, id_to_label[ia_id], id_to_location[ia_id], dur))\n",
    "\n",
    "        simpl_labels = []\n",
    "        simpl_locations = []\n",
    "        simpl_durations = []\n",
    "\n",
    "        for label, group_iter in itertools.groupby(valid_fixations, key=lambda x: x[1]):\n",
    "            group_list = list(group_iter)\n",
    "            simpl_labels.append(label)\n",
    "            simpl_locations.append(group_list[0][2])\n",
    "            avg_duration = sum(item[3] for item in group_list) / len(group_list)\n",
    "            simpl_durations.append(avg_duration)\n",
    "\n",
    "        result.append({\n",
    "            'TRIAL_INDEX': trial_index,\n",
    "            'participant_id': participant_id,\n",
    "            'simpl_fix_by_label': simpl_labels[1:],\n",
    "            'simpl_fix_by_loc': simpl_locations[1:],\n",
    "            'simpl_fix_duration': simpl_durations[1:]\n",
    "        })\n",
    "\n",
    "    return pd.DataFrame(result)\n"
   ],
   "id": "b521eb52931bdb42",
   "outputs": [],
   "execution_count": 80
  },
  {
   "metadata": {
    "ExecuteTime": {
     "end_time": "2025-04-12T07:31:15.018402Z",
     "start_time": "2025-04-12T07:31:15.001230Z"
    }
   },
   "cell_type": "code",
   "source": [
    "def generate_new_row_features(functions, df, default_join_columns=['TRIAL_INDEX', 'participant_id', 'area_label']):\n",
    "    result_df = df.copy()\n",
    "\n",
    "    for func_tuple in functions:\n",
    "        func, func_kwargs = func_tuple\n",
    "        print(func)\n",
    "\n",
    "        join_columns = func_kwargs.get('join_columns', default_join_columns)\n",
    "\n",
    "        new_features_df = func(result_df)\n",
    "        result_df = result_df.merge(new_features_df, on=join_columns, how='left')\n",
    "\n",
    "    return result_df"
   ],
   "id": "e1b59fbef2323ef0",
   "outputs": [],
   "execution_count": 76
  },
  {
   "metadata": {
    "ExecuteTime": {
     "end_time": "2025-04-12T07:31:45.542403Z",
     "start_time": "2025-04-12T07:31:45.529040Z"
    }
   },
   "cell_type": "code",
   "source": [
    "per_row_feature_generators = [\n",
    "    (create_fixation_sequence_tags, {'join_columns': ['TRIAL_INDEX', 'participant_id']}),\n",
    "    (create_simplified_fixation_tags, {'join_columns': ['TRIAL_INDEX', 'participant_id']}),\n",
    "\n",
    "]"
   ],
   "id": "2cdae4b718ba9f96",
   "outputs": [],
   "execution_count": 81
  },
  {
   "metadata": {
    "ExecuteTime": {
     "end_time": "2025-04-12T07:32:05.814173Z",
     "start_time": "2025-04-12T07:31:47.884118Z"
    }
   },
   "cell_type": "code",
   "source": [
    "df_with_features_h = generate_new_row_features(per_row_feature_generators, df_base_features_h)\n",
    "df_with_features_g = generate_new_row_features(per_row_feature_generators, df_base_features_g)"
   ],
   "id": "e885198ecf3cc4da",
   "outputs": [
    {
     "name": "stdout",
     "output_type": "stream",
     "text": [
      "<function create_fixation_sequence_tags at 0x000001E7A3FA57E0>\n",
      "<function create_simplified_fixation_tags at 0x000001E2B265A440>\n",
      "<function create_fixation_sequence_tags at 0x000001E7A3FA57E0>\n",
      "<function create_simplified_fixation_tags at 0x000001E2B265A440>\n"
     ]
    }
   ],
   "execution_count": 82
  },
  {
   "metadata": {
    "ExecuteTime": {
     "end_time": "2025-04-12T07:32:18.928802Z",
     "start_time": "2025-04-12T07:32:18.896681Z"
    }
   },
   "cell_type": "code",
   "source": "df_with_features_h[['simpl_fix_duration', 'simpl_fix_by_label']]",
   "id": "1e1f252d163030dc",
   "outputs": [
    {
     "data": {
      "text/plain": [
       "                                       simpl_fix_duration  \\\n",
       "0       [165.0, 172.0, 122.5, 137.66666666666666, 175....   \n",
       "1       [165.0, 172.0, 122.5, 137.66666666666666, 175....   \n",
       "2       [165.0, 172.0, 122.5, 137.66666666666666, 175....   \n",
       "3       [165.0, 172.0, 122.5, 137.66666666666666, 175....   \n",
       "4       [165.0, 172.0, 122.5, 137.66666666666666, 175....   \n",
       "...                                                   ...   \n",
       "380345  [220.2, 203.66666666666666, 285.6666666666667,...   \n",
       "380346  [220.2, 203.66666666666666, 285.6666666666667,...   \n",
       "380347  [220.2, 203.66666666666666, 285.6666666666667,...   \n",
       "380348  [220.2, 203.66666666666666, 285.6666666666667,...   \n",
       "380349  [220.2, 203.66666666666666, 285.6666666666667,...   \n",
       "\n",
       "                                       simpl_fix_by_label  \n",
       "0       [answer_B, answer_D, answer_A, answer_C, answe...  \n",
       "1       [answer_B, answer_D, answer_A, answer_C, answe...  \n",
       "2       [answer_B, answer_D, answer_A, answer_C, answe...  \n",
       "3       [answer_B, answer_D, answer_A, answer_C, answe...  \n",
       "4       [answer_B, answer_D, answer_A, answer_C, answe...  \n",
       "...                                                   ...  \n",
       "380345           [answer_A, answer_C, answer_B, answer_A]  \n",
       "380346           [answer_A, answer_C, answer_B, answer_A]  \n",
       "380347           [answer_A, answer_C, answer_B, answer_A]  \n",
       "380348           [answer_A, answer_C, answer_B, answer_A]  \n",
       "380349           [answer_A, answer_C, answer_B, answer_A]  \n",
       "\n",
       "[380350 rows x 2 columns]"
      ],
      "text/html": [
       "<div>\n",
       "<style scoped>\n",
       "    .dataframe tbody tr th:only-of-type {\n",
       "        vertical-align: middle;\n",
       "    }\n",
       "\n",
       "    .dataframe tbody tr th {\n",
       "        vertical-align: top;\n",
       "    }\n",
       "\n",
       "    .dataframe thead th {\n",
       "        text-align: right;\n",
       "    }\n",
       "</style>\n",
       "<table border=\"1\" class=\"dataframe\">\n",
       "  <thead>\n",
       "    <tr style=\"text-align: right;\">\n",
       "      <th></th>\n",
       "      <th>simpl_fix_duration</th>\n",
       "      <th>simpl_fix_by_label</th>\n",
       "    </tr>\n",
       "  </thead>\n",
       "  <tbody>\n",
       "    <tr>\n",
       "      <th>0</th>\n",
       "      <td>[165.0, 172.0, 122.5, 137.66666666666666, 175....</td>\n",
       "      <td>[answer_B, answer_D, answer_A, answer_C, answe...</td>\n",
       "    </tr>\n",
       "    <tr>\n",
       "      <th>1</th>\n",
       "      <td>[165.0, 172.0, 122.5, 137.66666666666666, 175....</td>\n",
       "      <td>[answer_B, answer_D, answer_A, answer_C, answe...</td>\n",
       "    </tr>\n",
       "    <tr>\n",
       "      <th>2</th>\n",
       "      <td>[165.0, 172.0, 122.5, 137.66666666666666, 175....</td>\n",
       "      <td>[answer_B, answer_D, answer_A, answer_C, answe...</td>\n",
       "    </tr>\n",
       "    <tr>\n",
       "      <th>3</th>\n",
       "      <td>[165.0, 172.0, 122.5, 137.66666666666666, 175....</td>\n",
       "      <td>[answer_B, answer_D, answer_A, answer_C, answe...</td>\n",
       "    </tr>\n",
       "    <tr>\n",
       "      <th>4</th>\n",
       "      <td>[165.0, 172.0, 122.5, 137.66666666666666, 175....</td>\n",
       "      <td>[answer_B, answer_D, answer_A, answer_C, answe...</td>\n",
       "    </tr>\n",
       "    <tr>\n",
       "      <th>...</th>\n",
       "      <td>...</td>\n",
       "      <td>...</td>\n",
       "    </tr>\n",
       "    <tr>\n",
       "      <th>380345</th>\n",
       "      <td>[220.2, 203.66666666666666, 285.6666666666667,...</td>\n",
       "      <td>[answer_A, answer_C, answer_B, answer_A]</td>\n",
       "    </tr>\n",
       "    <tr>\n",
       "      <th>380346</th>\n",
       "      <td>[220.2, 203.66666666666666, 285.6666666666667,...</td>\n",
       "      <td>[answer_A, answer_C, answer_B, answer_A]</td>\n",
       "    </tr>\n",
       "    <tr>\n",
       "      <th>380347</th>\n",
       "      <td>[220.2, 203.66666666666666, 285.6666666666667,...</td>\n",
       "      <td>[answer_A, answer_C, answer_B, answer_A]</td>\n",
       "    </tr>\n",
       "    <tr>\n",
       "      <th>380348</th>\n",
       "      <td>[220.2, 203.66666666666666, 285.6666666666667,...</td>\n",
       "      <td>[answer_A, answer_C, answer_B, answer_A]</td>\n",
       "    </tr>\n",
       "    <tr>\n",
       "      <th>380349</th>\n",
       "      <td>[220.2, 203.66666666666666, 285.6666666666667,...</td>\n",
       "      <td>[answer_A, answer_C, answer_B, answer_A]</td>\n",
       "    </tr>\n",
       "  </tbody>\n",
       "</table>\n",
       "<p>380350 rows × 2 columns</p>\n",
       "</div>"
      ]
     },
     "execution_count": 84,
     "metadata": {},
     "output_type": "execute_result"
    }
   ],
   "execution_count": 84
  }
 ],
 "metadata": {
  "kernelspec": {
   "display_name": "Python 3",
   "language": "python",
   "name": "python3"
  },
  "language_info": {
   "codemirror_mode": {
    "name": "ipython",
    "version": 2
   },
   "file_extension": ".py",
   "mimetype": "text/x-python",
   "name": "python",
   "nbconvert_exporter": "python",
   "pygments_lexer": "ipython2",
   "version": "2.7.6"
  }
 },
 "nbformat": 4,
 "nbformat_minor": 5
}
