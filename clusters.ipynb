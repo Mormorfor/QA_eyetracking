{
 "cells": [
  {
   "cell_type": "code",
   "id": "initial_id",
   "metadata": {
    "collapsed": true,
    "ExecuteTime": {
     "end_time": "2025-05-06T10:29:37.542557Z",
     "start_time": "2025-05-06T10:29:37.511351Z"
    }
   },
   "source": [
    "import pandas as pd\n",
    "import numpy as np\n",
    "import ast\n",
    "import itertools\n",
    "\n",
    "import seaborn as sns\n",
    "import matplotlib.pyplot as plt\n"
   ],
   "outputs": [],
   "execution_count": 3
  },
  {
   "metadata": {},
   "cell_type": "markdown",
   "source": "### Loading Data",
   "id": "63d40d411f5f029a"
  },
  {
   "metadata": {
    "ExecuteTime": {
     "end_time": "2025-05-06T10:31:10.736995Z",
     "start_time": "2025-05-06T10:30:35.368029Z"
    }
   },
   "cell_type": "code",
   "source": [
    "ia_A_path = \"full/ia_A.csv\"\n",
    "df_A = pd.read_csv(ia_A_path)"
   ],
   "id": "d3bee52385e78a99",
   "outputs": [],
   "execution_count": 4
  },
  {
   "metadata": {
    "ExecuteTime": {
     "end_time": "2025-05-06T10:32:10.553721Z",
     "start_time": "2025-05-06T10:31:10.768318Z"
    }
   },
   "cell_type": "code",
   "source": [
    "fix_A_path = \"full/fixations_A.csv\"\n",
    "df_fix_A = pd.read_csv(fix_A_path)"
   ],
   "id": "e9908a02bfafd27d",
   "outputs": [
    {
     "name": "stderr",
     "output_type": "stream",
     "text": [
      "C:\\Users\\deeth\\AppData\\Local\\Temp\\ipykernel_26888\\878136727.py:2: DtypeWarning: Columns (37,38,40,41) have mixed types. Specify dtype option on import or set low_memory=False.\n",
      "  df_fix_A = pd.read_csv(fix_A_path)\n"
     ]
    }
   ],
   "execution_count": 5
  },
  {
   "metadata": {},
   "cell_type": "markdown",
   "source": "### Data Preprocessing",
   "id": "8377ddca10471a9f"
  },
  {
   "metadata": {
    "ExecuteTime": {
     "end_time": "2025-05-06T10:33:52.101495Z",
     "start_time": "2025-05-06T10:33:40.381459Z"
    }
   },
   "cell_type": "code",
   "source": [
    "df_A_filtered = df_A[(df_A['repeated_reading_trial'] == False) & ((df_A['practice_trial'] == False))]\n",
    "\n",
    "article_col='article_id'\n",
    "difficulty_col='difficulty_level'\n",
    "batch_col='article_batch'\n",
    "paragraph_col='paragraph_id'\n",
    "q_ind = 'same_critical_span'\n",
    "\n",
    "df_A_filtered['text_id'] = (\n",
    "    df_A_filtered[article_col].astype(str) + '_' +\n",
    "    df_A_filtered[difficulty_col].astype(str) + '_' +\n",
    "    df_A_filtered[batch_col].astype(str) + '_' +\n",
    "    df_A_filtered[paragraph_col].astype(str) + '_' +\n",
    "    df_A_filtered[q_ind].astype(str)\n",
    "    )\n",
    "\n",
    "df_A_hunters = df_A_filtered[df_A_filtered['question_preview'] == True].copy()\n",
    "df_A_gatherers = df_A_filtered[df_A_filtered['question_preview'] == False].copy()"
   ],
   "id": "4609b14d40add77b",
   "outputs": [
    {
     "name": "stderr",
     "output_type": "stream",
     "text": [
      "C:\\Users\\deeth\\AppData\\Local\\Temp\\ipykernel_26888\\1610736497.py:9: SettingWithCopyWarning: \n",
      "A value is trying to be set on a copy of a slice from a DataFrame.\n",
      "Try using .loc[row_indexer,col_indexer] = value instead\n",
      "\n",
      "See the caveats in the documentation: https://pandas.pydata.org/pandas-docs/stable/user_guide/indexing.html#returning-a-view-versus-a-copy\n",
      "  df_A_filtered['text_id'] = (\n"
     ]
    }
   ],
   "execution_count": 6
  },
  {
   "metadata": {
    "ExecuteTime": {
     "end_time": "2025-05-06T10:34:12.509203Z",
     "start_time": "2025-05-06T10:33:59.152042Z"
    }
   },
   "cell_type": "code",
   "source": [
    "df_fix_filtered = df_fix_A[(df_fix_A['repeated_reading_trial'] == False) & ((df_fix_A['practice_trial'] == False))]\n",
    "\n",
    "df_fix_hunters = df_fix_filtered[df_fix_filtered['question_preview'] == True].copy()\n",
    "df_fix_gatherers = df_fix_filtered[df_fix_filtered['question_preview'] == False].copy()"
   ],
   "id": "7b4561ed2ca9ebc0",
   "outputs": [],
   "execution_count": 7
  },
  {
   "metadata": {
    "ExecuteTime": {
     "end_time": "2025-05-06T10:34:19.342301Z",
     "start_time": "2025-05-06T10:34:19.301758Z"
    }
   },
   "cell_type": "code",
   "source": [
    "def get_fix_columns(df):\n",
    "    df_fix = (\n",
    "        df\n",
    "        .groupby(['participant_id', 'TRIAL_INDEX'], sort=False)\n",
    "        .agg({\n",
    "            'CURRENT_FIX_INTEREST_AREA_INDEX': lambda x: tuple(x),\n",
    "            'CURRENT_FIX_DURATION':             lambda x: tuple(x),\n",
    "            'CURRENT_FIX_X':                    lambda x: tuple(x),\n",
    "            'CURRENT_FIX_Y':                    lambda x: tuple(x),\n",
    "        })\n",
    "        .reset_index()\n",
    "        .rename(columns={\n",
    "            'CURRENT_FIX_INTEREST_AREA_INDEX': 'fix_seq',\n",
    "            'CURRENT_FIX_DURATION':            'fix_duration',\n",
    "            'CURRENT_FIX_X':                   'fix_x',\n",
    "            'CURRENT_FIX_Y':                   'fix_y',\n",
    "        })\n",
    "    )\n",
    "\n",
    "    #collapse consecutive duplicates: sum durations, avg coords\n",
    "    def collapse_runs(seq, durations, xs, ys):\n",
    "        short_seq = []\n",
    "        short_durs = []\n",
    "        avg_xs = []\n",
    "        avg_ys = []\n",
    "\n",
    "        for fixation, group in itertools.groupby(\n",
    "            zip(seq, durations, xs, ys),\n",
    "            key=lambda t: t[0]\n",
    "        ):\n",
    "            run = list(group)\n",
    "            total_dur = sum(item[1] for item in run)\n",
    "            mean_x = sum(item[2] for item in run) / len(run)\n",
    "            mean_y = sum(item[3] for item in run) / len(run)\n",
    "\n",
    "            short_seq.append(fixation)\n",
    "            short_durs.append(total_dur)\n",
    "            avg_xs.append(mean_x)\n",
    "            avg_ys.append(mean_y)\n",
    "\n",
    "        return (\n",
    "            tuple(short_seq),\n",
    "            tuple(short_durs),\n",
    "            tuple(avg_xs),\n",
    "            tuple(avg_ys),\n",
    "        )\n",
    "\n",
    "    df_fix[['short_fix_seq',\n",
    "            'short_fix_duration',\n",
    "            'short_fix_x',\n",
    "            'short_fix_y']] = (\n",
    "        df_fix\n",
    "        .apply(lambda row: pd.Series(\n",
    "            collapse_runs(\n",
    "                row['fix_seq'],\n",
    "                row['fix_duration'],\n",
    "                row['fix_x'],\n",
    "                row['fix_y'],\n",
    "            )\n",
    "        ), axis=1)\n",
    "    )\n",
    "\n",
    "    return df_fix"
   ],
   "id": "be8b13f3378d243e",
   "outputs": [],
   "execution_count": 8
  },
  {
   "metadata": {
    "ExecuteTime": {
     "end_time": "2025-05-06T10:34:29.879588Z",
     "start_time": "2025-05-06T10:34:22.552613Z"
    }
   },
   "cell_type": "code",
   "source": [
    "df_h_fix = get_fix_columns(df_fix_hunters)\n",
    "df_g_fix = get_fix_columns(df_fix_gatherers)"
   ],
   "id": "efab1a322083aa65",
   "outputs": [],
   "execution_count": 9
  },
  {
   "metadata": {
    "ExecuteTime": {
     "end_time": "2025-05-06T10:34:32.888587Z",
     "start_time": "2025-05-06T10:34:32.795310Z"
    }
   },
   "cell_type": "code",
   "source": "df_h_fix",
   "id": "19098b7cc4a246fa",
   "outputs": [
    {
     "data": {
      "text/plain": [
       "     participant_id  TRIAL_INDEX  \\\n",
       "0          l42_2070            4   \n",
       "1          l42_2070            5   \n",
       "2          l42_2070            6   \n",
       "3          l42_2070            7   \n",
       "4          l42_2070            8   \n",
       "...             ...          ...   \n",
       "9715         l10_39           55   \n",
       "9716         l10_39           56   \n",
       "9717         l10_39           57   \n",
       "9718         l10_39           58   \n",
       "9719         l10_39           59   \n",
       "\n",
       "                                                fix_seq  \\\n",
       "0     (2, 5, 8, 9, 6, 20, 24, 23, 28, 27, 14, 13, 15...   \n",
       "1     (0, 12, 11, 13, 18, 11, 13, 12, 13, 12, 26, 28...   \n",
       "2     (5, 14, 17, 17, 21, 14, 16, 18, 27, 31, 30, 34...   \n",
       "3     (4, 8, 10, 11, 24, 19, 35, 27, 33, 14, 14, 0, ...   \n",
       "4     (3, 9, 12, 11, 17, 31, 33, 0, 42, 31, 29, 36, ...   \n",
       "...                                                 ...   \n",
       "9715  (2, 0, 6, 8, 11, 24, 11, 6, 7, 11, 14, 18, 20,...   \n",
       "9716  (1, 0, 7, 10, 14, 0, 31, 31, 33, 35, 37, 41, 4...   \n",
       "9717  (4, 8, 9, 12, 16, 11, 12, 16, 0, 28, 31, 35, 3...   \n",
       "9718               (17, 0, 18, 20, 0, 25, 22, 25, 0, 0)   \n",
       "9719  (0, 0, 13, 16, 0, 18, 25, 26, 31, 27, 30, 33, ...   \n",
       "\n",
       "                                           fix_duration  \\\n",
       "0     (165, 184, 157, 164, 155, 225, 107, 184, 130, ...   \n",
       "1     (224, 178, 137, 185, 399, 178, 211, 245, 217, ...   \n",
       "2     (155, 154, 204, 196, 261, 190, 123, 138, 151, ...   \n",
       "3     (142, 178, 151, 78, 181, 246, 146, 223, 28, 32...   \n",
       "4     (217, 151, 166, 161, 193, 186, 234, 127, 52, 1...   \n",
       "...                                                 ...   \n",
       "9715  (177, 115, 173, 147, 34, 284, 128, 201, 128, 1...   \n",
       "9716  (33, 74, 161, 139, 279, 129, 208, 157, 78, 173...   \n",
       "9717  (63, 115, 182, 250, 239, 120, 90, 241, 126, 17...   \n",
       "9718   (39, 136, 134, 192, 211, 386, 272, 269, 123, 13)   \n",
       "9719  (33, 105, 161, 201, 72, 383, 300, 171, 216, 19...   \n",
       "\n",
       "                                                  fix_x  \\\n",
       "0     (501.8, 997.5, 1271.4, 1395.7, 1109.3, 1907.3,...   \n",
       "1     (693.0, 1132.2, 1099.4, 1384.3, 1158.9, 1086.5...   \n",
       "2     (935.9, 1005.2, 1374.8, 1451.6, 1127.0, 1054.8...   \n",
       "3     (650.4, 1099.4, 1317.6, 1420.0, 1967.0, 2152.2...   \n",
       "4     (657.0, 1123.6, 1370.7, 1284.1, 1237.1, 1985.1...   \n",
       "...                                                 ...   \n",
       "9715  (498.0, 937.5, 1131.7, 1384.7, 1024.7, 472.4, ...   \n",
       "9716  (407.6, 809.9, 1063.4, 1311.1, 1091.4, 1782.9,...   \n",
       "9717  (782.0, 997.8, 1181.1, 1424.3, 1123.8, 1281.5,...   \n",
       "9718  (398.2, 955.6, 996.5, 293.2, 1705.7, 1093.3, 1...   \n",
       "9719  (793.5, 577.0, 1031.2, 1266.9, 1102.4, 1468.6,...   \n",
       "\n",
       "                                                  fix_y  \\\n",
       "0     (196.9, 461.3, 400.0, 399.4, 403.4, 828.7, 909...   \n",
       "1     (256.8, 463.4, 429.7, 414.3, 511.4, 416.7, 414...   \n",
       "2     (248.7, 467.2, 408.0, 411.2, 546.2, 449.5, 426...   \n",
       "3     (197.0, 443.4, 427.9, 425.5, 860.3, 822.8, 119...   \n",
       "4     (192.0, 396.8, 423.0, 434.2, 544.1, 824.0, 807...   \n",
       "...                                                 ...   \n",
       "9715  (230.4, 364.2, 429.6, 434.6, 580.3, 758.7, 495...   \n",
       "9716  (226.5, 374.1, 465.6, 435.1, 542.1, 678.9, 758...   \n",
       "9717  (235.8, 416.2, 468.0, 451.8, 547.7, 447.7, 419...   \n",
       "9718  (294.0, 574.7, 457.1, 805.1, 828.3, 1094.2, 75...   \n",
       "9719  (268.9, 347.7, 424.8, 433.6, 520.3, 431.3, 760...   \n",
       "\n",
       "                                          short_fix_seq  \\\n",
       "0     (2, 5, 8, 9, 6, 20, 24, 23, 28, 27, 14, 13, 15...   \n",
       "1     (0, 12, 11, 13, 18, 11, 13, 12, 13, 12, 26, 28...   \n",
       "2     (5, 14, 17, 21, 14, 16, 18, 27, 31, 30, 34, 31...   \n",
       "3     (4, 8, 10, 11, 24, 19, 35, 27, 33, 14, 0, 10, ...   \n",
       "4     (3, 9, 12, 11, 17, 31, 33, 0, 42, 31, 29, 36, ...   \n",
       "...                                                 ...   \n",
       "9715  (2, 0, 6, 8, 11, 24, 11, 6, 7, 11, 14, 18, 20,...   \n",
       "9716  (1, 0, 7, 10, 14, 0, 31, 33, 35, 37, 41, 45, 4...   \n",
       "9717  (4, 8, 9, 12, 16, 11, 12, 16, 0, 28, 31, 35, 3...   \n",
       "9718                  (17, 0, 18, 20, 0, 25, 22, 25, 0)   \n",
       "9719  (0, 13, 16, 0, 18, 25, 26, 31, 27, 30, 33, 0, ...   \n",
       "\n",
       "                                     short_fix_duration  \\\n",
       "0     (165, 184, 157, 164, 155, 225, 107, 184, 130, ...   \n",
       "1     (224, 178, 137, 185, 399, 178, 211, 245, 217, ...   \n",
       "2     (155, 154, 400, 261, 190, 123, 138, 151, 177, ...   \n",
       "3     (142, 178, 151, 78, 181, 246, 146, 223, 28, 46...   \n",
       "4     (217, 151, 166, 161, 193, 186, 234, 127, 52, 1...   \n",
       "...                                                 ...   \n",
       "9715  (177, 115, 173, 147, 34, 284, 128, 201, 128, 1...   \n",
       "9716  (33, 74, 161, 139, 279, 129, 365, 78, 173, 176...   \n",
       "9717  (63, 115, 182, 250, 239, 120, 90, 241, 126, 17...   \n",
       "9718       (39, 136, 134, 192, 211, 386, 272, 269, 136)   \n",
       "9719  (138, 161, 201, 72, 383, 300, 171, 216, 196, 2...   \n",
       "\n",
       "                                            short_fix_x  \\\n",
       "0     (501.8, 997.5, 1271.4, 1395.7, 1109.3, 1907.3,...   \n",
       "1     (693.0, 1132.2, 1099.4, 1384.3, 1158.9, 1086.5...   \n",
       "2     (935.9, 1005.2, 1413.1999999999998, 1127.0, 10...   \n",
       "3     (650.4, 1099.4, 1317.6, 1420.0, 1967.0, 2152.2...   \n",
       "4     (657.0, 1123.6, 1370.7, 1284.1, 1237.1, 1985.1...   \n",
       "...                                                 ...   \n",
       "9715  (498.0, 937.5, 1131.7, 1384.7, 1024.7, 472.4, ...   \n",
       "9716  (407.6, 809.9, 1063.4, 1311.1, 1091.4, 1782.9,...   \n",
       "9717  (782.0, 997.8, 1181.1, 1424.3, 1123.8, 1281.5,...   \n",
       "9718  (398.2, 955.6, 996.5, 293.2, 1705.7, 1093.3, 1...   \n",
       "9719  (685.25, 1031.2, 1266.9, 1102.4, 1468.6, 422.6...   \n",
       "\n",
       "                                            short_fix_y  \n",
       "0     (196.9, 461.3, 400.0, 399.4, 403.4, 828.7, 909...  \n",
       "1     (256.8, 463.4, 429.7, 414.3, 511.4, 416.7, 414...  \n",
       "2     (248.7, 467.2, 409.6, 546.2, 449.5, 426.0, 412...  \n",
       "3     (197.0, 443.4, 427.9, 425.5, 860.3, 822.8, 119...  \n",
       "4     (192.0, 396.8, 423.0, 434.2, 544.1, 824.0, 807...  \n",
       "...                                                 ...  \n",
       "9715  (230.4, 364.2, 429.6, 434.6, 580.3, 758.7, 495...  \n",
       "9716  (226.5, 374.1, 465.6, 435.1, 542.1, 678.9, 775...  \n",
       "9717  (235.8, 416.2, 468.0, 451.8, 547.7, 447.7, 419...  \n",
       "9718  (294.0, 574.7, 457.1, 805.1, 828.3, 1094.2, 75...  \n",
       "9719  (308.29999999999995, 424.8, 433.6, 520.3, 431....  \n",
       "\n",
       "[9720 rows x 10 columns]"
      ],
      "text/html": [
       "<div>\n",
       "<style scoped>\n",
       "    .dataframe tbody tr th:only-of-type {\n",
       "        vertical-align: middle;\n",
       "    }\n",
       "\n",
       "    .dataframe tbody tr th {\n",
       "        vertical-align: top;\n",
       "    }\n",
       "\n",
       "    .dataframe thead th {\n",
       "        text-align: right;\n",
       "    }\n",
       "</style>\n",
       "<table border=\"1\" class=\"dataframe\">\n",
       "  <thead>\n",
       "    <tr style=\"text-align: right;\">\n",
       "      <th></th>\n",
       "      <th>participant_id</th>\n",
       "      <th>TRIAL_INDEX</th>\n",
       "      <th>fix_seq</th>\n",
       "      <th>fix_duration</th>\n",
       "      <th>fix_x</th>\n",
       "      <th>fix_y</th>\n",
       "      <th>short_fix_seq</th>\n",
       "      <th>short_fix_duration</th>\n",
       "      <th>short_fix_x</th>\n",
       "      <th>short_fix_y</th>\n",
       "    </tr>\n",
       "  </thead>\n",
       "  <tbody>\n",
       "    <tr>\n",
       "      <th>0</th>\n",
       "      <td>l42_2070</td>\n",
       "      <td>4</td>\n",
       "      <td>(2, 5, 8, 9, 6, 20, 24, 23, 28, 27, 14, 13, 15...</td>\n",
       "      <td>(165, 184, 157, 164, 155, 225, 107, 184, 130, ...</td>\n",
       "      <td>(501.8, 997.5, 1271.4, 1395.7, 1109.3, 1907.3,...</td>\n",
       "      <td>(196.9, 461.3, 400.0, 399.4, 403.4, 828.7, 909...</td>\n",
       "      <td>(2, 5, 8, 9, 6, 20, 24, 23, 28, 27, 14, 13, 15...</td>\n",
       "      <td>(165, 184, 157, 164, 155, 225, 107, 184, 130, ...</td>\n",
       "      <td>(501.8, 997.5, 1271.4, 1395.7, 1109.3, 1907.3,...</td>\n",
       "      <td>(196.9, 461.3, 400.0, 399.4, 403.4, 828.7, 909...</td>\n",
       "    </tr>\n",
       "    <tr>\n",
       "      <th>1</th>\n",
       "      <td>l42_2070</td>\n",
       "      <td>5</td>\n",
       "      <td>(0, 12, 11, 13, 18, 11, 13, 12, 13, 12, 26, 28...</td>\n",
       "      <td>(224, 178, 137, 185, 399, 178, 211, 245, 217, ...</td>\n",
       "      <td>(693.0, 1132.2, 1099.4, 1384.3, 1158.9, 1086.5...</td>\n",
       "      <td>(256.8, 463.4, 429.7, 414.3, 511.4, 416.7, 414...</td>\n",
       "      <td>(0, 12, 11, 13, 18, 11, 13, 12, 13, 12, 26, 28...</td>\n",
       "      <td>(224, 178, 137, 185, 399, 178, 211, 245, 217, ...</td>\n",
       "      <td>(693.0, 1132.2, 1099.4, 1384.3, 1158.9, 1086.5...</td>\n",
       "      <td>(256.8, 463.4, 429.7, 414.3, 511.4, 416.7, 414...</td>\n",
       "    </tr>\n",
       "    <tr>\n",
       "      <th>2</th>\n",
       "      <td>l42_2070</td>\n",
       "      <td>6</td>\n",
       "      <td>(5, 14, 17, 17, 21, 14, 16, 18, 27, 31, 30, 34...</td>\n",
       "      <td>(155, 154, 204, 196, 261, 190, 123, 138, 151, ...</td>\n",
       "      <td>(935.9, 1005.2, 1374.8, 1451.6, 1127.0, 1054.8...</td>\n",
       "      <td>(248.7, 467.2, 408.0, 411.2, 546.2, 449.5, 426...</td>\n",
       "      <td>(5, 14, 17, 21, 14, 16, 18, 27, 31, 30, 34, 31...</td>\n",
       "      <td>(155, 154, 400, 261, 190, 123, 138, 151, 177, ...</td>\n",
       "      <td>(935.9, 1005.2, 1413.1999999999998, 1127.0, 10...</td>\n",
       "      <td>(248.7, 467.2, 409.6, 546.2, 449.5, 426.0, 412...</td>\n",
       "    </tr>\n",
       "    <tr>\n",
       "      <th>3</th>\n",
       "      <td>l42_2070</td>\n",
       "      <td>7</td>\n",
       "      <td>(4, 8, 10, 11, 24, 19, 35, 27, 33, 14, 14, 0, ...</td>\n",
       "      <td>(142, 178, 151, 78, 181, 246, 146, 223, 28, 32...</td>\n",
       "      <td>(650.4, 1099.4, 1317.6, 1420.0, 1967.0, 2152.2...</td>\n",
       "      <td>(197.0, 443.4, 427.9, 425.5, 860.3, 822.8, 119...</td>\n",
       "      <td>(4, 8, 10, 11, 24, 19, 35, 27, 33, 14, 0, 10, ...</td>\n",
       "      <td>(142, 178, 151, 78, 181, 246, 146, 223, 28, 46...</td>\n",
       "      <td>(650.4, 1099.4, 1317.6, 1420.0, 1967.0, 2152.2...</td>\n",
       "      <td>(197.0, 443.4, 427.9, 425.5, 860.3, 822.8, 119...</td>\n",
       "    </tr>\n",
       "    <tr>\n",
       "      <th>4</th>\n",
       "      <td>l42_2070</td>\n",
       "      <td>8</td>\n",
       "      <td>(3, 9, 12, 11, 17, 31, 33, 0, 42, 31, 29, 36, ...</td>\n",
       "      <td>(217, 151, 166, 161, 193, 186, 234, 127, 52, 1...</td>\n",
       "      <td>(657.0, 1123.6, 1370.7, 1284.1, 1237.1, 1985.1...</td>\n",
       "      <td>(192.0, 396.8, 423.0, 434.2, 544.1, 824.0, 807...</td>\n",
       "      <td>(3, 9, 12, 11, 17, 31, 33, 0, 42, 31, 29, 36, ...</td>\n",
       "      <td>(217, 151, 166, 161, 193, 186, 234, 127, 52, 1...</td>\n",
       "      <td>(657.0, 1123.6, 1370.7, 1284.1, 1237.1, 1985.1...</td>\n",
       "      <td>(192.0, 396.8, 423.0, 434.2, 544.1, 824.0, 807...</td>\n",
       "    </tr>\n",
       "    <tr>\n",
       "      <th>...</th>\n",
       "      <td>...</td>\n",
       "      <td>...</td>\n",
       "      <td>...</td>\n",
       "      <td>...</td>\n",
       "      <td>...</td>\n",
       "      <td>...</td>\n",
       "      <td>...</td>\n",
       "      <td>...</td>\n",
       "      <td>...</td>\n",
       "      <td>...</td>\n",
       "    </tr>\n",
       "    <tr>\n",
       "      <th>9715</th>\n",
       "      <td>l10_39</td>\n",
       "      <td>55</td>\n",
       "      <td>(2, 0, 6, 8, 11, 24, 11, 6, 7, 11, 14, 18, 20,...</td>\n",
       "      <td>(177, 115, 173, 147, 34, 284, 128, 201, 128, 1...</td>\n",
       "      <td>(498.0, 937.5, 1131.7, 1384.7, 1024.7, 472.4, ...</td>\n",
       "      <td>(230.4, 364.2, 429.6, 434.6, 580.3, 758.7, 495...</td>\n",
       "      <td>(2, 0, 6, 8, 11, 24, 11, 6, 7, 11, 14, 18, 20,...</td>\n",
       "      <td>(177, 115, 173, 147, 34, 284, 128, 201, 128, 1...</td>\n",
       "      <td>(498.0, 937.5, 1131.7, 1384.7, 1024.7, 472.4, ...</td>\n",
       "      <td>(230.4, 364.2, 429.6, 434.6, 580.3, 758.7, 495...</td>\n",
       "    </tr>\n",
       "    <tr>\n",
       "      <th>9716</th>\n",
       "      <td>l10_39</td>\n",
       "      <td>56</td>\n",
       "      <td>(1, 0, 7, 10, 14, 0, 31, 31, 33, 35, 37, 41, 4...</td>\n",
       "      <td>(33, 74, 161, 139, 279, 129, 208, 157, 78, 173...</td>\n",
       "      <td>(407.6, 809.9, 1063.4, 1311.1, 1091.4, 1782.9,...</td>\n",
       "      <td>(226.5, 374.1, 465.6, 435.1, 542.1, 678.9, 758...</td>\n",
       "      <td>(1, 0, 7, 10, 14, 0, 31, 33, 35, 37, 41, 45, 4...</td>\n",
       "      <td>(33, 74, 161, 139, 279, 129, 365, 78, 173, 176...</td>\n",
       "      <td>(407.6, 809.9, 1063.4, 1311.1, 1091.4, 1782.9,...</td>\n",
       "      <td>(226.5, 374.1, 465.6, 435.1, 542.1, 678.9, 775...</td>\n",
       "    </tr>\n",
       "    <tr>\n",
       "      <th>9717</th>\n",
       "      <td>l10_39</td>\n",
       "      <td>57</td>\n",
       "      <td>(4, 8, 9, 12, 16, 11, 12, 16, 0, 28, 31, 35, 3...</td>\n",
       "      <td>(63, 115, 182, 250, 239, 120, 90, 241, 126, 17...</td>\n",
       "      <td>(782.0, 997.8, 1181.1, 1424.3, 1123.8, 1281.5,...</td>\n",
       "      <td>(235.8, 416.2, 468.0, 451.8, 547.7, 447.7, 419...</td>\n",
       "      <td>(4, 8, 9, 12, 16, 11, 12, 16, 0, 28, 31, 35, 3...</td>\n",
       "      <td>(63, 115, 182, 250, 239, 120, 90, 241, 126, 17...</td>\n",
       "      <td>(782.0, 997.8, 1181.1, 1424.3, 1123.8, 1281.5,...</td>\n",
       "      <td>(235.8, 416.2, 468.0, 451.8, 547.7, 447.7, 419...</td>\n",
       "    </tr>\n",
       "    <tr>\n",
       "      <th>9718</th>\n",
       "      <td>l10_39</td>\n",
       "      <td>58</td>\n",
       "      <td>(17, 0, 18, 20, 0, 25, 22, 25, 0, 0)</td>\n",
       "      <td>(39, 136, 134, 192, 211, 386, 272, 269, 123, 13)</td>\n",
       "      <td>(398.2, 955.6, 996.5, 293.2, 1705.7, 1093.3, 1...</td>\n",
       "      <td>(294.0, 574.7, 457.1, 805.1, 828.3, 1094.2, 75...</td>\n",
       "      <td>(17, 0, 18, 20, 0, 25, 22, 25, 0)</td>\n",
       "      <td>(39, 136, 134, 192, 211, 386, 272, 269, 136)</td>\n",
       "      <td>(398.2, 955.6, 996.5, 293.2, 1705.7, 1093.3, 1...</td>\n",
       "      <td>(294.0, 574.7, 457.1, 805.1, 828.3, 1094.2, 75...</td>\n",
       "    </tr>\n",
       "    <tr>\n",
       "      <th>9719</th>\n",
       "      <td>l10_39</td>\n",
       "      <td>59</td>\n",
       "      <td>(0, 0, 13, 16, 0, 18, 25, 26, 31, 27, 30, 33, ...</td>\n",
       "      <td>(33, 105, 161, 201, 72, 383, 300, 171, 216, 19...</td>\n",
       "      <td>(793.5, 577.0, 1031.2, 1266.9, 1102.4, 1468.6,...</td>\n",
       "      <td>(268.9, 347.7, 424.8, 433.6, 520.3, 431.3, 760...</td>\n",
       "      <td>(0, 13, 16, 0, 18, 25, 26, 31, 27, 30, 33, 0, ...</td>\n",
       "      <td>(138, 161, 201, 72, 383, 300, 171, 216, 196, 2...</td>\n",
       "      <td>(685.25, 1031.2, 1266.9, 1102.4, 1468.6, 422.6...</td>\n",
       "      <td>(308.29999999999995, 424.8, 433.6, 520.3, 431....</td>\n",
       "    </tr>\n",
       "  </tbody>\n",
       "</table>\n",
       "<p>9720 rows × 10 columns</p>\n",
       "</div>"
      ]
     },
     "execution_count": 10,
     "metadata": {},
     "output_type": "execute_result"
    }
   ],
   "execution_count": 10
  },
  {
   "metadata": {
    "ExecuteTime": {
     "end_time": "2025-05-06T10:34:38.212408Z",
     "start_time": "2025-05-06T10:34:35.652756Z"
    }
   },
   "cell_type": "code",
   "source": [
    "df_A_hunters = df_A_hunters.merge(df_h_fix, on=['TRIAL_INDEX', 'participant_id'], how='left')\n",
    "df_A_gatherers = df_A_gatherers.merge(df_g_fix, on=['TRIAL_INDEX', 'participant_id'], how='left')"
   ],
   "id": "d57912d4e5ff8a42",
   "outputs": [],
   "execution_count": 11
  },
  {
   "metadata": {},
   "cell_type": "markdown",
   "source": "### Creating Features",
   "id": "e8aa6419bf730c94"
  },
  {
   "metadata": {
    "ExecuteTime": {
     "end_time": "2025-05-06T10:34:40.106191Z",
     "start_time": "2025-05-06T10:34:40.086620Z"
    }
   },
   "cell_type": "code",
   "source": [
    "def create_area_screen_loc(df):\n",
    "    df = df.copy()\n",
    "    for col in ['question', 'answer_1', 'answer_2', 'answer_3', 'answer_4']:\n",
    "        df[col] = df[col].fillna('').astype(str)\n",
    "\n",
    "    df['question_tokens'] = df['question'].str.split()\n",
    "    df['1_tokens'] = df['answer_1'].str.split()\n",
    "    df['2_tokens'] = df['answer_2'].str.split()\n",
    "    df['3_tokens'] = df['answer_3'].str.split()\n",
    "    df['4_tokens'] = df['answer_4'].str.split()\n",
    "\n",
    "    df['question_len'] = df['question_tokens'].apply(len)\n",
    "    df['1_len'] = df['1_tokens'].apply(len)\n",
    "    df['2_len'] = df['2_tokens'].apply(len)\n",
    "    df['3_len'] = df['3_tokens'].apply(len)\n",
    "    df['4_len'] = df['4_tokens'].apply(len)\n",
    "\n",
    "    def assign_area(group):\n",
    "        q_len = group['question_len'].iloc[0]\n",
    "        first_len = group['1_len'].iloc[0]\n",
    "        second_len = group['2_len'].iloc[0]\n",
    "        third_len = group['3_len'].iloc[0]\n",
    "        fourth_len = group['4_len'].iloc[0]\n",
    "\n",
    "        q_end = q_len - 1\n",
    "        first_end = q_len + first_len - 1\n",
    "        second_end = q_len + first_len + second_len - 1\n",
    "        third_end = q_len + first_len + second_len + third_len - 1\n",
    "        fourth_end = q_len + first_len + second_len + third_len + fourth_len\n",
    "\n",
    "        index_id = group['IA_ID'] - 1\n",
    "\n",
    "        conditions = [\n",
    "            (index_id <= q_end),\n",
    "            (index_id > q_end) & (index_id <= first_end),\n",
    "            (index_id > first_end) & (index_id <= second_end),\n",
    "            (index_id > second_end) & (index_id <= third_end),\n",
    "            (index_id > third_end) & (index_id <= fourth_end)\n",
    "        ]\n",
    "\n",
    "        choices = ['question', 'answer_0', 'answer_1', 'answer_2', 'answer_3']\n",
    "        group['area_screen_loc'] = np.select(conditions, choices, default='unknown')\n",
    "        return group\n",
    "\n",
    "    df_area_split = df.set_index(['TRIAL_INDEX', 'participant_id']).groupby(['TRIAL_INDEX', 'participant_id'], group_keys=False).apply(assign_area)\n",
    "    return df_area_split"
   ],
   "id": "d6475fc95f4ebc47",
   "outputs": [],
   "execution_count": 12
  },
  {
   "metadata": {
    "ExecuteTime": {
     "end_time": "2025-05-06T10:34:42.450809Z",
     "start_time": "2025-05-06T10:34:42.434586Z"
    }
   },
   "cell_type": "code",
   "source": [
    "def create_area_label(df):\n",
    "    def get_screen_loc(row):\n",
    "        if row['area_screen_loc'] == 'question':\n",
    "            return 'question'\n",
    "        elif row['area_screen_loc'].startswith('answer_'):\n",
    "            answers_order = ast.literal_eval(row['answers_order'])\n",
    "            idx = int(row['area_screen_loc'].split('_')[1])\n",
    "            return f'answer_{answers_order[idx]}'\n",
    "        return None\n",
    "\n",
    "    df['area_label'] = df.apply(get_screen_loc, axis=1)\n",
    "    return df"
   ],
   "id": "f7fbefb22c9a730e",
   "outputs": [],
   "execution_count": 13
  },
  {
   "metadata": {
    "ExecuteTime": {
     "end_time": "2025-05-06T10:34:44.286047Z",
     "start_time": "2025-05-06T10:34:44.248807Z"
    }
   },
   "cell_type": "code",
   "source": [
    "def create_selected_answer_label(df):\n",
    "    df = df.copy()\n",
    "    df['answers_order'] = df['answers_order'].apply(ast.literal_eval)\n",
    "    df['selected_answer_label'] = df.apply(lambda row: row['answers_order'][row['selected_answer_position']], axis=1)\n",
    "    return df"
   ],
   "id": "ad3ed26599cb3188",
   "outputs": [],
   "execution_count": 14
  },
  {
   "metadata": {
    "ExecuteTime": {
     "end_time": "2025-05-06T10:36:53.658054Z",
     "start_time": "2025-05-06T10:34:45.155804Z"
    }
   },
   "cell_type": "code",
   "source": [
    "def process_dataframe(df, functions):\n",
    "    for func in functions:\n",
    "        print(func)\n",
    "        df = func(df)\n",
    "    return df.reset_index()\n",
    "\n",
    "processing_functions = [\n",
    "    create_area_screen_loc,\n",
    "    create_area_label,\n",
    "    create_selected_answer_label\n",
    "]\n",
    "\n",
    "df_base_features_h = process_dataframe(df_A_hunters, processing_functions)\n",
    "df_base_features_g = process_dataframe(df_A_gatherers, processing_functions)"
   ],
   "id": "dd32e8bc99343dc5",
   "outputs": [
    {
     "name": "stdout",
     "output_type": "stream",
     "text": [
      "<function create_area_screen_loc at 0x00000230EAC06B90>\n",
      "<function create_area_label at 0x000002311F6AFD90>\n",
      "<function create_selected_answer_label at 0x00000230EAC06CB0>\n",
      "<function create_area_screen_loc at 0x00000230EAC06B90>\n",
      "<function create_area_label at 0x000002311F6AFD90>\n",
      "<function create_selected_answer_label at 0x00000230EAC06CB0>\n"
     ]
    }
   ],
   "execution_count": 15
  },
  {
   "metadata": {
    "ExecuteTime": {
     "end_time": "2025-05-06T10:36:56.554905Z",
     "start_time": "2025-05-06T10:36:56.510302Z"
    }
   },
   "cell_type": "code",
   "source": [
    "def create_fixation_sequence_tags(df):\n",
    "    result = []\n",
    "    for (trial_index, participant_id), group in df.groupby(['TRIAL_INDEX', 'participant_id']):\n",
    "        group_ids = set(group['IA_ID'].unique())\n",
    "\n",
    "        id_to_label = dict(zip(group['IA_ID'], group['area_label']))\n",
    "        id_to_location = dict(zip(group['IA_ID'], group['area_screen_loc']))\n",
    "\n",
    "        sequence_str = group['INTEREST_AREA_FIXATION_SEQUENCE'].iloc[0]\n",
    "        sequence = eval(sequence_str)\n",
    "\n",
    "        label_sequence = []\n",
    "        location_sequence = []\n",
    "\n",
    "        for ia_id in sequence:\n",
    "            if ia_id in group_ids:\n",
    "                label_sequence.append(id_to_label[ia_id])\n",
    "                location_sequence.append(id_to_location[ia_id])\n",
    "        result.append({\n",
    "            'TRIAL_INDEX': trial_index,\n",
    "            'participant_id': participant_id,\n",
    "            'fix_by_label': tuple(label_sequence[1:]),\n",
    "            'fix_by_loc': tuple(location_sequence[1:])\n",
    "        })\n",
    "\n",
    "    return pd.DataFrame(result)"
   ],
   "id": "c2d8ede23a6138d5",
   "outputs": [],
   "execution_count": 16
  },
  {
   "metadata": {
    "ExecuteTime": {
     "end_time": "2025-05-06T10:36:58.909599Z",
     "start_time": "2025-05-06T10:36:58.861322Z"
    }
   },
   "cell_type": "code",
   "source": [
    "def create_simplified_fixation_tags(df):\n",
    "    result = []\n",
    "    for (trial_index, participant_id), group in df.groupby(['TRIAL_INDEX', 'participant_id']):\n",
    "        group_ids = set(group['IA_ID'].unique())\n",
    "\n",
    "        id_to_label = dict(zip(group['IA_ID'], group['area_label']))\n",
    "        id_to_location = dict(zip(group['IA_ID'], group['area_screen_loc']))\n",
    "\n",
    "        sequence_str = group['INTEREST_AREA_FIXATION_SEQUENCE'].iloc[0]\n",
    "        sequence = eval(sequence_str)\n",
    "\n",
    "        durations = group['short_fix_duration'].iloc[0]\n",
    "        xs        = group['short_fix_x'].iat[0]\n",
    "        ys        = group['short_fix_y'].iat[0]\n",
    "\n",
    "        valid_fixations = []\n",
    "        for ia_id, dur, x, y in zip(sequence, durations, xs, ys):\n",
    "            if ia_id in group_ids:\n",
    "                valid_fixations.append((\n",
    "                    ia_id,\n",
    "                    id_to_label[ia_id],\n",
    "                    id_to_location[ia_id],\n",
    "                    dur,\n",
    "                    x,\n",
    "                    y\n",
    "                ))\n",
    "\n",
    "        simpl_labels    = []\n",
    "        simpl_locations = []\n",
    "        simpl_durations = []\n",
    "        simpl_xs        = []\n",
    "        simpl_ys        = []\n",
    "\n",
    "        for label, run in itertools.groupby(valid_fixations, key=lambda item: item[1]):\n",
    "            run_list = list(run)\n",
    "            simpl_labels.append(label)\n",
    "            simpl_locations.append(run_list[0][2])\n",
    "            simpl_durations.append(sum(item[3] for item in run_list))\n",
    "            simpl_xs.append(sum(item[4] for item in run_list) / len(run_list))\n",
    "            simpl_ys.append(sum(item[5] for item in run_list) / len(run_list))\n",
    "\n",
    "        result.append({\n",
    "            'TRIAL_INDEX':       trial_index,\n",
    "            'participant_id':    participant_id,\n",
    "            'simpl_fix_by_label':    tuple(simpl_labels[1:]),\n",
    "            'simpl_fix_by_loc':      tuple(simpl_locations[1:]),\n",
    "            'simpl_fix_duration':    tuple(simpl_durations[1:]),\n",
    "            'simpl_fix_x':           tuple(simpl_xs[1:]),\n",
    "            'simpl_fix_y':           tuple(simpl_ys[1:])\n",
    "        })\n",
    "    return pd.DataFrame(result)"
   ],
   "id": "986389a7acab0ece",
   "outputs": [],
   "execution_count": 17
  },
  {
   "metadata": {
    "ExecuteTime": {
     "end_time": "2025-05-06T10:37:01.805466Z",
     "start_time": "2025-05-06T10:37:01.758996Z"
    }
   },
   "cell_type": "code",
   "source": [
    "def first_visits_ordered(df):\n",
    "    df = df.copy()\n",
    "\n",
    "    result = []\n",
    "    for (trial_index, participant_id), group in df.groupby(['TRIAL_INDEX', 'participant_id']):\n",
    "        seen = set()\n",
    "        label_seq = []\n",
    "        loc_seq = []\n",
    "        for labels, screen_locs in zip(group['fix_by_label'], group['fix_by_loc']):\n",
    "            for label, screen_loc in zip(labels, screen_locs):\n",
    "                if (label, screen_loc) not in seen:\n",
    "                    seen.add((label, screen_loc))\n",
    "                    label_seq.append(label)\n",
    "                    loc_seq.append(screen_loc)\n",
    "        label_seq = tuple(label_seq)\n",
    "        loc_seq = tuple(loc_seq)\n",
    "        result.append({\n",
    "            'TRIAL_INDEX': trial_index,\n",
    "            'participant_id': participant_id,\n",
    "            'first_visits_area_label': label_seq,\n",
    "            'first_visits_area_screen_loc': loc_seq\n",
    "        })\n",
    "    df_first_visits = pd.DataFrame(result)\n",
    "    return df_first_visits"
   ],
   "id": "8cf224e3c1e821b8",
   "outputs": [],
   "execution_count": 18
  },
  {
   "metadata": {
    "ExecuteTime": {
     "end_time": "2025-05-06T10:37:03.730800Z",
     "start_time": "2025-05-06T10:37:03.703780Z"
    }
   },
   "cell_type": "code",
   "source": [
    "def last_visits_ordered(df):\n",
    "    df = df.copy()\n",
    "\n",
    "    result = []\n",
    "    for (trial_index, participant_id), group in df.groupby(['TRIAL_INDEX', 'participant_id']):\n",
    "        seen = set()\n",
    "        label_seq = []\n",
    "        loc_seq = []\n",
    "        for labels, screen_locs in zip(group.iloc[::-1]['fix_by_label'], group.iloc[::-1]['fix_by_loc']):\n",
    "            i = 0\n",
    "            for label, screen_loc in zip(reversed(labels), reversed(screen_locs)):\n",
    "                i = i +1\n",
    "                if (label, screen_loc) not in seen:\n",
    "                    seen.add((label, screen_loc))\n",
    "                    label_seq.append(label)\n",
    "                    loc_seq.append(screen_loc)\n",
    "        label_seq = tuple(label_seq[::-1])\n",
    "        loc_seq = tuple(loc_seq[::-1])\n",
    "        result.append({\n",
    "            'TRIAL_INDEX': trial_index,\n",
    "            'participant_id': participant_id,\n",
    "            'last_visits_area_label': label_seq,\n",
    "            'last_visits_area_screen_loc': loc_seq\n",
    "        })\n",
    "    df_first_visits = pd.DataFrame(result)\n",
    "    return df_first_visits"
   ],
   "id": "490ee4f0f8499506",
   "outputs": [],
   "execution_count": 19
  },
  {
   "metadata": {
    "ExecuteTime": {
     "end_time": "2025-05-06T10:37:05.777257Z",
     "start_time": "2025-05-06T10:37:05.761583Z"
    }
   },
   "cell_type": "code",
   "source": [
    "def generate_new_row_features(functions, df, default_join_columns=['TRIAL_INDEX', 'participant_id', 'area_label']):\n",
    "    result_df = df.copy()\n",
    "\n",
    "    for func_tuple in functions:\n",
    "        func, func_kwargs = func_tuple\n",
    "        print(func)\n",
    "\n",
    "        join_columns = func_kwargs.get('join_columns', default_join_columns)\n",
    "\n",
    "        new_features_df = func(result_df)\n",
    "        result_df = result_df.merge(new_features_df, on=join_columns, how='left')\n",
    "\n",
    "    return result_df"
   ],
   "id": "e1b59fbef2323ef0",
   "outputs": [],
   "execution_count": 20
  },
  {
   "metadata": {
    "ExecuteTime": {
     "end_time": "2025-05-06T10:37:07.782197Z",
     "start_time": "2025-05-06T10:37:07.756946Z"
    }
   },
   "cell_type": "code",
   "source": [
    "per_row_feature_generators = [\n",
    "    (create_fixation_sequence_tags, {'join_columns': ['TRIAL_INDEX', 'participant_id']}),\n",
    "    (create_simplified_fixation_tags, {'join_columns': ['TRIAL_INDEX', 'participant_id']}),\n",
    "    (first_visits_ordered, {'join_columns': ['TRIAL_INDEX', 'participant_id']}),\n",
    "    (last_visits_ordered, {'join_columns': ['TRIAL_INDEX', 'participant_id']}),\n",
    "]"
   ],
   "id": "2cdae4b718ba9f96",
   "outputs": [],
   "execution_count": 21
  },
  {
   "metadata": {
    "ExecuteTime": {
     "end_time": "2025-05-06T10:37:57.799651Z",
     "start_time": "2025-05-06T10:37:09.186564Z"
    }
   },
   "cell_type": "code",
   "source": [
    "df_with_features_h = generate_new_row_features(per_row_feature_generators, df_base_features_h)\n",
    "df_with_features_g = generate_new_row_features(per_row_feature_generators, df_base_features_g)"
   ],
   "id": "e885198ecf3cc4da",
   "outputs": [
    {
     "name": "stdout",
     "output_type": "stream",
     "text": [
      "<function create_fixation_sequence_tags at 0x00000233B687FEB0>\n",
      "<function create_simplified_fixation_tags at 0x00000233AEC52F80>\n",
      "<function first_visits_ordered at 0x0000022FD0081C60>\n",
      "<function last_visits_ordered at 0x00000233AEC52710>\n",
      "<function create_fixation_sequence_tags at 0x00000233B687FEB0>\n",
      "<function create_simplified_fixation_tags at 0x00000233AEC52F80>\n",
      "<function first_visits_ordered at 0x0000022FD0081C60>\n",
      "<function last_visits_ordered at 0x00000233AEC52710>\n"
     ]
    }
   ],
   "execution_count": 22
  },
  {
   "metadata": {},
   "cell_type": "markdown",
   "source": "#### No questions version",
   "id": "f9f65485a7a8fb91"
  },
  {
   "metadata": {
    "ExecuteTime": {
     "end_time": "2025-05-06T10:38:02.687486Z",
     "start_time": "2025-05-06T10:38:02.671637Z"
    }
   },
   "cell_type": "code",
   "source": [
    "def remove_questions(df,\n",
    "                     source_col='first_visits_area_label',\n",
    "                     target_col='first_vis_no_q'):\n",
    "    df[target_col] = df[source_col].apply(\n",
    "        lambda lst: tuple(item for item in lst if item != 'question')\n",
    "    )\n",
    "    return df"
   ],
   "id": "b3cbd8a9d0bdc80f",
   "outputs": [],
   "execution_count": 23
  },
  {
   "metadata": {
    "ExecuteTime": {
     "end_time": "2025-05-06T10:38:12.080723Z",
     "start_time": "2025-05-06T10:38:04.404795Z"
    }
   },
   "cell_type": "code",
   "source": [
    "df_with_features_h = remove_questions(df_with_features_h, source_col='first_visits_area_screen_loc', target_col='first_vis_loc_no_q').copy()\n",
    "df_with_features_g = remove_questions(df_with_features_g, source_col='first_visits_area_screen_loc', target_col='first_vis_loc_no_q').copy()\n",
    "\n",
    "df_with_features_h = remove_questions(df_with_features_h, source_col='first_visits_area_label', target_col='first_vis_lb_no_q').copy()\n",
    "df_with_features_g = remove_questions(df_with_features_g, source_col='first_visits_area_label', target_col='first_vis_lb_no_q').copy()"
   ],
   "id": "69ab088d59b9f0da",
   "outputs": [],
   "execution_count": 24
  },
  {
   "metadata": {
    "ExecuteTime": {
     "end_time": "2025-05-06T10:43:42.990822Z",
     "start_time": "2025-05-06T10:43:34.357851Z"
    }
   },
   "cell_type": "code",
   "source": [
    "df_with_features_h = remove_questions(df_with_features_h, source_col='last_visits_area_screen_loc', target_col='last_vis_loc_no_q').copy()\n",
    "df_with_features_g = remove_questions(df_with_features_g, source_col='last_visits_area_screen_loc', target_col='last_vis_loc_no_q').copy()\n",
    "\n",
    "df_with_features_h = remove_questions(df_with_features_h, source_col='last_visits_area_label', target_col='last_vis_lb_no_q').copy()\n",
    "df_with_features_g = remove_questions(df_with_features_g, source_col='last_visits_area_label', target_col='last_vis_lb_no_q').copy()"
   ],
   "id": "f5d084c5e7697b5d",
   "outputs": [],
   "execution_count": 35
  },
  {
   "metadata": {},
   "cell_type": "markdown",
   "source": "### Starts Frequencies Graphs\n",
   "id": "7f8f8ee57082c34a"
  },
  {
   "metadata": {
    "ExecuteTime": {
     "end_time": "2025-05-06T10:52:26.563654Z",
     "start_time": "2025-05-06T10:52:26.530222Z"
    }
   },
   "cell_type": "code",
   "source": [
    "def plot_freq_hist(df, column='first_visits_area_screen_loc', top_n=None, figsize=(15,6), h_or_g = 'undefined', ans = '?'):\n",
    "    counts = df[column].value_counts(dropna=False)\n",
    "\n",
    "    if top_n is not None:\n",
    "        counts = counts.head(top_n)\n",
    "\n",
    "    plt.figure(figsize=figsize)\n",
    "    counts.plot(kind='bar')\n",
    "    plt.xlabel(column.replace('_', ' ').title())\n",
    "    plt.ylabel('Frequency')\n",
    "    plt.title(f'hist_{column}_top-{top_n}_{h_or_g}_answered_{ans}')\n",
    "    plt.xticks(rotation=45, ha='right')\n",
    "    plt.tight_layout()\n",
    "    plt.savefig(f\"plots/visits_hists/hist_{column}_top-{top_n}_{h_or_g}_answered_{ans}.png\")\n",
    "    plt.show()"
   ],
   "id": "988f0b0cee110a6b",
   "outputs": [],
   "execution_count": 46
  },
  {
   "metadata": {},
   "cell_type": "code",
   "source": [
    "for l in ['A', 'B', 'C', 'D']:\n",
    "    data = df_with_features_h[df_with_features_h['selected_answer_label'] == l]\n",
    "    for col in ['first_visits_area_screen_loc', 'first_visits_area_label', 'last_visits_area_screen_loc', 'last_visits_area_label',\n",
    "                'first_vis_loc_no_q', 'first_vis_lb_no_q', 'last_vis_loc_no_q', 'last_vis_lb_no_q']:\n",
    "        df = data[['TRIAL_INDEX', 'participant_id', col]].drop_duplicates()\n",
    "        plot_freq_hist(df, column=col, top_n=35, h_or_g = 'hunters', ans = l)"
   ],
   "id": "ad3fca1263cf1ed3",
   "outputs": [],
   "execution_count": null
  },
  {
   "metadata": {},
   "cell_type": "markdown",
   "source": "### Distance measure",
   "id": "fbae76228b363914"
  },
  {
   "metadata": {
    "ExecuteTime": {
     "end_time": "2025-05-06T11:12:35.081680Z",
     "start_time": "2025-05-06T11:12:10.327178Z"
    }
   },
   "cell_type": "code",
   "source": [
    "from sklearn.manifold import MDS\n",
    "from sklearn.cluster import KMeans\n",
    "from sklearn.cluster import AgglomerativeClustering\n",
    "from sklearn.cluster import DBSCAN\n",
    "import hdbscan\n",
    "import matplotlib.pyplot as plt\n",
    "import umap\n",
    "\n",
    "from scipy.cluster.hierarchy import linkage, dendrogram\n",
    "from scipy.cluster.hierarchy import leaves_list\n",
    "from scipy.spatial.distance import squareform\n",
    "from sklearn.decomposition import PCA\n",
    "\n",
    "from Bio import pairwise2"
   ],
   "id": "b8e3c9f2bba2a87",
   "outputs": [],
   "execution_count": 51
  },
  {
   "metadata": {},
   "cell_type": "markdown",
   "source": "#### 1. Self made",
   "id": "dffcc9b5a2c43982"
  },
  {
   "metadata": {
    "ExecuteTime": {
     "end_time": "2025-05-06T11:12:42.259500Z",
     "start_time": "2025-05-06T11:12:42.228242Z"
    }
   },
   "cell_type": "code",
   "source": [
    "def sequence_distance(item1, item2, dist=1):\n",
    "    m = 0.83\n",
    "\n",
    "    fix_seq1, fix_dur1, _, _ = item1\n",
    "    fix_seq2, fix_dur2, _, _ = item2\n",
    "\n",
    "    fix_seq1, fix_dur1 = list(fix_seq1), list(fix_dur1)\n",
    "    fix_seq2, fix_dur2 = list(fix_seq2), list(fix_dur2)\n",
    "\n",
    "    if not fix_seq1:\n",
    "        fix_seq1 = [0]\n",
    "        fix_dur1 = [0]\n",
    "    if not fix_seq2:\n",
    "        fix_seq2 = [0]\n",
    "        fix_dur2 = [0]\n",
    "\n",
    "    alignments = pairwise2.align.globalxx(fix_seq1, fix_seq2,gap_char=['-'])\n",
    "    best_alignment = alignments[0]\n",
    "    aln_tokens1 = best_alignment[0]\n",
    "    aln_tokens2 = best_alignment[1]\n",
    "\n",
    "    aligned_dur1 = []\n",
    "    aligned_dur2 = []\n",
    "    idx1 = 0\n",
    "    idx2 = 0\n",
    "\n",
    "    for token_a, token_b in zip(aln_tokens1, aln_tokens2):\n",
    "        if token_a == \"-\":\n",
    "            aligned_dur1.append(0)\n",
    "        else:\n",
    "            aligned_dur1.append(fix_dur1[idx1])\n",
    "            idx1 += 1\n",
    "\n",
    "        if token_b == \"-\":\n",
    "            aligned_dur2.append(0)\n",
    "        else:\n",
    "            aligned_dur2.append(fix_dur2[idx2])\n",
    "            idx2 += 1\n",
    "\n",
    "    total_distance = 0\n",
    "    for s1, d1, s2, d2 in zip(aln_tokens1, aligned_dur1, aln_tokens2, aligned_dur2):\n",
    "        if s1 == s2:\n",
    "            total_distance += abs(d1 - d2) * (m**dist)\n",
    "        else:\n",
    "            total_distance += (d1 + d2) * (m**dist)\n",
    "\n",
    "    return total_distance"
   ],
   "id": "c8d0cbbff3a4f947",
   "outputs": [],
   "execution_count": 52
  },
  {
   "metadata": {},
   "cell_type": "markdown",
   "source": "#### 2. Levenshtein",
   "id": "86b5cd5bf1f51bd8"
  },
  {
   "metadata": {
    "ExecuteTime": {
     "end_time": "2025-05-06T11:12:45.627501Z",
     "start_time": "2025-05-06T11:12:45.516617Z"
    }
   },
   "cell_type": "code",
   "source": [
    "import Levenshtein\n",
    "def levenshtein_sequence_distance(item1, item2):\n",
    "    return Levenshtein.distance(item1[0], item2[0])"
   ],
   "id": "3d0c123ece9c88b3",
   "outputs": [],
   "execution_count": 53
  },
  {
   "metadata": {},
   "cell_type": "markdown",
   "source": "#### 3. R wrapper",
   "id": "d45ca7ac5205da7d"
  },
  {
   "metadata": {
    "ExecuteTime": {
     "end_time": "2025-05-06T11:12:51.794350Z",
     "start_time": "2025-05-06T11:12:47.292528Z"
    }
   },
   "cell_type": "code",
   "source": "%load_ext rpy2.ipython",
   "id": "1bd3def9dff49288",
   "outputs": [
    {
     "name": "stderr",
     "output_type": "stream",
     "text": [
      "C:\\Users\\deeth\\miniconda3\\envs\\default_env\\lib\\site-packages\\rpy2\\robjects\\packages.py:367: UserWarning: The symbol 'quartz' is not in this R namespace/package.\n",
      "  warnings.warn(\n"
     ]
    }
   ],
   "execution_count": 54
  },
  {
   "metadata": {
    "ExecuteTime": {
     "end_time": "2025-05-06T11:13:00.554357Z",
     "start_time": "2025-05-06T11:12:53.832570Z"
    }
   },
   "cell_type": "code",
   "source": [
    "%%R\n",
    "# rpy2.library(\"devtools\")\n",
    "# rpy2.install_github(\"tmalsburg/scanpath/scanpath\", dependencies=TRUE)\n",
    "# rpy2.library(scanpath)\n",
    "\n",
    "library(devtools)\n",
    "install_github(\"tmalsburg/scanpath/scanpath\", dependencies=TRUE)\n",
    "library(scanpath)"
   ],
   "id": "ce268ff06ba59a02",
   "outputs": [
    {
     "name": "stderr",
     "output_type": "stream",
     "text": [
      "R[write to console]: Loading required package: usethis\n",
      "\n",
      "R[write to console]: Using GitHub PAT from the git credential store.\n",
      "\n",
      "R[write to console]: Skipping install of 'scanpath' from a github remote, the SHA1 (6984b604) has not changed since last install.\n",
      "  Use `force = TRUE` to force installation\n",
      "\n"
     ]
    }
   ],
   "execution_count": 55
  },
  {
   "metadata": {
    "ExecuteTime": {
     "end_time": "2025-05-06T11:13:02.384350Z",
     "start_time": "2025-05-06T11:13:02.353020Z"
    }
   },
   "cell_type": "code",
   "source": [
    "import numpy as np\n",
    "import pandas as pd\n",
    "import rpy2.robjects as ro\n",
    "\n",
    "\n",
    "def scasim_py(\n",
    "    df: pd.DataFrame,\n",
    "    formula: str,\n",
    "    center_x: int = 1280,\n",
    "    center_y: int = 720,\n",
    "    viewing_distance: int = 77,\n",
    "    unit_size: float = 1 / 60,\n",
    "    normalize: bool | str = False,\n",
    ") -> np.ndarray:\n",
    "    ro.pandas2ri.activate()\n",
    "    scanpath = ro.packages.importr(name=\"scanpath\")\n",
    "\n",
    "    with (ro.default_converter + ro.pandas2ri.converter).context():\n",
    "        r_dataframe = ro.conversion.get_conversion().py2rpy(df)\n",
    "\n",
    "    return scanpath.scasim(\n",
    "        data=r_dataframe,\n",
    "        formula=ro.Formula(formula),\n",
    "        center_x=center_x,\n",
    "        center_y=center_y,\n",
    "        viewing_distance=viewing_distance,\n",
    "        unit_size=unit_size,\n",
    "        normalize=normalize,\n",
    "    )\n",
    "\n",
    "\n",
    "def alignment_plot_py(\n",
    "    sp1: pd.DataFrame,\n",
    "    sp2: pd.DataFrame,\n",
    "    diff_by: str = \"synthesized\",\n",
    "    center_x: int = 1280,\n",
    "    center_y: int = 720,\n",
    "    viewing_distance: int = 77,\n",
    "    unit_size: float = 1 / 60,\n",
    "):\n",
    "    ro.pandas2ri.activate()\n",
    "    scanpath = ro.packages.importr(name=\"scanpath\")\n",
    "    ggplot = ro.packages.importr(\"ggplot2\")\n",
    "\n",
    "    with (ro.default_converter + ro.pandas2ri.converter).context():\n",
    "        sp_r_df_1 = ro.conversion.get_conversion().py2rpy(sp1)\n",
    "        sp_r_df_2 = ro.conversion.get_conversion().py2rpy(sp2)\n",
    "\n",
    "    alignment = scanpath.rscasim(\n",
    "        sp_r_df_1,\n",
    "        sp_r_df_2,\n",
    "        formula=ro.Formula(\n",
    "            f\"CURRENT_FIX_DURATION ~ CURRENT_FIX_X + CURRENT_FIX_Y | {diff_by}\"\n",
    "        ),\n",
    "        center_x=center_x,\n",
    "        center_y=center_y,\n",
    "        viewing_distance=viewing_distance,\n",
    "        unit_size=unit_size,\n",
    "    )\n",
    "\n",
    "    alignment_plot = scanpath.plot_alignment(\n",
    "        sp_r_df_1,\n",
    "        sp_r_df_2,\n",
    "        ro.conversion.get_conversion().py2rpy(alignment),\n",
    "        ro.Formula(f\"CURRENT_FIX_DURATION ~ CURRENT_FIX_X + CURRENT_FIX_Y | {diff_by}\"),\n",
    "        10,\n",
    "        10,\n",
    "    )\n",
    "\n",
    "    # save the plot\n",
    "    ggplot.ggsave(\n",
    "        ro.conversion.get_conversion().py2rpy(alignment_plot), \"alignment_plot.png\"\n",
    "    )"
   ],
   "id": "22352e6393e29f9a",
   "outputs": [],
   "execution_count": 56
  },
  {
   "metadata": {
    "ExecuteTime": {
     "end_time": "2025-05-06T11:13:05.495685Z",
     "start_time": "2025-05-06T11:13:05.470502Z"
    }
   },
   "cell_type": "code",
   "source": [
    "def scasim_sequence_distance(item1, item2):\n",
    "\n",
    "    seq1, dur1, x1, y1 = item1\n",
    "    seq2, dur2, x2, y2 = item2\n",
    "\n",
    "    if not dur1:\n",
    "        dur1, x1, y1 = [0], [0], [0]\n",
    "    if not dur2:\n",
    "        dur2, x2, y2 = [0], [0], [0]\n",
    "\n",
    "    df1 = pd.DataFrame({\n",
    "        \"CURRENT_FIX_DURATION\": dur1,\n",
    "        \"CURRENT_FIX_X\":         x1,\n",
    "        \"CURRENT_FIX_Y\":         y1,\n",
    "        \"trial\":                 1\n",
    "    })\n",
    "    df2 = pd.DataFrame({\n",
    "        \"CURRENT_FIX_DURATION\": dur2,\n",
    "        \"CURRENT_FIX_X\":         x2,\n",
    "        \"CURRENT_FIX_Y\":         y2,\n",
    "        \"trial\":                 2\n",
    "    })\n",
    "    df_combined = pd.concat([df1, df2], ignore_index=True)\n",
    "\n",
    "    dist_mat = scasim_py(\n",
    "        df=df_combined,\n",
    "        formula=\"CURRENT_FIX_DURATION ~ CURRENT_FIX_X + CURRENT_FIX_Y | trial\"\n",
    "    )\n",
    "    dist_mat = np.asarray(dist_mat)\n",
    "\n",
    "    return float(dist_mat[0, 1])\n"
   ],
   "id": "6a76723ab8ecf8d2",
   "outputs": [],
   "execution_count": 57
  },
  {
   "metadata": {
    "ExecuteTime": {
     "end_time": "2025-05-05T18:47:37.513634Z",
     "start_time": "2025-05-05T18:47:37.488777Z"
    }
   },
   "cell_type": "code",
   "source": [
    "# def scasim_sequence_distance(df, col, formula):\n",
    "#     exploded = (df\n",
    "#         .loc[:, [col, 'simpl_fix_duration', 'simpl_fix_x', 'simpl_fix_y']]\n",
    "#         .explode(['simpl_fix_duration','simpl_fix_x','simpl_fix_y'])\n",
    "#         .rename(columns={\n",
    "#           'simpl_fix_duration':'CURRENT_FIX_DURATION',\n",
    "#           'simpl_fix_x':'CURRENT_FIX_X',\n",
    "#           'simpl_fix_y':'CURRENT_FIX_Y',\n",
    "#         })\n",
    "#     )\n",
    "#     exploded['trial'] = exploded[col]\n",
    "#     exploded[['CURRENT_FIX_DURATION','CURRENT_FIX_X','CURRENT_FIX_Y']] =\\\n",
    "#         (\n",
    "#         exploded[[\n",
    "#           'CURRENT_FIX_DURATION','CURRENT_FIX_X','CURRENT_FIX_Y'\n",
    "#         ]].astype(float))\n",
    "#\n",
    "#     exploded = exploded.dropna(subset=[\n",
    "#         'CURRENT_FIX_DURATION',\n",
    "#         'CURRENT_FIX_X',\n",
    "#         'CURRENT_FIX_Y'\n",
    "#     ])\n",
    "#\n",
    "#     return scasim_py(\n",
    "#       df=exploded,\n",
    "#       formula=\"CURRENT_FIX_DURATION ~ CURRENT_FIX_X + CURRENT_FIX_Y | trial\",\n",
    "#     )"
   ],
   "id": "63009fba1b1b1eb2",
   "outputs": [],
   "execution_count": 75
  },
  {
   "metadata": {},
   "cell_type": "markdown",
   "source": "### Clusterers",
   "id": "dca3806934d6b8b9"
  },
  {
   "metadata": {
    "ExecuteTime": {
     "end_time": "2025-05-06T11:16:26.182461Z",
     "start_time": "2025-05-06T11:16:26.166824Z"
    }
   },
   "cell_type": "code",
   "source": [
    "def seq_cluster_kmeans(df, seq_col, dur_col, x_col, y_col, distance_func=sequence_distance,\n",
    "                       n_clusters=5, mds_components=30):\n",
    "    items = df.apply(lambda row: (row[seq_col], row[dur_col], row[x_col], row[y_col]), axis=1).tolist()\n",
    "\n",
    "\n",
    "    n = len(items)\n",
    "    distance_matrix = np.zeros((n, n))\n",
    "    for i in range(n):\n",
    "        for j in range(i, n):\n",
    "            d = distance_func(items[i], items[j])\n",
    "            distance_matrix[i, j] = d\n",
    "            distance_matrix[j, i] = d\n",
    "\n",
    "    mds = MDS(n_components=mds_components, dissimilarity='precomputed')\n",
    "    mds_embedding = mds.fit_transform(distance_matrix)\n",
    "\n",
    "    kmeans_clusterer = KMeans(n_clusters=n_clusters)\n",
    "    labels = kmeans_clusterer.fit_predict(mds_embedding)\n",
    "\n",
    "    return distance_matrix, labels"
   ],
   "id": "e49508498cec25c",
   "outputs": [],
   "execution_count": 75
  },
  {
   "metadata": {
    "ExecuteTime": {
     "end_time": "2025-05-06T11:13:27.284300Z",
     "start_time": "2025-05-06T11:13:27.243827Z"
    }
   },
   "cell_type": "code",
   "source": [
    "def seq_cluster_agglomerative(df, seq_col, dur_col, x_col, y_col, distance_func=sequence_distance, n_clusters=5):\n",
    "    items = df.apply(lambda row: (row[seq_col], row[dur_col], row[x_col], row[y_col]), axis=1).tolist()\n",
    "\n",
    "    n = len(items)\n",
    "    distance_matrix = np.zeros((n, n))\n",
    "    for i in range(n):\n",
    "        for j in range(i, n):\n",
    "            d = distance_func(items[i], items[j])\n",
    "            distance_matrix[i, j] = d\n",
    "            distance_matrix[j, i] = d\n",
    "    clusterer = AgglomerativeClustering(linkage='average', n_clusters=n_clusters, metric='precomputed')\n",
    "    labels = clusterer.fit_predict(distance_matrix)\n",
    "    return distance_matrix, labels\n"
   ],
   "id": "d77dd10287a15942",
   "outputs": [],
   "execution_count": 59
  },
  {
   "metadata": {
    "ExecuteTime": {
     "end_time": "2025-05-06T11:13:27.668996Z",
     "start_time": "2025-05-06T11:13:27.644626Z"
    }
   },
   "cell_type": "code",
   "source": [
    "def seq_cluster_dbscan(df, seq_col, dur_col, x_col, y_col, distance_func=sequence_distance, eps=0.99, min_samples=2):\n",
    "    items = df.apply(lambda row: (row[seq_col], row[dur_col], row[x_col], row[y_col]), axis=1).tolist()\n",
    "\n",
    "    n = len(items)\n",
    "    distance_matrix = np.zeros((n, n))\n",
    "\n",
    "    for i in range(n):\n",
    "        for j in range(i, n):\n",
    "            d = distance_func(items[i], items[j])\n",
    "            distance_matrix[i, j] = d\n",
    "            distance_matrix[j, i] = d\n",
    "\n",
    "    clusterer = DBSCAN(eps=eps, min_samples=min_samples, metric='precomputed')\n",
    "    labels = clusterer.fit_predict(distance_matrix)\n",
    "\n",
    "    return distance_matrix, labels"
   ],
   "id": "97a7a2a44acf314",
   "outputs": [],
   "execution_count": 60
  },
  {
   "metadata": {
    "ExecuteTime": {
     "end_time": "2025-05-06T11:13:28.715552Z",
     "start_time": "2025-05-06T11:13:28.683778Z"
    }
   },
   "cell_type": "code",
   "source": [
    "def seq_cluster_hdbscan(df, seq_col, dur_col, x_col, y_col, distance_func=sequence_distance, min_cluster_size=2):\n",
    "    items = df.apply(lambda row: (row[seq_col], row[dur_col], row[x_col], row[y_col]), axis=1).tolist()\n",
    "\n",
    "    n = len(items)\n",
    "    distance_matrix = np.zeros((n, n))\n",
    "    for i in range(n):\n",
    "        for j in range(i, n):\n",
    "            d = distance_func(items[i], items[j])\n",
    "            distance_matrix[i, j] = d\n",
    "            distance_matrix[j, i] = d\n",
    "\n",
    "    clusterer = hdbscan.HDBSCAN(metric='precomputed', min_cluster_size=min_cluster_size)\n",
    "    labels = clusterer.fit_predict(distance_matrix)\n",
    "\n",
    "    return distance_matrix, labels"
   ],
   "id": "8d3e4cc5bd708659",
   "outputs": [],
   "execution_count": 61
  },
  {
   "metadata": {},
   "cell_type": "markdown",
   "source": "### Mixing the Sequences",
   "id": "ff628eaae8c5c62b"
  },
  {
   "metadata": {
    "ExecuteTime": {
     "end_time": "2025-05-06T11:14:01.584928Z",
     "start_time": "2025-05-06T11:13:30.908128Z"
    }
   },
   "cell_type": "code",
   "source": [
    "def mix_fix(df,\n",
    "                  loc_col='simpl_fix_by_loc',\n",
    "                  label_col='simpl_fix_by_label',\n",
    "                  result_col='simpl_fix_mixed',\n",
    "                  n_loc=4):\n",
    "    df = df.copy()\n",
    "    df[result_col] = df.apply(\n",
    "        lambda r: tuple(r[loc_col])[:n_loc] + tuple(r[label_col])[n_loc:],\n",
    "        axis=1\n",
    "    )\n",
    "    return df\n",
    "\n",
    "df_with_features_h = mix_fix(df_with_features_h,\n",
    "                                   loc_col='simpl_fix_by_loc',\n",
    "                                   label_col='simpl_fix_by_label',\n",
    "                                   result_col='simpl_fix_mixed',\n",
    "                                   n_loc=4)\n",
    "df_with_features_g = mix_fix(df_with_features_g,\n",
    "                                   loc_col='simpl_fix_by_loc',\n",
    "                                   label_col='simpl_fix_by_label',\n",
    "                                   result_col='simpl_fix_mixed',\n",
    "                                   n_loc=4)\n",
    "\n",
    "\n",
    "df_with_features_h = mix_fix(df_with_features_h,\n",
    "                                   loc_col='fix_by_loc',\n",
    "                                   label_col='fix_by_label',\n",
    "                                   result_col='fix_mixed',\n",
    "                                   n_loc=4)\n",
    "df_with_features_g = mix_fix(df_with_features_g,\n",
    "                                   loc_col='fix_by_loc',\n",
    "                                   label_col='fix_by_label',\n",
    "                                   result_col='fix_mixed',\n",
    "                                   n_loc=4)"
   ],
   "id": "4bb6b1d8850fa8a1",
   "outputs": [],
   "execution_count": 62
  },
  {
   "metadata": {},
   "cell_type": "markdown",
   "source": "### Clustering Visualization",
   "id": "aaeec400d1fe55d7"
  },
  {
   "metadata": {
    "ExecuteTime": {
     "end_time": "2025-05-06T11:14:07.578276Z",
     "start_time": "2025-05-06T11:14:07.536828Z"
    }
   },
   "cell_type": "code",
   "source": [
    "def plot_custom_dendrogram(distance_matrix, subset, tid, seq_col):\n",
    "    linkage_matrix = linkage(distance_matrix, method='average')\n",
    "    custom_labels = [\", \".join(map(str, seq)) for seq in subset[seq_col]]\n",
    "\n",
    "    plt.figure(figsize=(12, 6))\n",
    "    plt.title(f\"Dendrogram for text_id: {tid}\")\n",
    "    dendrogram(linkage_matrix, labels=custom_labels,\n",
    "               leaf_rotation=90,\n",
    "               leaf_font_size=10)\n",
    "    plt.xlabel(f\"Fixation Sequences ({seq_col}])\")\n",
    "    plt.ylabel(\"Distance\")\n",
    "    plt.show()"
   ],
   "id": "782ae3aa03143ef",
   "outputs": [],
   "execution_count": 64
  },
  {
   "metadata": {
    "ExecuteTime": {
     "end_time": "2025-05-06T11:14:07.954779Z",
     "start_time": "2025-05-06T11:14:07.938892Z"
    }
   },
   "cell_type": "code",
   "source": [
    "def pca_plot(distance_matrix, labels, tid, n_components=2):\n",
    "    pca = PCA(n_components=n_components)\n",
    "    pca_result = pca.fit_transform(distance_matrix)\n",
    "\n",
    "    plt.figure(figsize=(8,6))\n",
    "    plt.title(f\"PCA Projection for text_id: {tid}\")\n",
    "    plt.scatter(pca_result[:, 0], pca_result[:, 1], c=labels, cmap='plasma')\n",
    "    plt.xlabel(\"Principal Component 1\")\n",
    "    plt.ylabel(\"Principal Component 2\")\n",
    "    plt.show()"
   ],
   "id": "c6f1e5189f9cbdd3",
   "outputs": [],
   "execution_count": 65
  },
  {
   "metadata": {
    "ExecuteTime": {
     "end_time": "2025-05-06T11:14:08.467963Z",
     "start_time": "2025-05-06T11:14:08.453247Z"
    }
   },
   "cell_type": "code",
   "source": [
    "def reordered_heatmap(condensed_distance, distance_matrix, tid):\n",
    "    linkage_matrix = linkage(condensed_distance, method='average')\n",
    "    leaf_order = leaves_list(linkage_matrix)\n",
    "    reordered_matrix = distance_matrix[leaf_order][:, leaf_order]\n",
    "\n",
    "    plt.figure(figsize=(8, 6))\n",
    "    plt.title(f\"Reordered Distance Matrix for text_id: {tid}\")\n",
    "    im = plt.imshow(reordered_matrix, cmap='viridis', interpolation='nearest')\n",
    "    plt.xlabel(\"Reordered Index\")\n",
    "    plt.ylabel(\"Reordered Index\")\n",
    "    plt.colorbar(im)\n",
    "    plt.show()"
   ],
   "id": "8033647c9b2f84c7",
   "outputs": [],
   "execution_count": 66
  },
  {
   "metadata": {
    "ExecuteTime": {
     "end_time": "2025-05-06T11:14:08.835124Z",
     "start_time": "2025-05-06T11:14:08.819555Z"
    }
   },
   "cell_type": "code",
   "source": [
    "def umap_plot(distance_matrix, labels, tid):\n",
    "    umap_model = umap.UMAP(metric='precomputed', random_state=42)\n",
    "    umap_emb = umap_model.fit_transform(distance_matrix)\n",
    "    plt.figure(figsize=(8, 6))\n",
    "    plt.title(f\"UMAP Projection for text_id: {tid}\")\n",
    "    plt.scatter(umap_emb[:, 0], umap_emb[:, 1], c=labels, cmap='plasma', s=15)\n",
    "    plt.xlabel(\"UMAP 1\")\n",
    "    plt.ylabel(\"UMAP 2\")\n",
    "    plt.tight_layout()\n",
    "    plt.show()"
   ],
   "id": "95791e76e8964abd",
   "outputs": [],
   "execution_count": 67
  },
  {
   "metadata": {
    "ExecuteTime": {
     "end_time": "2025-05-06T11:15:35.553645Z",
     "start_time": "2025-05-06T11:15:35.537821Z"
    }
   },
   "cell_type": "code",
   "source": [
    "def cluster_by_text(df, tid, seq_col, dur_col, x_col, y_col, dist_func, clusterer):\n",
    "    if tid:\n",
    "        subset = df[df['text_id'] == tid]\n",
    "        print(f\"\\n=== Processing text_id: {tid} ===\")\n",
    "    else:\n",
    "        subset = df\n",
    "        print(f\"\\n=== Processing the whole given dataframe ===\")\n",
    "\n",
    "\n",
    "    func, func_kwargs = clusterer\n",
    "    distance_matrix, labels = func(subset, seq_col, dur_col, x_col, y_col,\n",
    "                                            distance_func=dist_func, **func_kwargs)\n",
    "\n",
    "\n",
    "    condensed_distance = squareform(distance_matrix)\n",
    "\n",
    "    pca_plot(distance_matrix, labels, tid)\n",
    "    umap_plot(distance_matrix, labels, tid)\n",
    "    reordered_heatmap(condensed_distance, distance_matrix, tid)\n",
    "    plot_custom_dendrogram(condensed_distance, subset, tid, seq_col)\n",
    "\n",
    "    out = subset.reset_index(drop=True)[['participant_id', 'text_id', seq_col]].copy()\n",
    "    out['cluster_label'] = labels\n",
    "    return out"
   ],
   "id": "c49b4b273966abf8",
   "outputs": [],
   "execution_count": 72
  },
  {
   "metadata": {
    "ExecuteTime": {
     "end_time": "2025-05-06T11:15:37.255135Z",
     "start_time": "2025-05-06T11:15:37.230584Z"
    }
   },
   "cell_type": "code",
   "source": [
    "def get_random_text_id(df):\n",
    "    return df['text_id'].sample(n=1).iloc[0]\n",
    "\n",
    "knn = (seq_cluster_kmeans, {'n_clusters':5})\n",
    "aggl = (seq_cluster_agglomerative, {'n_clusters':5})\n",
    "dbsan = (seq_cluster_dbscan, {'eps':0.7, 'min_samples':2})\n",
    "hdbs = (seq_cluster_hdbscan, {'min_cluster_size':2})"
   ],
   "id": "19c143fd87702982",
   "outputs": [],
   "execution_count": 73
  },
  {
   "metadata": {
    "ExecuteTime": {
     "end_time": "2025-05-06T11:15:59.945900Z",
     "start_time": "2025-05-06T11:15:38.989432Z"
    }
   },
   "cell_type": "code",
   "source": [
    "#seq_col = 'simpl_fix_mixed'\n",
    "seq_col = 'simpl_fix_by_loc'\n",
    "dur_col = 'simpl_fix_duration'\n",
    "x_column   = 'simpl_fix_x'\n",
    "y_column   = 'simpl_fix_y'\n",
    "\n",
    "h_rows = df_with_features_h[['TRIAL_INDEX', 'participant_id', 'text_id', seq_col, dur_col, x_column, y_column]].drop_duplicates()\n",
    "g_rows = df_with_features_g[['TRIAL_INDEX', 'participant_id', 'text_id', seq_col, dur_col, x_column, y_column]].drop_duplicates()\n",
    "\n",
    "tid = get_random_text_id(h_rows)\n",
    "lbls = cluster_by_text(h_rows, tid,\n",
    "                       seq_col, dur_col,\n",
    "                       x_column, y_column,\n",
    "                        dist_func=scasim_sequence_distance,\n",
    "                        clusterer=knn)\n",
    "\n",
    "lbls\n"
   ],
   "id": "c62097956ba516c5",
   "outputs": [
    {
     "name": "stdout",
     "output_type": "stream",
     "text": [
      "\n",
      "=== Processing text_id: 5_Ele_1_2_0 ===\n"
     ]
    },
    {
     "data": {
      "text/plain": [
       "<Figure size 800x600 with 1 Axes>"
      ],
      "image/png": "[encoded data removed]"
     },
     "metadata": {},
     "output_type": "display_data"
    },
    {
     "name": "stderr",
     "output_type": "stream",
     "text": [
      "C:\\Users\\deeth\\miniconda3\\envs\\default_env\\lib\\site-packages\\sklearn\\utils\\deprecation.py:151: FutureWarning: 'force_all_finite' was renamed to 'ensure_all_finite' in 1.6 and will be removed in 1.8.\n",
      "  warnings.warn(\n",
      "C:\\Users\\deeth\\miniconda3\\envs\\default_env\\lib\\site-packages\\umap\\umap_.py:1865: UserWarning: using precomputed metric; inverse_transform will be unavailable\n",
      "  warn(\"using precomputed metric; inverse_transform will be unavailable\")\n",
      "C:\\Users\\deeth\\miniconda3\\envs\\default_env\\lib\\site-packages\\umap\\umap_.py:1952: UserWarning: n_jobs value 1 overridden to 1 by setting random_state. Use no seed for parallelism.\n",
      "  warn(\n",
      "C:\\Users\\deeth\\miniconda3\\envs\\default_env\\lib\\site-packages\\umap\\umap_.py:2462: UserWarning: n_neighbors is larger than the dataset size; truncating to X.shape[0] - 1\n",
      "  warn(\n"
     ]
    },
    {
     "data": {
      "text/plain": [
       "<Figure size 800x600 with 1 Axes>"
      ],
      "image/png": "[encoded data removed]"
     },
     "metadata": {},
     "output_type": "display_data"
    },
    {
     "data": {
      "text/plain": [
       "<Figure size 800x600 with 2 Axes>"
      ],
      "image/png": "[encoded data removed]"
     },
     "metadata": {},
     "output_type": "display_data"
    },
    {
     "data": {
      "text/plain": [
       "<Figure size 1200x600 with 1 Axes>"
      ],
      "image/png": "[encoded data removed]"
     },
     "metadata": {},
     "output_type": "display_data"
    },
    {
     "data": {
      "text/plain": [
       "  participant_id      text_id  \\\n",
       "0        l44_540  5_Ele_1_2_0   \n",
       "1        l56_489  5_Ele_1_2_0   \n",
       "2          l2_65  5_Ele_1_2_0   \n",
       "3         l32_63  5_Ele_1_2_0   \n",
       "4         l14_43  5_Ele_1_2_0   \n",
       "5          l8_76  5_Ele_1_2_0   \n",
       "6         l38_97  5_Ele_1_2_0   \n",
       "7         l20_51  5_Ele_1_2_0   \n",
       "8        l50_156  5_Ele_1_2_0   \n",
       "9         l26_57  5_Ele_1_2_0   \n",
       "\n",
       "                                    simpl_fix_by_loc  cluster_label  \n",
       "0  (answer_2, answer_3, answer_1, answer_3, answe...              0  \n",
       "1  (answer_0, answer_1, answer_3, answer_1, answe...              1  \n",
       "2  (answer_0, answer_1, answer_3, answer_2, answe...              0  \n",
       "3  (answer_0, answer_2, answer_3, answer_1, answe...              0  \n",
       "4                                                 ()              0  \n",
       "5  (answer_3, answer_1, answer_2, answer_0, answe...              3  \n",
       "6  (answer_1, answer_0, answer_2, answer_3, answe...              0  \n",
       "7  (answer_2, answer_3, answer_1, answer_0, answe...              4  \n",
       "8           (answer_0, answer_1, answer_3, answer_2)              1  \n",
       "9  (answer_0, answer_1, question, answer_3, answe...              2  "
      ],
      "text/html": [
       "<div>\n",
       "<style scoped>\n",
       "    .dataframe tbody tr th:only-of-type {\n",
       "        vertical-align: middle;\n",
       "    }\n",
       "\n",
       "    .dataframe tbody tr th {\n",
       "        vertical-align: top;\n",
       "    }\n",
       "\n",
       "    .dataframe thead th {\n",
       "        text-align: right;\n",
       "    }\n",
       "</style>\n",
       "<table border=\"1\" class=\"dataframe\">\n",
       "  <thead>\n",
       "    <tr style=\"text-align: right;\">\n",
       "      <th></th>\n",
       "      <th>participant_id</th>\n",
       "      <th>text_id</th>\n",
       "      <th>simpl_fix_by_loc</th>\n",
       "      <th>cluster_label</th>\n",
       "    </tr>\n",
       "  </thead>\n",
       "  <tbody>\n",
       "    <tr>\n",
       "      <th>0</th>\n",
       "      <td>l44_540</td>\n",
       "      <td>5_Ele_1_2_0</td>\n",
       "      <td>(answer_2, answer_3, answer_1, answer_3, answe...</td>\n",
       "      <td>0</td>\n",
       "    </tr>\n",
       "    <tr>\n",
       "      <th>1</th>\n",
       "      <td>l56_489</td>\n",
       "      <td>5_Ele_1_2_0</td>\n",
       "      <td>(answer_0, answer_1, answer_3, answer_1, answe...</td>\n",
       "      <td>1</td>\n",
       "    </tr>\n",
       "    <tr>\n",
       "      <th>2</th>\n",
       "      <td>l2_65</td>\n",
       "      <td>5_Ele_1_2_0</td>\n",
       "      <td>(answer_0, answer_1, answer_3, answer_2, answe...</td>\n",
       "      <td>0</td>\n",
       "    </tr>\n",
       "    <tr>\n",
       "      <th>3</th>\n",
       "      <td>l32_63</td>\n",
       "      <td>5_Ele_1_2_0</td>\n",
       "      <td>(answer_0, answer_2, answer_3, answer_1, answe...</td>\n",
       "      <td>0</td>\n",
       "    </tr>\n",
       "    <tr>\n",
       "      <th>4</th>\n",
       "      <td>l14_43</td>\n",
       "      <td>5_Ele_1_2_0</td>\n",
       "      <td>()</td>\n",
       "      <td>0</td>\n",
       "    </tr>\n",
       "    <tr>\n",
       "      <th>5</th>\n",
       "      <td>l8_76</td>\n",
       "      <td>5_Ele_1_2_0</td>\n",
       "      <td>(answer_3, answer_1, answer_2, answer_0, answe...</td>\n",
       "      <td>3</td>\n",
       "    </tr>\n",
       "    <tr>\n",
       "      <th>6</th>\n",
       "      <td>l38_97</td>\n",
       "      <td>5_Ele_1_2_0</td>\n",
       "      <td>(answer_1, answer_0, answer_2, answer_3, answe...</td>\n",
       "      <td>0</td>\n",
       "    </tr>\n",
       "    <tr>\n",
       "      <th>7</th>\n",
       "      <td>l20_51</td>\n",
       "      <td>5_Ele_1_2_0</td>\n",
       "      <td>(answer_2, answer_3, answer_1, answer_0, answe...</td>\n",
       "      <td>4</td>\n",
       "    </tr>\n",
       "    <tr>\n",
       "      <th>8</th>\n",
       "      <td>l50_156</td>\n",
       "      <td>5_Ele_1_2_0</td>\n",
       "      <td>(answer_0, answer_1, answer_3, answer_2)</td>\n",
       "      <td>1</td>\n",
       "    </tr>\n",
       "    <tr>\n",
       "      <th>9</th>\n",
       "      <td>l26_57</td>\n",
       "      <td>5_Ele_1_2_0</td>\n",
       "      <td>(answer_0, answer_1, question, answer_3, answe...</td>\n",
       "      <td>2</td>\n",
       "    </tr>\n",
       "  </tbody>\n",
       "</table>\n",
       "</div>"
      ]
     },
     "execution_count": 74,
     "metadata": {},
     "output_type": "execute_result"
    }
   ],
   "execution_count": 74
  },
  {
   "metadata": {
    "jupyter": {
     "is_executing": true
    },
    "ExecuteTime": {
     "start_time": "2025-05-06T11:16:57.864291Z"
    }
   },
   "cell_type": "code",
   "source": [
    "ids = df_with_features_h['text_id'].sample(n=300).to_list()\n",
    "\n",
    "seq_c = 'simpl_fix_by_loc'\n",
    "dur_c = 'simpl_fix_duration'\n",
    "x_c   = 'simpl_fix_x'\n",
    "y_c   = 'simpl_fix_y'\n",
    "\n",
    "h_r = df_with_features_h[['TRIAL_INDEX', 'participant_id', 'text_id', seq_c, dur_c, x_c, y_c]].drop_duplicates()\n",
    "g_r = df_with_features_g[['TRIAL_INDEX', 'participant_id', 'text_id', seq_c, dur_c, x_c, y_c]].drop_duplicates()\n",
    "\n",
    "\n",
    "\n",
    "cluster_by_text(h_r[h_r['text_id'].isin(ids)],\n",
    "                None,\n",
    "                seq_c, dur_c,\n",
    "                x_c, y_c,\n",
    "                dist_func=levenshtein_sequence_distance,\n",
    "                clusterer=knn\n",
    "                )"
   ],
   "id": "ada63f191599b9a6",
   "outputs": [
    {
     "name": "stdout",
     "output_type": "stream",
     "text": [
      "\n",
      "=== Processing the whole given dataframe ===\n"
     ]
    }
   ],
   "execution_count": null
  },
  {
   "metadata": {
    "ExecuteTime": {
     "end_time": "2025-05-05T18:38:12.006711900Z",
     "start_time": "2025-05-05T14:38:28.685858Z"
    }
   },
   "cell_type": "code",
   "source": [
    "#   print frequencies of first 5 elements in the sequence - beginning, end, loc, label.\n",
    "#   make R wrapper work\n",
    "\n",
    "#   levenshtein distance\n",
    "#   scan match (similar to scasim)\n",
    "#   try to define distances?\n"
   ],
   "id": "19c3f799d8033a40",
   "outputs": [],
   "execution_count": 43
  }
 ],
 "metadata": {
  "kernelspec": {
   "display_name": "Python 3",
   "language": "python",
   "name": "python3"
  },
  "language_info": {
   "codemirror_mode": {
    "name": "ipython",
    "version": 2
   },
   "file_extension": ".py",
   "mimetype": "text/x-python",
   "name": "python",
   "nbconvert_exporter": "python",
   "pygments_lexer": "ipython2",
   "version": "2.7.6"
  }
 },
 "nbformat": 4,
 "nbformat_minor": 5
}
