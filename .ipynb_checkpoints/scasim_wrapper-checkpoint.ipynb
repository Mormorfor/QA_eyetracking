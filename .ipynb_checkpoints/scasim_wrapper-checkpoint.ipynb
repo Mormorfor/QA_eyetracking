{
 "cells": [
  {
   "cell_type": "code",
   "metadata": {
    "jupyter": {
     "is_executing": true
    },
    "ExecuteTime": {
     "start_time": "2025-04-16T10:34:16.111941Z"
    }
   },
   "source": [
    "%load_ext rpy2.ipython"
   ],
   "outputs": [],
   "execution_count": null
  },
  {
   "metadata": {
    "ExecuteTime": {
     "end_time": "2025-04-16T10:38:41.521434Z",
     "start_time": "2025-04-16T10:38:41.517435Z"
    }
   },
   "cell_type": "code",
   "source": "import rpy2",
   "outputs": [],
   "execution_count": 2
  },
  {
   "cell_type": "code",
   "execution_count": null,
   "metadata": {},
   "outputs": [],
   "source": [
    "%%R \n",
    "rpy2.library(\"devtools\")\n",
    "rpy2.install_github(\"tmalsburg/scanpath/scanpath\", dependencies=TRUE)\n",
    "rpy2.library(scanpath)"
   ]
  },
  {
   "cell_type": "code",
   "execution_count": null,
   "metadata": {},
   "outputs": [],
   "source": [
    "import numpy as np\n",
    "import pandas as pd\n",
    "import rpy2.robjects as ro\n",
    "\n",
    "\n",
    "def scasim_py(\n",
    "    df: pd.DataFrame,\n",
    "    formula: str,\n",
    "    center_x: int = 1280,\n",
    "    center_y: int = 720,\n",
    "    viewing_distance: int = 77,\n",
    "    unit_size: float = 1 / 60,\n",
    "    normalize: bool | str = False,\n",
    ") -> np.ndarray:\n",
    "    ro.pandas2ri.activate()\n",
    "    scanpath = ro.packages.importr(name=\"scanpath\")\n",
    "\n",
    "    with (ro.default_converter + ro.pandas2ri.converter).context():\n",
    "        r_dataframe = ro.conversion.get_conversion().py2rpy(df)\n",
    "\n",
    "    return scanpath.scasim(\n",
    "        data=r_dataframe,\n",
    "        formula=ro.Formula(formula),\n",
    "        center_x=center_x,\n",
    "        center_y=center_y,\n",
    "        viewing_distance=viewing_distance,\n",
    "        unit_size=unit_size,\n",
    "        normalize=normalize,\n",
    "    )\n",
    "\n",
    "\n",
    "def alignment_plot_py(\n",
    "    sp1: pd.DataFrame,\n",
    "    sp2: pd.DataFrame,\n",
    "    diff_by: str = \"synthesized\",\n",
    "    center_x: int = 1280,\n",
    "    center_y: int = 720,\n",
    "    viewing_distance: int = 77,\n",
    "    unit_size: float = 1 / 60,\n",
    "):\n",
    "    ro.pandas2ri.activate()\n",
    "    scanpath = ro.packages.importr(name=\"scanpath\")\n",
    "    ggplot = ro.packages.importr(\"ggplot2\")\n",
    "\n",
    "    with (ro.default_converter + ro.pandas2ri.converter).context():\n",
    "        sp_r_df_1 = ro.conversion.get_conversion().py2rpy(sp1)\n",
    "        sp_r_df_2 = ro.conversion.get_conversion().py2rpy(sp2)\n",
    "\n",
    "    alignment = scanpath.rscasim(\n",
    "        sp_r_df_1,\n",
    "        sp_r_df_2,\n",
    "        formula=ro.Formula(\n",
    "            f\"CURRENT_FIX_DURATION ~ CURRENT_FIX_X + CURRENT_FIX_Y | {diff_by}\"\n",
    "        ),\n",
    "        center_x=center_x,\n",
    "        center_y=center_y,\n",
    "        viewing_distance=viewing_distance,\n",
    "        unit_size=unit_size,\n",
    "    )\n",
    "\n",
    "    alignment_plot = scanpath.plot_alignment(\n",
    "        sp_r_df_1,\n",
    "        sp_r_df_2,\n",
    "        ro.conversion.get_conversion().py2rpy(alignment),\n",
    "        ro.Formula(f\"CURRENT_FIX_DURATION ~ CURRENT_FIX_X + CURRENT_FIX_Y | {diff_by}\"),\n",
    "        10,\n",
    "        10,\n",
    "    )\n",
    "\n",
    "    # save the plot\n",
    "    ggplot.ggsave(\n",
    "        ro.conversion.get_conversion().py2rpy(alignment_plot), \"alignment_plot.png\"\n",
    "    )\n"
   ]
  },
  {
   "cell_type": "code",
   "execution_count": null,
   "metadata": {},
   "outputs": [],
   "source": [
    "\n",
    "distances = scasim_py(\n",
    "    df=multiple_scanpaths_df,\n",
    "    formula=f\"CURRENT_FIX_DURATION ~ CURRENT_FIX_X + CURRENT_FIX_Y | {differentiate_trial_by_col}\",\n",
    ")"
   ]
  }
 ],
 "metadata": {
  "kernelspec": {
   "display_name": "r_env",
   "language": "python",
   "name": "python3"
  },
  "language_info": {
   "codemirror_mode": {
    "name": "ipython",
    "version": 3
   },
   "file_extension": ".py",
   "mimetype": "text/x-python",
   "name": "python",
   "nbconvert_exporter": "python",
   "pygments_lexer": "ipython3",
   "version": "3.12.2"
  }
 },
 "nbformat": 4,
 "nbformat_minor": 2
}
