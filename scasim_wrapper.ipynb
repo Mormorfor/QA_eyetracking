{
 "cells": [
  {
   "metadata": {
    "ExecuteTime": {
     "end_time": "2025-05-11T11:11:32.978876Z",
     "start_time": "2025-05-11T11:11:32.496744Z"
    }
   },
   "cell_type": "code",
   "source": "%load_ext rpy2.ipython",
   "outputs": [
    {
     "name": "stderr",
     "output_type": "stream",
     "text": [
      "C:\\Users\\deeth\\miniconda3\\envs\\QA_eyetracking_env\\lib\\site-packages\\rpy2\\robjects\\packages.py:367: UserWarning: The symbol 'quartz' is not in this R namespace/package.\n",
      "  warnings.warn(\n"
     ]
    }
   ],
   "execution_count": 1
  },
  {
   "metadata": {
    "ExecuteTime": {
     "end_time": "2025-05-11T11:11:37.297701Z",
     "start_time": "2025-05-11T11:11:37.282077Z"
    }
   },
   "cell_type": "code",
   "source": "import rpy2",
   "outputs": [],
   "execution_count": 2
  },
  {
   "cell_type": "code",
   "metadata": {
    "ExecuteTime": {
     "end_time": "2025-05-11T11:11:39.918356Z",
     "start_time": "2025-05-11T11:11:38.330810Z"
    }
   },
   "source": [
    "%%R \n",
    "# rpy2.library(\"devtools\")\n",
    "# rpy2.install_github(\"tmalsburg/scanpath/scanpath\", dependencies=TRUE)\n",
    "# rpy2.library(scanpath)\n",
    "\n",
    "library(devtools)\n",
    "install_github(\"tmalsburg/scanpath/scanpath\", dependencies=TRUE)\n",
    "library(scanpath)"
   ],
   "outputs": [
    {
     "name": "stderr",
     "output_type": "stream",
     "text": [
      "R[write to console]: Loading required package: usethis\n",
      "\n",
      "R[write to console]: Using GitHub PAT from the git credential store.\n",
      "\n",
      "R[write to console]: Skipping install of 'scanpath' from a github remote, the SHA1 (6984b604) has not changed since last install.\n",
      "  Use `force = TRUE` to force installation\n",
      "\n"
     ]
    }
   ],
   "execution_count": 3
  },
  {
   "cell_type": "code",
   "metadata": {
    "ExecuteTime": {
     "end_time": "2025-05-11T11:11:55.323122Z",
     "start_time": "2025-05-11T11:11:55.273081Z"
    }
   },
   "source": [
    "import numpy as np\n",
    "import pandas as pd\n",
    "import rpy2.robjects as ro\n",
    "\n",
    "\n",
    "def scasim_py(\n",
    "    df: pd.DataFrame,\n",
    "    formula: str,\n",
    "    center_x: int = 1280,\n",
    "    center_y: int = 720,\n",
    "    viewing_distance: int = 77,\n",
    "    unit_size: float = 1 / 60,\n",
    "    normalize: bool | str = False,\n",
    ") -> np.ndarray:\n",
    "    ro.pandas2ri.activate()\n",
    "    scanpath = ro.packages.importr(name=\"scanpath\")\n",
    "\n",
    "    with (ro.default_converter + ro.pandas2ri.converter).context():\n",
    "        r_dataframe = ro.conversion.get_conversion().py2rpy(df)\n",
    "\n",
    "    return scanpath.scasim(\n",
    "        data=r_dataframe,\n",
    "        formula=ro.Formula(formula),\n",
    "        center_x=center_x,\n",
    "        center_y=center_y,\n",
    "        viewing_distance=viewing_distance,\n",
    "        unit_size=unit_size,\n",
    "        normalize=normalize,\n",
    "    )\n",
    "\n",
    "\n",
    "def alignment_plot_py(\n",
    "    sp1: pd.DataFrame,\n",
    "    sp2: pd.DataFrame,\n",
    "    diff_by: str = \"synthesized\",\n",
    "    center_x: int = 1280,\n",
    "    center_y: int = 720,\n",
    "    viewing_distance: int = 77,\n",
    "    unit_size: float = 1 / 60,\n",
    "):\n",
    "    ro.pandas2ri.activate()\n",
    "    scanpath = ro.packages.importr(name=\"scanpath\")\n",
    "    ggplot = ro.packages.importr(\"ggplot2\")\n",
    "\n",
    "    with (ro.default_converter + ro.pandas2ri.converter).context():\n",
    "        sp_r_df_1 = ro.conversion.get_conversion().py2rpy(sp1)\n",
    "        sp_r_df_2 = ro.conversion.get_conversion().py2rpy(sp2)\n",
    "\n",
    "    alignment = scanpath.rscasim(\n",
    "        sp_r_df_1,\n",
    "        sp_r_df_2,\n",
    "        formula=ro.Formula(\n",
    "            f\"CURRENT_FIX_DURATION ~ CURRENT_FIX_X + CURRENT_FIX_Y | {diff_by}\"\n",
    "        ),\n",
    "        center_x=center_x,\n",
    "        center_y=center_y,\n",
    "        viewing_distance=viewing_distance,\n",
    "        unit_size=unit_size,\n",
    "    )\n",
    "\n",
    "    alignment_plot = scanpath.plot_alignment(\n",
    "        sp_r_df_1,\n",
    "        sp_r_df_2,\n",
    "        ro.conversion.get_conversion().py2rpy(alignment),\n",
    "        ro.Formula(f\"CURRENT_FIX_DURATION ~ CURRENT_FIX_X + CURRENT_FIX_Y | {diff_by}\"),\n",
    "        10,\n",
    "        10,\n",
    "    )\n",
    "\n",
    "    # save the plot\n",
    "    ggplot.ggsave(\n",
    "        ro.conversion.get_conversion().py2rpy(alignment_plot), \"alignment_plot.png\"\n",
    "    )\n"
   ],
   "outputs": [
    {
     "ename": "TypeError",
     "evalue": "unsupported operand type(s) for |: 'type' and 'type'",
     "output_type": "error",
     "traceback": [
      "\u001B[1;31m---------------------------------------------------------------------------\u001B[0m",
      "\u001B[1;31mTypeError\u001B[0m                                 Traceback (most recent call last)",
      "Cell \u001B[1;32mIn[5], line 13\u001B[0m\n\u001B[0;32m      2\u001B[0m \u001B[38;5;28;01mimport\u001B[39;00m\u001B[38;5;250m \u001B[39m\u001B[38;5;21;01mpandas\u001B[39;00m\u001B[38;5;250m \u001B[39m\u001B[38;5;28;01mas\u001B[39;00m\u001B[38;5;250m \u001B[39m\u001B[38;5;21;01mpd\u001B[39;00m\n\u001B[0;32m      3\u001B[0m \u001B[38;5;28;01mimport\u001B[39;00m\u001B[38;5;250m \u001B[39m\u001B[38;5;21;01mrpy2\u001B[39;00m\u001B[38;5;21;01m.\u001B[39;00m\u001B[38;5;21;01mrobjects\u001B[39;00m\u001B[38;5;250m \u001B[39m\u001B[38;5;28;01mas\u001B[39;00m\u001B[38;5;250m \u001B[39m\u001B[38;5;21;01mro\u001B[39;00m\n\u001B[0;32m      6\u001B[0m \u001B[38;5;28;01mdef\u001B[39;00m\u001B[38;5;250m \u001B[39m\u001B[38;5;21mscasim_py\u001B[39m(\n\u001B[0;32m      7\u001B[0m     df: pd\u001B[38;5;241m.\u001B[39mDataFrame,\n\u001B[0;32m      8\u001B[0m     formula: \u001B[38;5;28mstr\u001B[39m,\n\u001B[0;32m      9\u001B[0m     center_x: \u001B[38;5;28mint\u001B[39m \u001B[38;5;241m=\u001B[39m \u001B[38;5;241m1280\u001B[39m,\n\u001B[0;32m     10\u001B[0m     center_y: \u001B[38;5;28mint\u001B[39m \u001B[38;5;241m=\u001B[39m \u001B[38;5;241m720\u001B[39m,\n\u001B[0;32m     11\u001B[0m     viewing_distance: \u001B[38;5;28mint\u001B[39m \u001B[38;5;241m=\u001B[39m \u001B[38;5;241m77\u001B[39m,\n\u001B[0;32m     12\u001B[0m     unit_size: \u001B[38;5;28mfloat\u001B[39m \u001B[38;5;241m=\u001B[39m \u001B[38;5;241m1\u001B[39m \u001B[38;5;241m/\u001B[39m \u001B[38;5;241m60\u001B[39m,\n\u001B[1;32m---> 13\u001B[0m     normalize: \u001B[38;5;28;43mbool\u001B[39;49m\u001B[43m \u001B[49m\u001B[38;5;241;43m|\u001B[39;49m\u001B[43m \u001B[49m\u001B[38;5;28;43mstr\u001B[39;49m \u001B[38;5;241m=\u001B[39m \u001B[38;5;28;01mFalse\u001B[39;00m,\n\u001B[0;32m     14\u001B[0m ) \u001B[38;5;241m-\u001B[39m\u001B[38;5;241m>\u001B[39m np\u001B[38;5;241m.\u001B[39mndarray:\n\u001B[0;32m     15\u001B[0m     ro\u001B[38;5;241m.\u001B[39mpandas2ri\u001B[38;5;241m.\u001B[39mactivate()\n\u001B[0;32m     16\u001B[0m     scanpath \u001B[38;5;241m=\u001B[39m ro\u001B[38;5;241m.\u001B[39mpackages\u001B[38;5;241m.\u001B[39mimportr(name\u001B[38;5;241m=\u001B[39m\u001B[38;5;124m\"\u001B[39m\u001B[38;5;124mscanpath\u001B[39m\u001B[38;5;124m\"\u001B[39m)\n",
      "\u001B[1;31mTypeError\u001B[0m: unsupported operand type(s) for |: 'type' and 'type'"
     ]
    }
   ],
   "execution_count": 5
  },
  {
   "cell_type": "code",
   "metadata": {
    "ExecuteTime": {
     "end_time": "2025-05-05T14:26:52.626030Z",
     "start_time": "2025-05-05T14:26:45.419234Z"
    }
   },
   "source": [
    "differentiate_trial_by_col = None\n",
    "multiple_scanpaths_df = None\n",
    "\n",
    "distances = scasim_py(\n",
    "    df=multiple_scanpaths_df,\n",
    "    formula=f\"CURRENT_FIX_DURATION ~ CURRENT_FIX_X + CURRENT_FIX_Y | {differentiate_trial_by_col}\",\n",
    ")\n"
   ],
   "outputs": [],
   "execution_count": 35
  }
 ],
 "metadata": {
  "kernelspec": {
   "display_name": "Python 3 (ipykernel)",
   "language": "python",
   "name": "python3"
  },
  "language_info": {
   "codemirror_mode": {
    "name": "ipython",
    "version": 3
   },
   "file_extension": ".py",
   "mimetype": "text/x-python",
   "name": "python",
   "nbconvert_exporter": "python",
   "pygments_lexer": "ipython3",
   "version": "3.10.15"
  }
 },
 "nbformat": 4,
 "nbformat_minor": 4
}
